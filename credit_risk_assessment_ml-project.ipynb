{
 "cells": [
  {
   "cell_type": "code",
   "execution_count": 1,
   "metadata": {
    "_cell_guid": "b1076dfc-b9ad-4769-8c92-a6c4dae69d19",
    "_uuid": "8f2839f25d086af736a60e9eeb907d3b93b6e0e5",
    "execution": {
     "iopub.execute_input": "2023-04-11T19:01:34.924236Z",
     "iopub.status.busy": "2023-04-11T19:01:34.923534Z",
     "iopub.status.idle": "2023-04-11T19:01:34.942655Z",
     "shell.execute_reply": "2023-04-11T19:01:34.941323Z",
     "shell.execute_reply.started": "2023-04-11T19:01:34.924184Z"
    }
   },
   "outputs": [],
   "source": [
    "import numpy as np \n",
    "import pandas as pd \n",
    "import warnings\n",
    "warnings.filterwarnings('ignore')"
   ]
  },
  {
   "cell_type": "markdown",
   "metadata": {},
   "source": [
    "# ABOUT DATA PROBLEM :: "
   ]
  },
  {
   "cell_type": "markdown",
   "metadata": {},
   "source": [
    "\n",
    "Credit scoring is a widely used risk management technique in the financial sector. It makes use of personal information and data provided by credit card applicants to estimate future bankruptcies and credit card loans. The bank has the authority to determine whether or not to provide the applicant a credit card. Credit scores can estimate the level of risk objectively.\n",
    "\n",
    "A machine learning model is required to predict if an application is a 'good' or 'bad' user in this dataset. However, there is no definition of 'good' or 'bad'. Additionally, the unbalanced data problem is a significant issue in this project."
   ]
  },
  {
   "cell_type": "markdown",
   "metadata": {},
   "source": [
    "There are 2 datasets will be used in this notebook:\n",
    "\n",
    "**Application record (contains general information about applicant, such as applicant gender, DOB, education type, assets that applicant had, etc.)**\n",
    "\n",
    "**Credit record (contains applicant's loan payment records)**"
   ]
  },
  {
   "cell_type": "markdown",
   "metadata": {},
   "source": [
    "# Reading & Analyzing Data"
   ]
  },
  {
   "cell_type": "code",
   "execution_count": 2,
   "metadata": {
    "execution": {
     "iopub.execute_input": "2023-04-11T19:01:34.953801Z",
     "iopub.status.busy": "2023-04-11T19:01:34.952913Z",
     "iopub.status.idle": "2023-04-11T19:01:37.141128Z",
     "shell.execute_reply": "2023-04-11T19:01:37.139985Z",
     "shell.execute_reply.started": "2023-04-11T19:01:34.953762Z"
    }
   },
   "outputs": [],
   "source": [
    "df_application = pd.read_csv('application_record.csv')\n",
    "df_credit = pd.read_csv('credit_record.csv')"
   ]
  },
  {
   "cell_type": "code",
   "execution_count": 3,
   "metadata": {
    "execution": {
     "iopub.execute_input": "2023-04-11T19:01:37.149835Z",
     "iopub.status.busy": "2023-04-11T19:01:37.147257Z",
     "iopub.status.idle": "2023-04-11T19:01:37.160462Z",
     "shell.execute_reply": "2023-04-11T19:01:37.159261Z",
     "shell.execute_reply.started": "2023-04-11T19:01:37.149791Z"
    }
   },
   "outputs": [
    {
     "name": "stdout",
     "output_type": "stream",
     "text": [
      "Shape of application data (438557, 18)\n",
      "-------------------------------------------\n",
      "Shape of credit data (1048575, 3)\n"
     ]
    }
   ],
   "source": [
    "print(\"Shape of application data\",df_application.shape)\n",
    "print(\"-------------------------------------------\")\n",
    "print(\"Shape of credit data\",df_credit.shape)"
   ]
  },
  {
   "cell_type": "code",
   "execution_count": 4,
   "metadata": {
    "execution": {
     "iopub.execute_input": "2023-04-11T19:01:37.165855Z",
     "iopub.status.busy": "2023-04-11T19:01:37.165217Z",
     "iopub.status.idle": "2023-04-11T19:01:37.178627Z",
     "shell.execute_reply": "2023-04-11T19:01:37.177446Z",
     "shell.execute_reply.started": "2023-04-11T19:01:37.165817Z"
    }
   },
   "outputs": [
    {
     "name": "stdout",
     "output_type": "stream",
     "text": [
      "Columns of application data Index(['ID', 'CODE_GENDER', 'FLAG_OWN_CAR', 'FLAG_OWN_REALTY', 'CNT_CHILDREN',\n",
      "       'AMT_INCOME_TOTAL', 'NAME_INCOME_TYPE', 'NAME_EDUCATION_TYPE',\n",
      "       'NAME_FAMILY_STATUS', 'NAME_HOUSING_TYPE', 'DAYS_BIRTH',\n",
      "       'DAYS_EMPLOYED', 'FLAG_MOBIL', 'FLAG_WORK_PHONE', 'FLAG_PHONE',\n",
      "       'FLAG_EMAIL', 'OCCUPATION_TYPE', 'CNT_FAM_MEMBERS'],\n",
      "      dtype='object')\n",
      "-------------------------------------------\n",
      "Columns of credit data Index(['ID', 'MONTHS_BALANCE', 'STATUS'], dtype='object')\n"
     ]
    }
   ],
   "source": [
    "print(\"Columns of application data\",df_application.columns)\n",
    "print(\"-------------------------------------------\")\n",
    "print(\"Columns of credit data\",df_credit.columns)"
   ]
  },
  {
   "cell_type": "code",
   "execution_count": 5,
   "metadata": {
    "execution": {
     "iopub.execute_input": "2023-04-11T19:01:37.182919Z",
     "iopub.status.busy": "2023-04-11T19:01:37.181615Z",
     "iopub.status.idle": "2023-04-11T19:01:37.197580Z",
     "shell.execute_reply": "2023-04-11T19:01:37.196451Z",
     "shell.execute_reply.started": "2023-04-11T19:01:37.182882Z"
    }
   },
   "outputs": [
    {
     "name": "stdout",
     "output_type": "stream",
     "text": [
      "data type of application data ID                       int64\n",
      "CODE_GENDER             object\n",
      "FLAG_OWN_CAR            object\n",
      "FLAG_OWN_REALTY         object\n",
      "CNT_CHILDREN             int64\n",
      "AMT_INCOME_TOTAL       float64\n",
      "NAME_INCOME_TYPE        object\n",
      "NAME_EDUCATION_TYPE     object\n",
      "NAME_FAMILY_STATUS      object\n",
      "NAME_HOUSING_TYPE       object\n",
      "DAYS_BIRTH               int64\n",
      "DAYS_EMPLOYED            int64\n",
      "FLAG_MOBIL               int64\n",
      "FLAG_WORK_PHONE          int64\n",
      "FLAG_PHONE               int64\n",
      "FLAG_EMAIL               int64\n",
      "OCCUPATION_TYPE         object\n",
      "CNT_FAM_MEMBERS        float64\n",
      "dtype: object\n",
      "-------------------------------------------\n",
      "data type of credit data ID                 int64\n",
      "MONTHS_BALANCE     int64\n",
      "STATUS            object\n",
      "dtype: object\n"
     ]
    }
   ],
   "source": [
    "print(\"data type of application data\",df_application.dtypes)\n",
    "print(\"-------------------------------------------\")\n",
    "print(\"data type of credit data\",df_credit.dtypes)"
   ]
  },
  {
   "cell_type": "code",
   "execution_count": 6,
   "metadata": {
    "execution": {
     "iopub.execute_input": "2023-04-11T19:01:37.201304Z",
     "iopub.status.busy": "2023-04-11T19:01:37.199948Z",
     "iopub.status.idle": "2023-04-11T19:01:37.272218Z",
     "shell.execute_reply": "2023-04-11T19:01:37.270926Z",
     "shell.execute_reply.started": "2023-04-11T19:01:37.201264Z"
    }
   },
   "outputs": [
    {
     "name": "stdout",
     "output_type": "stream",
     "text": [
      "columns in application data\n",
      "--------------------------------------------------------------------------------\n",
      "categorical columns in application data ['CODE_GENDER', 'FLAG_OWN_CAR', 'FLAG_OWN_REALTY', 'NAME_INCOME_TYPE', 'NAME_EDUCATION_TYPE', 'NAME_FAMILY_STATUS', 'NAME_HOUSING_TYPE', 'OCCUPATION_TYPE']\n",
      "--------------------------------------------------------------------------------\n",
      "numerical columns in application data ['ID', 'CNT_CHILDREN', 'AMT_INCOME_TOTAL', 'DAYS_BIRTH', 'DAYS_EMPLOYED', 'FLAG_MOBIL', 'FLAG_WORK_PHONE', 'FLAG_PHONE', 'FLAG_EMAIL', 'CNT_FAM_MEMBERS']\n"
     ]
    }
   ],
   "source": [
    "print(\"columns in application data\")\n",
    "print(\"--------------------------------------------------------------------------------\")\n",
    "cat_app_data = [i for i in df_application.select_dtypes(include=object).columns]\n",
    "num_app_data = [i for i in df_application.select_dtypes(include=np.number).columns]\n",
    "print(\"categorical columns in application data\",cat_app_data)\n",
    "print(\"--------------------------------------------------------------------------------\")\n",
    "print(\"numerical columns in application data\",num_app_data)"
   ]
  },
  {
   "cell_type": "code",
   "execution_count": 7,
   "metadata": {
    "execution": {
     "iopub.execute_input": "2023-04-11T19:01:37.277769Z",
     "iopub.status.busy": "2023-04-11T19:01:37.277023Z",
     "iopub.status.idle": "2023-04-11T19:01:37.317023Z",
     "shell.execute_reply": "2023-04-11T19:01:37.313884Z",
     "shell.execute_reply.started": "2023-04-11T19:01:37.277726Z"
    }
   },
   "outputs": [
    {
     "name": "stdout",
     "output_type": "stream",
     "text": [
      "columns in credit data\n",
      "--------------------------------------------------------------------------------\n",
      "categorical columns in application data ['STATUS']\n",
      "--------------------------------------------------------------------------------\n",
      "numerical columns in application data ['ID', 'MONTHS_BALANCE']\n"
     ]
    }
   ],
   "source": [
    "print(\"columns in credit data\")\n",
    "print(\"--------------------------------------------------------------------------------\")\n",
    "cat_credit_data = [i for i in df_credit.select_dtypes(include=object).columns]\n",
    "num_credit_data = [i for i in df_credit.select_dtypes(include=np.number).columns]\n",
    "print(\"categorical columns in application data\",cat_credit_data)\n",
    "print(\"--------------------------------------------------------------------------------\")\n",
    "print(\"numerical columns in application data\",num_credit_data)"
   ]
  },
  {
   "cell_type": "code",
   "execution_count": 8,
   "metadata": {
    "execution": {
     "iopub.execute_input": "2023-04-11T19:01:37.319463Z",
     "iopub.status.busy": "2023-04-11T19:01:37.318674Z",
     "iopub.status.idle": "2023-04-11T19:01:37.368505Z",
     "shell.execute_reply": "2023-04-11T19:01:37.367288Z",
     "shell.execute_reply.started": "2023-04-11T19:01:37.319409Z"
    }
   },
   "outputs": [
    {
     "data": {
      "text/html": [
       "<div>\n",
       "<style scoped>\n",
       "    .dataframe tbody tr th:only-of-type {\n",
       "        vertical-align: middle;\n",
       "    }\n",
       "\n",
       "    .dataframe tbody tr th {\n",
       "        vertical-align: top;\n",
       "    }\n",
       "\n",
       "    .dataframe thead th {\n",
       "        text-align: right;\n",
       "    }\n",
       "</style>\n",
       "<table border=\"1\" class=\"dataframe\">\n",
       "  <thead>\n",
       "    <tr style=\"text-align: right;\">\n",
       "      <th></th>\n",
       "      <th>ID</th>\n",
       "      <th>CODE_GENDER</th>\n",
       "      <th>FLAG_OWN_CAR</th>\n",
       "      <th>FLAG_OWN_REALTY</th>\n",
       "      <th>CNT_CHILDREN</th>\n",
       "      <th>AMT_INCOME_TOTAL</th>\n",
       "      <th>NAME_INCOME_TYPE</th>\n",
       "      <th>NAME_EDUCATION_TYPE</th>\n",
       "      <th>NAME_FAMILY_STATUS</th>\n",
       "      <th>NAME_HOUSING_TYPE</th>\n",
       "      <th>DAYS_BIRTH</th>\n",
       "      <th>DAYS_EMPLOYED</th>\n",
       "      <th>FLAG_MOBIL</th>\n",
       "      <th>FLAG_WORK_PHONE</th>\n",
       "      <th>FLAG_PHONE</th>\n",
       "      <th>FLAG_EMAIL</th>\n",
       "      <th>OCCUPATION_TYPE</th>\n",
       "      <th>CNT_FAM_MEMBERS</th>\n",
       "    </tr>\n",
       "  </thead>\n",
       "  <tbody>\n",
       "    <tr>\n",
       "      <th>194332</th>\n",
       "      <td>5885341</td>\n",
       "      <td>M</td>\n",
       "      <td>Y</td>\n",
       "      <td>N</td>\n",
       "      <td>0</td>\n",
       "      <td>225000.0</td>\n",
       "      <td>Working</td>\n",
       "      <td>Higher education</td>\n",
       "      <td>Married</td>\n",
       "      <td>House / apartment</td>\n",
       "      <td>-11945</td>\n",
       "      <td>-1008</td>\n",
       "      <td>1</td>\n",
       "      <td>1</td>\n",
       "      <td>0</td>\n",
       "      <td>0</td>\n",
       "      <td>Core staff</td>\n",
       "      <td>2.0</td>\n",
       "    </tr>\n",
       "    <tr>\n",
       "      <th>383589</th>\n",
       "      <td>6689527</td>\n",
       "      <td>M</td>\n",
       "      <td>Y</td>\n",
       "      <td>N</td>\n",
       "      <td>1</td>\n",
       "      <td>243000.0</td>\n",
       "      <td>State servant</td>\n",
       "      <td>Higher education</td>\n",
       "      <td>Married</td>\n",
       "      <td>House / apartment</td>\n",
       "      <td>-13430</td>\n",
       "      <td>-1676</td>\n",
       "      <td>1</td>\n",
       "      <td>1</td>\n",
       "      <td>0</td>\n",
       "      <td>0</td>\n",
       "      <td>NaN</td>\n",
       "      <td>3.0</td>\n",
       "    </tr>\n",
       "    <tr>\n",
       "      <th>153743</th>\n",
       "      <td>5727558</td>\n",
       "      <td>M</td>\n",
       "      <td>N</td>\n",
       "      <td>N</td>\n",
       "      <td>0</td>\n",
       "      <td>180000.0</td>\n",
       "      <td>Pensioner</td>\n",
       "      <td>Higher education</td>\n",
       "      <td>Single / not married</td>\n",
       "      <td>Municipal apartment</td>\n",
       "      <td>-23691</td>\n",
       "      <td>365243</td>\n",
       "      <td>1</td>\n",
       "      <td>0</td>\n",
       "      <td>1</td>\n",
       "      <td>0</td>\n",
       "      <td>NaN</td>\n",
       "      <td>1.0</td>\n",
       "    </tr>\n",
       "    <tr>\n",
       "      <th>325734</th>\n",
       "      <td>6292642</td>\n",
       "      <td>F</td>\n",
       "      <td>N</td>\n",
       "      <td>Y</td>\n",
       "      <td>0</td>\n",
       "      <td>135000.0</td>\n",
       "      <td>Pensioner</td>\n",
       "      <td>Secondary / secondary special</td>\n",
       "      <td>Married</td>\n",
       "      <td>House / apartment</td>\n",
       "      <td>-22276</td>\n",
       "      <td>365243</td>\n",
       "      <td>1</td>\n",
       "      <td>0</td>\n",
       "      <td>0</td>\n",
       "      <td>0</td>\n",
       "      <td>NaN</td>\n",
       "      <td>2.0</td>\n",
       "    </tr>\n",
       "    <tr>\n",
       "      <th>433635</th>\n",
       "      <td>7491546</td>\n",
       "      <td>F</td>\n",
       "      <td>N</td>\n",
       "      <td>N</td>\n",
       "      <td>0</td>\n",
       "      <td>135000.0</td>\n",
       "      <td>State servant</td>\n",
       "      <td>Secondary / secondary special</td>\n",
       "      <td>Married</td>\n",
       "      <td>House / apartment</td>\n",
       "      <td>-18850</td>\n",
       "      <td>-645</td>\n",
       "      <td>1</td>\n",
       "      <td>1</td>\n",
       "      <td>0</td>\n",
       "      <td>0</td>\n",
       "      <td>Medicine staff</td>\n",
       "      <td>2.0</td>\n",
       "    </tr>\n",
       "  </tbody>\n",
       "</table>\n",
       "</div>"
      ],
      "text/plain": [
       "             ID CODE_GENDER FLAG_OWN_CAR FLAG_OWN_REALTY  CNT_CHILDREN  \\\n",
       "194332  5885341           M            Y               N             0   \n",
       "383589  6689527           M            Y               N             1   \n",
       "153743  5727558           M            N               N             0   \n",
       "325734  6292642           F            N               Y             0   \n",
       "433635  7491546           F            N               N             0   \n",
       "\n",
       "        AMT_INCOME_TOTAL NAME_INCOME_TYPE            NAME_EDUCATION_TYPE  \\\n",
       "194332          225000.0          Working               Higher education   \n",
       "383589          243000.0    State servant               Higher education   \n",
       "153743          180000.0        Pensioner               Higher education   \n",
       "325734          135000.0        Pensioner  Secondary / secondary special   \n",
       "433635          135000.0    State servant  Secondary / secondary special   \n",
       "\n",
       "          NAME_FAMILY_STATUS    NAME_HOUSING_TYPE  DAYS_BIRTH  DAYS_EMPLOYED  \\\n",
       "194332               Married    House / apartment      -11945          -1008   \n",
       "383589               Married    House / apartment      -13430          -1676   \n",
       "153743  Single / not married  Municipal apartment      -23691         365243   \n",
       "325734               Married    House / apartment      -22276         365243   \n",
       "433635               Married    House / apartment      -18850           -645   \n",
       "\n",
       "        FLAG_MOBIL  FLAG_WORK_PHONE  FLAG_PHONE  FLAG_EMAIL OCCUPATION_TYPE  \\\n",
       "194332           1                1           0           0      Core staff   \n",
       "383589           1                1           0           0             NaN   \n",
       "153743           1                0           1           0             NaN   \n",
       "325734           1                0           0           0             NaN   \n",
       "433635           1                1           0           0  Medicine staff   \n",
       "\n",
       "        CNT_FAM_MEMBERS  \n",
       "194332              2.0  \n",
       "383589              3.0  \n",
       "153743              1.0  \n",
       "325734              2.0  \n",
       "433635              2.0  "
      ]
     },
     "execution_count": 8,
     "metadata": {},
     "output_type": "execute_result"
    }
   ],
   "source": [
    "df_application.sample(5)"
   ]
  },
  {
   "cell_type": "code",
   "execution_count": 9,
   "metadata": {
    "execution": {
     "iopub.execute_input": "2023-04-11T19:01:37.375329Z",
     "iopub.status.busy": "2023-04-11T19:01:37.374120Z",
     "iopub.status.idle": "2023-04-11T19:01:37.434699Z",
     "shell.execute_reply": "2023-04-11T19:01:37.432901Z",
     "shell.execute_reply.started": "2023-04-11T19:01:37.375286Z"
    }
   },
   "outputs": [
    {
     "data": {
      "text/html": [
       "<div>\n",
       "<style scoped>\n",
       "    .dataframe tbody tr th:only-of-type {\n",
       "        vertical-align: middle;\n",
       "    }\n",
       "\n",
       "    .dataframe tbody tr th {\n",
       "        vertical-align: top;\n",
       "    }\n",
       "\n",
       "    .dataframe thead th {\n",
       "        text-align: right;\n",
       "    }\n",
       "</style>\n",
       "<table border=\"1\" class=\"dataframe\">\n",
       "  <thead>\n",
       "    <tr style=\"text-align: right;\">\n",
       "      <th></th>\n",
       "      <th>ID</th>\n",
       "      <th>MONTHS_BALANCE</th>\n",
       "      <th>STATUS</th>\n",
       "    </tr>\n",
       "  </thead>\n",
       "  <tbody>\n",
       "    <tr>\n",
       "      <th>0</th>\n",
       "      <td>5001711</td>\n",
       "      <td>0</td>\n",
       "      <td>X</td>\n",
       "    </tr>\n",
       "    <tr>\n",
       "      <th>1</th>\n",
       "      <td>5001711</td>\n",
       "      <td>-1</td>\n",
       "      <td>0</td>\n",
       "    </tr>\n",
       "    <tr>\n",
       "      <th>2</th>\n",
       "      <td>5001711</td>\n",
       "      <td>-2</td>\n",
       "      <td>0</td>\n",
       "    </tr>\n",
       "    <tr>\n",
       "      <th>3</th>\n",
       "      <td>5001711</td>\n",
       "      <td>-3</td>\n",
       "      <td>0</td>\n",
       "    </tr>\n",
       "    <tr>\n",
       "      <th>4</th>\n",
       "      <td>5001712</td>\n",
       "      <td>0</td>\n",
       "      <td>C</td>\n",
       "    </tr>\n",
       "  </tbody>\n",
       "</table>\n",
       "</div>"
      ],
      "text/plain": [
       "        ID  MONTHS_BALANCE STATUS\n",
       "0  5001711               0      X\n",
       "1  5001711              -1      0\n",
       "2  5001711              -2      0\n",
       "3  5001711              -3      0\n",
       "4  5001712               0      C"
      ]
     },
     "execution_count": 9,
     "metadata": {},
     "output_type": "execute_result"
    }
   ],
   "source": [
    "df_credit.head()"
   ]
  },
  {
   "cell_type": "code",
   "execution_count": 10,
   "metadata": {
    "execution": {
     "iopub.execute_input": "2023-04-11T19:01:37.440762Z",
     "iopub.status.busy": "2023-04-11T19:01:37.439986Z",
     "iopub.status.idle": "2023-04-11T19:01:38.310371Z",
     "shell.execute_reply": "2023-04-11T19:01:38.309161Z",
     "shell.execute_reply.started": "2023-04-11T19:01:37.440722Z"
    }
   },
   "outputs": [],
   "source": [
    "df_final = pd.merge(df_application, df_credit, on='ID', how='inner')"
   ]
  },
  {
   "cell_type": "code",
   "execution_count": 11,
   "metadata": {
    "execution": {
     "iopub.execute_input": "2023-04-11T19:01:38.316027Z",
     "iopub.status.busy": "2023-04-11T19:01:38.315164Z",
     "iopub.status.idle": "2023-04-11T19:01:38.325887Z",
     "shell.execute_reply": "2023-04-11T19:01:38.324852Z",
     "shell.execute_reply.started": "2023-04-11T19:01:38.315986Z"
    }
   },
   "outputs": [
    {
     "data": {
      "text/plain": [
       "(777715, 20)"
      ]
     },
     "execution_count": 11,
     "metadata": {},
     "output_type": "execute_result"
    }
   ],
   "source": [
    "df_final.shape"
   ]
  },
  {
   "cell_type": "code",
   "execution_count": 12,
   "metadata": {
    "execution": {
     "iopub.execute_input": "2023-04-11T19:01:38.328101Z",
     "iopub.status.busy": "2023-04-11T19:01:38.327396Z",
     "iopub.status.idle": "2023-04-11T19:01:38.340169Z",
     "shell.execute_reply": "2023-04-11T19:01:38.338634Z",
     "shell.execute_reply.started": "2023-04-11T19:01:38.328063Z"
    }
   },
   "outputs": [
    {
     "data": {
      "text/plain": [
       "Index(['ID', 'CODE_GENDER', 'FLAG_OWN_CAR', 'FLAG_OWN_REALTY', 'CNT_CHILDREN',\n",
       "       'AMT_INCOME_TOTAL', 'NAME_INCOME_TYPE', 'NAME_EDUCATION_TYPE',\n",
       "       'NAME_FAMILY_STATUS', 'NAME_HOUSING_TYPE', 'DAYS_BIRTH',\n",
       "       'DAYS_EMPLOYED', 'FLAG_MOBIL', 'FLAG_WORK_PHONE', 'FLAG_PHONE',\n",
       "       'FLAG_EMAIL', 'OCCUPATION_TYPE', 'CNT_FAM_MEMBERS', 'MONTHS_BALANCE',\n",
       "       'STATUS'],\n",
       "      dtype='object')"
      ]
     },
     "execution_count": 12,
     "metadata": {},
     "output_type": "execute_result"
    }
   ],
   "source": [
    "df_final.columns"
   ]
  },
  {
   "cell_type": "code",
   "execution_count": 13,
   "metadata": {
    "execution": {
     "iopub.execute_input": "2023-04-11T19:01:38.342429Z",
     "iopub.status.busy": "2023-04-11T19:01:38.341970Z",
     "iopub.status.idle": "2023-04-11T19:01:38.954051Z",
     "shell.execute_reply": "2023-04-11T19:01:38.952917Z",
     "shell.execute_reply.started": "2023-04-11T19:01:38.342393Z"
    }
   },
   "outputs": [
    {
     "data": {
      "text/html": [
       "<div>\n",
       "<style scoped>\n",
       "    .dataframe tbody tr th:only-of-type {\n",
       "        vertical-align: middle;\n",
       "    }\n",
       "\n",
       "    .dataframe tbody tr th {\n",
       "        vertical-align: top;\n",
       "    }\n",
       "\n",
       "    .dataframe thead th {\n",
       "        text-align: right;\n",
       "    }\n",
       "</style>\n",
       "<table border=\"1\" class=\"dataframe\">\n",
       "  <thead>\n",
       "    <tr style=\"text-align: right;\">\n",
       "      <th></th>\n",
       "      <th>count</th>\n",
       "      <th>mean</th>\n",
       "      <th>std</th>\n",
       "      <th>min</th>\n",
       "      <th>25%</th>\n",
       "      <th>50%</th>\n",
       "      <th>75%</th>\n",
       "      <th>max</th>\n",
       "    </tr>\n",
       "  </thead>\n",
       "  <tbody>\n",
       "    <tr>\n",
       "      <th>ID</th>\n",
       "      <td>777715.0</td>\n",
       "      <td>5.078743e+06</td>\n",
       "      <td>41804.424817</td>\n",
       "      <td>5008804.0</td>\n",
       "      <td>5044568.5</td>\n",
       "      <td>5069530.0</td>\n",
       "      <td>5115551.0</td>\n",
       "      <td>5150487.0</td>\n",
       "    </tr>\n",
       "    <tr>\n",
       "      <th>CNT_CHILDREN</th>\n",
       "      <td>777715.0</td>\n",
       "      <td>4.280823e-01</td>\n",
       "      <td>0.745755</td>\n",
       "      <td>0.0</td>\n",
       "      <td>0.0</td>\n",
       "      <td>0.0</td>\n",
       "      <td>1.0</td>\n",
       "      <td>19.0</td>\n",
       "    </tr>\n",
       "    <tr>\n",
       "      <th>AMT_INCOME_TOTAL</th>\n",
       "      <td>777715.0</td>\n",
       "      <td>1.885348e+05</td>\n",
       "      <td>101622.450076</td>\n",
       "      <td>27000.0</td>\n",
       "      <td>121500.0</td>\n",
       "      <td>162000.0</td>\n",
       "      <td>225000.0</td>\n",
       "      <td>1575000.0</td>\n",
       "    </tr>\n",
       "    <tr>\n",
       "      <th>DAYS_BIRTH</th>\n",
       "      <td>777715.0</td>\n",
       "      <td>-1.612494e+04</td>\n",
       "      <td>4104.304018</td>\n",
       "      <td>-25152.0</td>\n",
       "      <td>-19453.0</td>\n",
       "      <td>-15760.0</td>\n",
       "      <td>-12716.0</td>\n",
       "      <td>-7489.0</td>\n",
       "    </tr>\n",
       "    <tr>\n",
       "      <th>DAYS_EMPLOYED</th>\n",
       "      <td>777715.0</td>\n",
       "      <td>5.777583e+04</td>\n",
       "      <td>136471.735391</td>\n",
       "      <td>-15713.0</td>\n",
       "      <td>-3292.0</td>\n",
       "      <td>-1682.0</td>\n",
       "      <td>-431.0</td>\n",
       "      <td>365243.0</td>\n",
       "    </tr>\n",
       "    <tr>\n",
       "      <th>FLAG_MOBIL</th>\n",
       "      <td>777715.0</td>\n",
       "      <td>1.000000e+00</td>\n",
       "      <td>0.000000</td>\n",
       "      <td>1.0</td>\n",
       "      <td>1.0</td>\n",
       "      <td>1.0</td>\n",
       "      <td>1.0</td>\n",
       "      <td>1.0</td>\n",
       "    </tr>\n",
       "    <tr>\n",
       "      <th>FLAG_WORK_PHONE</th>\n",
       "      <td>777715.0</td>\n",
       "      <td>2.318176e-01</td>\n",
       "      <td>0.421993</td>\n",
       "      <td>0.0</td>\n",
       "      <td>0.0</td>\n",
       "      <td>0.0</td>\n",
       "      <td>0.0</td>\n",
       "      <td>1.0</td>\n",
       "    </tr>\n",
       "    <tr>\n",
       "      <th>FLAG_PHONE</th>\n",
       "      <td>777715.0</td>\n",
       "      <td>3.009650e-01</td>\n",
       "      <td>0.458678</td>\n",
       "      <td>0.0</td>\n",
       "      <td>0.0</td>\n",
       "      <td>0.0</td>\n",
       "      <td>1.0</td>\n",
       "      <td>1.0</td>\n",
       "    </tr>\n",
       "    <tr>\n",
       "      <th>FLAG_EMAIL</th>\n",
       "      <td>777715.0</td>\n",
       "      <td>9.167497e-02</td>\n",
       "      <td>0.288567</td>\n",
       "      <td>0.0</td>\n",
       "      <td>0.0</td>\n",
       "      <td>0.0</td>\n",
       "      <td>0.0</td>\n",
       "      <td>1.0</td>\n",
       "    </tr>\n",
       "    <tr>\n",
       "      <th>CNT_FAM_MEMBERS</th>\n",
       "      <td>777715.0</td>\n",
       "      <td>2.208837e+00</td>\n",
       "      <td>0.907380</td>\n",
       "      <td>1.0</td>\n",
       "      <td>2.0</td>\n",
       "      <td>2.0</td>\n",
       "      <td>3.0</td>\n",
       "      <td>20.0</td>\n",
       "    </tr>\n",
       "    <tr>\n",
       "      <th>MONTHS_BALANCE</th>\n",
       "      <td>777715.0</td>\n",
       "      <td>-1.937356e+01</td>\n",
       "      <td>14.082208</td>\n",
       "      <td>-60.0</td>\n",
       "      <td>-29.0</td>\n",
       "      <td>-17.0</td>\n",
       "      <td>-8.0</td>\n",
       "      <td>0.0</td>\n",
       "    </tr>\n",
       "  </tbody>\n",
       "</table>\n",
       "</div>"
      ],
      "text/plain": [
       "                     count          mean            std        min        25%  \\\n",
       "ID                777715.0  5.078743e+06   41804.424817  5008804.0  5044568.5   \n",
       "CNT_CHILDREN      777715.0  4.280823e-01       0.745755        0.0        0.0   \n",
       "AMT_INCOME_TOTAL  777715.0  1.885348e+05  101622.450076    27000.0   121500.0   \n",
       "DAYS_BIRTH        777715.0 -1.612494e+04    4104.304018   -25152.0   -19453.0   \n",
       "DAYS_EMPLOYED     777715.0  5.777583e+04  136471.735391   -15713.0    -3292.0   \n",
       "FLAG_MOBIL        777715.0  1.000000e+00       0.000000        1.0        1.0   \n",
       "FLAG_WORK_PHONE   777715.0  2.318176e-01       0.421993        0.0        0.0   \n",
       "FLAG_PHONE        777715.0  3.009650e-01       0.458678        0.0        0.0   \n",
       "FLAG_EMAIL        777715.0  9.167497e-02       0.288567        0.0        0.0   \n",
       "CNT_FAM_MEMBERS   777715.0  2.208837e+00       0.907380        1.0        2.0   \n",
       "MONTHS_BALANCE    777715.0 -1.937356e+01      14.082208      -60.0      -29.0   \n",
       "\n",
       "                        50%        75%        max  \n",
       "ID                5069530.0  5115551.0  5150487.0  \n",
       "CNT_CHILDREN            0.0        1.0       19.0  \n",
       "AMT_INCOME_TOTAL   162000.0   225000.0  1575000.0  \n",
       "DAYS_BIRTH         -15760.0   -12716.0    -7489.0  \n",
       "DAYS_EMPLOYED       -1682.0     -431.0   365243.0  \n",
       "FLAG_MOBIL              1.0        1.0        1.0  \n",
       "FLAG_WORK_PHONE         0.0        0.0        1.0  \n",
       "FLAG_PHONE              0.0        1.0        1.0  \n",
       "FLAG_EMAIL              0.0        0.0        1.0  \n",
       "CNT_FAM_MEMBERS         2.0        3.0       20.0  \n",
       "MONTHS_BALANCE        -17.0       -8.0        0.0  "
      ]
     },
     "execution_count": 13,
     "metadata": {},
     "output_type": "execute_result"
    }
   ],
   "source": [
    "df_final.describe().T"
   ]
  },
  {
   "cell_type": "markdown",
   "metadata": {},
   "source": [
    "The current data file does not have credit card open date. Based on MONTHS_BALANCE, we will find the start month for each of the applicant. Then rearrange the data so that the status is available for month 0 (start month), month 1 (month 1 from the start) and so on.\n",
    "\n",
    "We assume for the data the earliest MONTHS_BALANCE is the start month for an account. So, we aim to change the as per the below diagram"
   ]
  },
  {
   "cell_type": "code",
   "execution_count": 14,
   "metadata": {
    "execution": {
     "iopub.execute_input": "2023-04-11T19:01:38.962067Z",
     "iopub.status.busy": "2023-04-11T19:01:38.959448Z",
     "iopub.status.idle": "2023-04-11T19:01:39.017631Z",
     "shell.execute_reply": "2023-04-11T19:01:39.016649Z",
     "shell.execute_reply.started": "2023-04-11T19:01:38.962023Z"
    }
   },
   "outputs": [
    {
     "data": {
      "text/html": [
       "<div>\n",
       "<style scoped>\n",
       "    .dataframe tbody tr th:only-of-type {\n",
       "        vertical-align: middle;\n",
       "    }\n",
       "\n",
       "    .dataframe tbody tr th {\n",
       "        vertical-align: top;\n",
       "    }\n",
       "\n",
       "    .dataframe thead th {\n",
       "        text-align: right;\n",
       "    }\n",
       "</style>\n",
       "<table border=\"1\" class=\"dataframe\">\n",
       "  <thead>\n",
       "    <tr style=\"text-align: right;\">\n",
       "      <th></th>\n",
       "      <th>ID</th>\n",
       "      <th>start_month</th>\n",
       "    </tr>\n",
       "  </thead>\n",
       "  <tbody>\n",
       "    <tr>\n",
       "      <th>0</th>\n",
       "      <td>5008804</td>\n",
       "      <td>-15</td>\n",
       "    </tr>\n",
       "    <tr>\n",
       "      <th>1</th>\n",
       "      <td>5008805</td>\n",
       "      <td>-14</td>\n",
       "    </tr>\n",
       "    <tr>\n",
       "      <th>2</th>\n",
       "      <td>5008806</td>\n",
       "      <td>-29</td>\n",
       "    </tr>\n",
       "    <tr>\n",
       "      <th>3</th>\n",
       "      <td>5008808</td>\n",
       "      <td>-4</td>\n",
       "    </tr>\n",
       "    <tr>\n",
       "      <th>4</th>\n",
       "      <td>5008809</td>\n",
       "      <td>-26</td>\n",
       "    </tr>\n",
       "  </tbody>\n",
       "</table>\n",
       "</div>"
      ],
      "text/plain": [
       "        ID  start_month\n",
       "0  5008804          -15\n",
       "1  5008805          -14\n",
       "2  5008806          -29\n",
       "3  5008808           -4\n",
       "4  5008809          -26"
      ]
     },
     "execution_count": 14,
     "metadata": {},
     "output_type": "execute_result"
    }
   ],
   "source": [
    "# Earliest Month\n",
    "credit_card_first_month =df_final.groupby(['ID']).agg(\n",
    "   start_month=  ('MONTHS_BALANCE', min)\n",
    "    ).reset_index()\n",
    "credit_card_first_month.head()"
   ]
  },
  {
   "cell_type": "markdown",
   "metadata": {},
   "source": [
    "We assume that the data were extracted as of 1-Jan-2023 and we are working on finding the calendar start month for each of the accounts. It may be useful to have the calendar account open date for a few analyses."
   ]
  },
  {
   "cell_type": "code",
   "execution_count": 15,
   "metadata": {
    "execution": {
     "iopub.execute_input": "2023-04-11T19:01:39.024494Z",
     "iopub.status.busy": "2023-04-11T19:01:39.022197Z",
     "iopub.status.idle": "2023-04-11T19:01:39.314853Z",
     "shell.execute_reply": "2023-04-11T19:01:39.313764Z",
     "shell.execute_reply.started": "2023-04-11T19:01:39.024454Z"
    }
   },
   "outputs": [],
   "source": [
    "import datetime\n",
    "credit_card_first_month['account_open_month']= datetime.datetime.strptime(\"2023-01-01\", \"%Y-%m-%d\")\n",
    "credit_card_first_month['account_open_month']= credit_card_first_month['account_open_month'] + credit_card_first_month['start_month'].values.astype(\"timedelta64[M]\")\n",
    "credit_card_first_month['account_open_month']=credit_card_first_month['account_open_month'].dt.strftime('%b-%Y')"
   ]
  },
  {
   "cell_type": "code",
   "execution_count": 16,
   "metadata": {
    "execution": {
     "iopub.execute_input": "2023-04-11T19:01:39.317358Z",
     "iopub.status.busy": "2023-04-11T19:01:39.316632Z",
     "iopub.status.idle": "2023-04-11T19:01:39.329834Z",
     "shell.execute_reply": "2023-04-11T19:01:39.328671Z",
     "shell.execute_reply.started": "2023-04-11T19:01:39.317317Z"
    }
   },
   "outputs": [
    {
     "data": {
      "text/html": [
       "<div>\n",
       "<style scoped>\n",
       "    .dataframe tbody tr th:only-of-type {\n",
       "        vertical-align: middle;\n",
       "    }\n",
       "\n",
       "    .dataframe tbody tr th {\n",
       "        vertical-align: top;\n",
       "    }\n",
       "\n",
       "    .dataframe thead th {\n",
       "        text-align: right;\n",
       "    }\n",
       "</style>\n",
       "<table border=\"1\" class=\"dataframe\">\n",
       "  <thead>\n",
       "    <tr style=\"text-align: right;\">\n",
       "      <th></th>\n",
       "      <th>ID</th>\n",
       "      <th>start_month</th>\n",
       "      <th>account_open_month</th>\n",
       "    </tr>\n",
       "  </thead>\n",
       "  <tbody>\n",
       "    <tr>\n",
       "      <th>0</th>\n",
       "      <td>5008804</td>\n",
       "      <td>-15</td>\n",
       "      <td>Oct-2021</td>\n",
       "    </tr>\n",
       "    <tr>\n",
       "      <th>1</th>\n",
       "      <td>5008805</td>\n",
       "      <td>-14</td>\n",
       "      <td>Nov-2021</td>\n",
       "    </tr>\n",
       "    <tr>\n",
       "      <th>2</th>\n",
       "      <td>5008806</td>\n",
       "      <td>-29</td>\n",
       "      <td>Jul-2020</td>\n",
       "    </tr>\n",
       "    <tr>\n",
       "      <th>3</th>\n",
       "      <td>5008808</td>\n",
       "      <td>-4</td>\n",
       "      <td>Sep-2022</td>\n",
       "    </tr>\n",
       "    <tr>\n",
       "      <th>4</th>\n",
       "      <td>5008809</td>\n",
       "      <td>-26</td>\n",
       "      <td>Oct-2020</td>\n",
       "    </tr>\n",
       "  </tbody>\n",
       "</table>\n",
       "</div>"
      ],
      "text/plain": [
       "        ID  start_month account_open_month\n",
       "0  5008804          -15           Oct-2021\n",
       "1  5008805          -14           Nov-2021\n",
       "2  5008806          -29           Jul-2020\n",
       "3  5008808           -4           Sep-2022\n",
       "4  5008809          -26           Oct-2020"
      ]
     },
     "execution_count": 16,
     "metadata": {},
     "output_type": "execute_result"
    }
   ],
   "source": [
    "credit_card_first_month.head()"
   ]
  },
  {
   "cell_type": "markdown",
   "metadata": {},
   "source": [
    "Account 5008804 has been opened in Oct-2021 and the account 5008805 was opened in Nov-2021. We need to add the start month column to the credit status (credit_status) table."
   ]
  },
  {
   "cell_type": "code",
   "execution_count": 17,
   "metadata": {
    "execution": {
     "iopub.execute_input": "2023-04-11T19:01:39.332704Z",
     "iopub.status.busy": "2023-04-11T19:01:39.331970Z",
     "iopub.status.idle": "2023-04-11T19:01:39.525982Z",
     "shell.execute_reply": "2023-04-11T19:01:39.524876Z",
     "shell.execute_reply.started": "2023-04-11T19:01:39.332667Z"
    }
   },
   "outputs": [],
   "source": [
    "# join the table\n",
    "credit_start_status = pd.merge(credit_card_first_month, df_credit, how='left', on=['ID'])\n",
    "\n",
    "credit_start_status['start_month']=abs(credit_start_status['start_month'])+credit_start_status['MONTHS_BALANCE']"
   ]
  },
  {
   "cell_type": "code",
   "execution_count": 18,
   "metadata": {
    "execution": {
     "iopub.execute_input": "2023-04-11T19:01:39.528502Z",
     "iopub.status.busy": "2023-04-11T19:01:39.527760Z",
     "iopub.status.idle": "2023-04-11T19:01:39.542898Z",
     "shell.execute_reply": "2023-04-11T19:01:39.541642Z",
     "shell.execute_reply.started": "2023-04-11T19:01:39.528455Z"
    }
   },
   "outputs": [
    {
     "data": {
      "text/html": [
       "<div>\n",
       "<style scoped>\n",
       "    .dataframe tbody tr th:only-of-type {\n",
       "        vertical-align: middle;\n",
       "    }\n",
       "\n",
       "    .dataframe tbody tr th {\n",
       "        vertical-align: top;\n",
       "    }\n",
       "\n",
       "    .dataframe thead th {\n",
       "        text-align: right;\n",
       "    }\n",
       "</style>\n",
       "<table border=\"1\" class=\"dataframe\">\n",
       "  <thead>\n",
       "    <tr style=\"text-align: right;\">\n",
       "      <th></th>\n",
       "      <th>ID</th>\n",
       "      <th>start_month</th>\n",
       "      <th>account_open_month</th>\n",
       "      <th>MONTHS_BALANCE</th>\n",
       "      <th>STATUS</th>\n",
       "    </tr>\n",
       "  </thead>\n",
       "  <tbody>\n",
       "    <tr>\n",
       "      <th>0</th>\n",
       "      <td>5008804</td>\n",
       "      <td>15</td>\n",
       "      <td>Oct-2021</td>\n",
       "      <td>0</td>\n",
       "      <td>C</td>\n",
       "    </tr>\n",
       "    <tr>\n",
       "      <th>1</th>\n",
       "      <td>5008804</td>\n",
       "      <td>14</td>\n",
       "      <td>Oct-2021</td>\n",
       "      <td>-1</td>\n",
       "      <td>C</td>\n",
       "    </tr>\n",
       "    <tr>\n",
       "      <th>2</th>\n",
       "      <td>5008804</td>\n",
       "      <td>13</td>\n",
       "      <td>Oct-2021</td>\n",
       "      <td>-2</td>\n",
       "      <td>C</td>\n",
       "    </tr>\n",
       "    <tr>\n",
       "      <th>3</th>\n",
       "      <td>5008804</td>\n",
       "      <td>12</td>\n",
       "      <td>Oct-2021</td>\n",
       "      <td>-3</td>\n",
       "      <td>C</td>\n",
       "    </tr>\n",
       "    <tr>\n",
       "      <th>4</th>\n",
       "      <td>5008804</td>\n",
       "      <td>11</td>\n",
       "      <td>Oct-2021</td>\n",
       "      <td>-4</td>\n",
       "      <td>C</td>\n",
       "    </tr>\n",
       "    <tr>\n",
       "      <th>5</th>\n",
       "      <td>5008804</td>\n",
       "      <td>10</td>\n",
       "      <td>Oct-2021</td>\n",
       "      <td>-5</td>\n",
       "      <td>C</td>\n",
       "    </tr>\n",
       "    <tr>\n",
       "      <th>6</th>\n",
       "      <td>5008804</td>\n",
       "      <td>9</td>\n",
       "      <td>Oct-2021</td>\n",
       "      <td>-6</td>\n",
       "      <td>C</td>\n",
       "    </tr>\n",
       "    <tr>\n",
       "      <th>7</th>\n",
       "      <td>5008804</td>\n",
       "      <td>8</td>\n",
       "      <td>Oct-2021</td>\n",
       "      <td>-7</td>\n",
       "      <td>C</td>\n",
       "    </tr>\n",
       "    <tr>\n",
       "      <th>8</th>\n",
       "      <td>5008804</td>\n",
       "      <td>7</td>\n",
       "      <td>Oct-2021</td>\n",
       "      <td>-8</td>\n",
       "      <td>C</td>\n",
       "    </tr>\n",
       "    <tr>\n",
       "      <th>9</th>\n",
       "      <td>5008804</td>\n",
       "      <td>6</td>\n",
       "      <td>Oct-2021</td>\n",
       "      <td>-9</td>\n",
       "      <td>C</td>\n",
       "    </tr>\n",
       "  </tbody>\n",
       "</table>\n",
       "</div>"
      ],
      "text/plain": [
       "        ID  start_month account_open_month  MONTHS_BALANCE STATUS\n",
       "0  5008804           15           Oct-2021               0      C\n",
       "1  5008804           14           Oct-2021              -1      C\n",
       "2  5008804           13           Oct-2021              -2      C\n",
       "3  5008804           12           Oct-2021              -3      C\n",
       "4  5008804           11           Oct-2021              -4      C\n",
       "5  5008804           10           Oct-2021              -5      C\n",
       "6  5008804            9           Oct-2021              -6      C\n",
       "7  5008804            8           Oct-2021              -7      C\n",
       "8  5008804            7           Oct-2021              -8      C\n",
       "9  5008804            6           Oct-2021              -9      C"
      ]
     },
     "execution_count": 18,
     "metadata": {},
     "output_type": "execute_result"
    }
   ],
   "source": [
    "credit_start_status.head(10)"
   ]
  },
  {
   "cell_type": "markdown",
   "metadata": {},
   "source": [
    "You can see the status by month since the start (start_month) and the relevance of what we have done.\n",
    "\n",
    "Across all the acquisition months, now we can find portfolio performance across month 1, 2,5, 15, 20 months from their respective account open month. Distribution of account by the status across each of the months is calculated. First, we need to find the accounts by month and status code."
   ]
  },
  {
   "cell_type": "code",
   "execution_count": 19,
   "metadata": {
    "execution": {
     "iopub.execute_input": "2023-04-11T19:01:39.545241Z",
     "iopub.status.busy": "2023-04-11T19:01:39.544511Z",
     "iopub.status.idle": "2023-04-11T19:01:39.611962Z",
     "shell.execute_reply": "2023-04-11T19:01:39.610866Z",
     "shell.execute_reply.started": "2023-04-11T19:01:39.545193Z"
    }
   },
   "outputs": [
    {
     "data": {
      "text/plain": [
       "C    329536\n",
       "0    290654\n",
       "X    145950\n",
       "1      8747\n",
       "5      1527\n",
       "2       801\n",
       "3       286\n",
       "4       214\n",
       "Name: STATUS, dtype: int64"
      ]
     },
     "execution_count": 19,
     "metadata": {},
     "output_type": "execute_result"
    }
   ],
   "source": [
    "credit_start_status['STATUS'].value_counts()"
   ]
  },
  {
   "cell_type": "code",
   "execution_count": 20,
   "metadata": {
    "execution": {
     "iopub.execute_input": "2023-04-11T19:01:39.614408Z",
     "iopub.status.busy": "2023-04-11T19:01:39.613725Z",
     "iopub.status.idle": "2023-04-11T19:01:40.180866Z",
     "shell.execute_reply": "2023-04-11T19:01:40.179687Z",
     "shell.execute_reply.started": "2023-04-11T19:01:39.614371Z"
    }
   },
   "outputs": [
    {
     "data": {
      "image/png": "[encoded data removed]",
      "text/plain": [
       "<Figure size 1200x400 with 1 Axes>"
      ]
     },
     "metadata": {},
     "output_type": "display_data"
    }
   ],
   "source": [
    "accounts_counts =pd.DataFrame({'start_month':credit_start_status.groupby('start_month')['start_month'].count()})\n",
    "import matplotlib.pyplot as plt\n",
    "fig = plt.figure(figsize=(12,4))\n",
    "ax = fig.add_axes([0,0,1,1])\n",
    "ax.bar(accounts_counts.index,accounts_counts['start_month'])\n",
    "plt.show()"
   ]
  },
  {
   "cell_type": "markdown",
   "metadata": {},
   "source": [
    "We want to calculate % Bad Rate for the overall portfolio - across all the account open months. This will help us find the period by which the overall bad rate is stable.\n",
    "\n",
    "Another important observation is that only a small volume of credit card accounts was opened in the early months. These accounts may not be relevant to consider for the modeling. We can check the Bad Rate distribution for these accounts."
   ]
  },
  {
   "cell_type": "code",
   "execution_count": 21,
   "metadata": {
    "execution": {
     "iopub.execute_input": "2023-04-11T19:01:40.185605Z",
     "iopub.status.busy": "2023-04-11T19:01:40.185121Z",
     "iopub.status.idle": "2023-04-11T19:01:40.326911Z",
     "shell.execute_reply": "2023-04-11T19:01:40.325679Z",
     "shell.execute_reply.started": "2023-04-11T19:01:40.185542Z"
    }
   },
   "outputs": [
    {
     "data": {
      "text/html": [
       "<div>\n",
       "<style scoped>\n",
       "    .dataframe tbody tr th:only-of-type {\n",
       "        vertical-align: middle;\n",
       "    }\n",
       "\n",
       "    .dataframe tbody tr th {\n",
       "        vertical-align: top;\n",
       "    }\n",
       "\n",
       "    .dataframe thead th {\n",
       "        text-align: right;\n",
       "    }\n",
       "</style>\n",
       "<table border=\"1\" class=\"dataframe\">\n",
       "  <thead>\n",
       "    <tr style=\"text-align: right;\">\n",
       "      <th></th>\n",
       "      <th>start_month</th>\n",
       "      <th>STATUS</th>\n",
       "      <th>status_pct</th>\n",
       "    </tr>\n",
       "  </thead>\n",
       "  <tbody>\n",
       "    <tr>\n",
       "      <th>0</th>\n",
       "      <td>0</td>\n",
       "      <td>0</td>\n",
       "      <td>59.124448</td>\n",
       "    </tr>\n",
       "    <tr>\n",
       "      <th>1</th>\n",
       "      <td>0</td>\n",
       "      <td>1</td>\n",
       "      <td>0.021944</td>\n",
       "    </tr>\n",
       "    <tr>\n",
       "      <th>2</th>\n",
       "      <td>0</td>\n",
       "      <td>5</td>\n",
       "      <td>0.002743</td>\n",
       "    </tr>\n",
       "    <tr>\n",
       "      <th>3</th>\n",
       "      <td>0</td>\n",
       "      <td>C</td>\n",
       "      <td>0.828373</td>\n",
       "    </tr>\n",
       "    <tr>\n",
       "      <th>4</th>\n",
       "      <td>0</td>\n",
       "      <td>X</td>\n",
       "      <td>40.022492</td>\n",
       "    </tr>\n",
       "    <tr>\n",
       "      <th>5</th>\n",
       "      <td>1</td>\n",
       "      <td>0</td>\n",
       "      <td>73.191937</td>\n",
       "    </tr>\n",
       "    <tr>\n",
       "      <th>6</th>\n",
       "      <td>1</td>\n",
       "      <td>1</td>\n",
       "      <td>1.198915</td>\n",
       "    </tr>\n",
       "    <tr>\n",
       "      <th>7</th>\n",
       "      <td>1</td>\n",
       "      <td>2</td>\n",
       "      <td>0.008307</td>\n",
       "    </tr>\n",
       "    <tr>\n",
       "      <th>8</th>\n",
       "      <td>1</td>\n",
       "      <td>5</td>\n",
       "      <td>0.008307</td>\n",
       "    </tr>\n",
       "    <tr>\n",
       "      <th>9</th>\n",
       "      <td>1</td>\n",
       "      <td>C</td>\n",
       "      <td>2.694097</td>\n",
       "    </tr>\n",
       "    <tr>\n",
       "      <th>10</th>\n",
       "      <td>1</td>\n",
       "      <td>X</td>\n",
       "      <td>22.898438</td>\n",
       "    </tr>\n",
       "    <tr>\n",
       "      <th>11</th>\n",
       "      <td>2</td>\n",
       "      <td>0</td>\n",
       "      <td>72.632387</td>\n",
       "    </tr>\n",
       "    <tr>\n",
       "      <th>12</th>\n",
       "      <td>2</td>\n",
       "      <td>1</td>\n",
       "      <td>1.859962</td>\n",
       "    </tr>\n",
       "    <tr>\n",
       "      <th>13</th>\n",
       "      <td>2</td>\n",
       "      <td>2</td>\n",
       "      <td>0.122291</td>\n",
       "    </tr>\n",
       "    <tr>\n",
       "      <th>14</th>\n",
       "      <td>2</td>\n",
       "      <td>5</td>\n",
       "      <td>0.017064</td>\n",
       "    </tr>\n",
       "    <tr>\n",
       "      <th>15</th>\n",
       "      <td>2</td>\n",
       "      <td>C</td>\n",
       "      <td>4.425232</td>\n",
       "    </tr>\n",
       "    <tr>\n",
       "      <th>16</th>\n",
       "      <td>2</td>\n",
       "      <td>X</td>\n",
       "      <td>20.943064</td>\n",
       "    </tr>\n",
       "    <tr>\n",
       "      <th>17</th>\n",
       "      <td>3</td>\n",
       "      <td>0</td>\n",
       "      <td>70.255223</td>\n",
       "    </tr>\n",
       "    <tr>\n",
       "      <th>18</th>\n",
       "      <td>3</td>\n",
       "      <td>1</td>\n",
       "      <td>1.860697</td>\n",
       "    </tr>\n",
       "    <tr>\n",
       "      <th>19</th>\n",
       "      <td>3</td>\n",
       "      <td>2</td>\n",
       "      <td>0.137721</td>\n",
       "    </tr>\n",
       "  </tbody>\n",
       "</table>\n",
       "</div>"
      ],
      "text/plain": [
       "    start_month STATUS  status_pct\n",
       "0             0      0   59.124448\n",
       "1             0      1    0.021944\n",
       "2             0      5    0.002743\n",
       "3             0      C    0.828373\n",
       "4             0      X   40.022492\n",
       "5             1      0   73.191937\n",
       "6             1      1    1.198915\n",
       "7             1      2    0.008307\n",
       "8             1      5    0.008307\n",
       "9             1      C    2.694097\n",
       "10            1      X   22.898438\n",
       "11            2      0   72.632387\n",
       "12            2      1    1.859962\n",
       "13            2      2    0.122291\n",
       "14            2      5    0.017064\n",
       "15            2      C    4.425232\n",
       "16            2      X   20.943064\n",
       "17            3      0   70.255223\n",
       "18            3      1    1.860697\n",
       "19            3      2    0.137721"
      ]
     },
     "execution_count": 21,
     "metadata": {},
     "output_type": "execute_result"
    }
   ],
   "source": [
    "month_status_counts = credit_start_status.groupby(['start_month', 'STATUS']).size().reset_index(name='counts')\n",
    "month_counts = credit_start_status.groupby(['start_month']).size().reset_index(name='month_counts')\n",
    "# join the table\n",
    "month_status_pct = pd.merge(month_status_counts, month_counts, how='left', on=['start_month'])\n",
    "month_status_pct['status_pct']=month_status_pct['counts']/month_status_pct['month_counts']*100\n",
    "month_status_pct= month_status_pct.loc[:,['start_month','STATUS','status_pct']]\n",
    "month_status_pct.head(20)"
   ]
  },
  {
   "cell_type": "code",
   "execution_count": 22,
   "metadata": {
    "execution": {
     "iopub.execute_input": "2023-04-11T19:01:40.332101Z",
     "iopub.status.busy": "2023-04-11T19:01:40.331671Z",
     "iopub.status.idle": "2023-04-11T19:01:40.345699Z",
     "shell.execute_reply": "2023-04-11T19:01:40.344798Z",
     "shell.execute_reply.started": "2023-04-11T19:01:40.332065Z"
    }
   },
   "outputs": [
    {
     "data": {
      "text/html": [
       "<div>\n",
       "<style scoped>\n",
       "    .dataframe tbody tr th:only-of-type {\n",
       "        vertical-align: middle;\n",
       "    }\n",
       "\n",
       "    .dataframe tbody tr th {\n",
       "        vertical-align: top;\n",
       "    }\n",
       "\n",
       "    .dataframe thead th {\n",
       "        text-align: right;\n",
       "    }\n",
       "</style>\n",
       "<table border=\"1\" class=\"dataframe\">\n",
       "  <thead>\n",
       "    <tr style=\"text-align: right;\">\n",
       "      <th>STATUS</th>\n",
       "      <th>start_month</th>\n",
       "      <th>0</th>\n",
       "      <th>1</th>\n",
       "      <th>2</th>\n",
       "      <th>3</th>\n",
       "      <th>4</th>\n",
       "      <th>5</th>\n",
       "      <th>C</th>\n",
       "      <th>X</th>\n",
       "    </tr>\n",
       "  </thead>\n",
       "  <tbody>\n",
       "    <tr>\n",
       "      <th>0</th>\n",
       "      <td>0</td>\n",
       "      <td>59.124448</td>\n",
       "      <td>0.021944</td>\n",
       "      <td>0.000000</td>\n",
       "      <td>0.000000</td>\n",
       "      <td>0.000000</td>\n",
       "      <td>0.002743</td>\n",
       "      <td>0.828373</td>\n",
       "      <td>40.022492</td>\n",
       "    </tr>\n",
       "    <tr>\n",
       "      <th>1</th>\n",
       "      <td>1</td>\n",
       "      <td>73.191937</td>\n",
       "      <td>1.198915</td>\n",
       "      <td>0.008307</td>\n",
       "      <td>0.000000</td>\n",
       "      <td>0.000000</td>\n",
       "      <td>0.008307</td>\n",
       "      <td>2.694097</td>\n",
       "      <td>22.898438</td>\n",
       "    </tr>\n",
       "    <tr>\n",
       "      <th>2</th>\n",
       "      <td>2</td>\n",
       "      <td>72.632387</td>\n",
       "      <td>1.859962</td>\n",
       "      <td>0.122291</td>\n",
       "      <td>0.000000</td>\n",
       "      <td>0.000000</td>\n",
       "      <td>0.017064</td>\n",
       "      <td>4.425232</td>\n",
       "      <td>20.943064</td>\n",
       "    </tr>\n",
       "    <tr>\n",
       "      <th>3</th>\n",
       "      <td>3</td>\n",
       "      <td>70.255223</td>\n",
       "      <td>1.860697</td>\n",
       "      <td>0.137721</td>\n",
       "      <td>0.046884</td>\n",
       "      <td>0.000000</td>\n",
       "      <td>0.032233</td>\n",
       "      <td>7.477950</td>\n",
       "      <td>20.189293</td>\n",
       "    </tr>\n",
       "    <tr>\n",
       "      <th>4</th>\n",
       "      <td>4</td>\n",
       "      <td>66.343524</td>\n",
       "      <td>2.023947</td>\n",
       "      <td>0.176260</td>\n",
       "      <td>0.039506</td>\n",
       "      <td>0.042545</td>\n",
       "      <td>0.039506</td>\n",
       "      <td>11.268462</td>\n",
       "      <td>20.066249</td>\n",
       "    </tr>\n",
       "  </tbody>\n",
       "</table>\n",
       "</div>"
      ],
      "text/plain": [
       "STATUS  start_month          0         1         2         3         4  \\\n",
       "0                 0  59.124448  0.021944  0.000000  0.000000  0.000000   \n",
       "1                 1  73.191937  1.198915  0.008307  0.000000  0.000000   \n",
       "2                 2  72.632387  1.859962  0.122291  0.000000  0.000000   \n",
       "3                 3  70.255223  1.860697  0.137721  0.046884  0.000000   \n",
       "4                 4  66.343524  2.023947  0.176260  0.039506  0.042545   \n",
       "\n",
       "STATUS         5          C          X  \n",
       "0       0.002743   0.828373  40.022492  \n",
       "1       0.008307   2.694097  22.898438  \n",
       "2       0.017064   4.425232  20.943064  \n",
       "3       0.032233   7.477950  20.189293  \n",
       "4       0.039506  11.268462  20.066249  "
      ]
     },
     "execution_count": 22,
     "metadata": {},
     "output_type": "execute_result"
    }
   ],
   "source": [
    "# Restucture\n",
    "month_status_pct1 = month_status_pct.pivot(index='start_month', columns='STATUS', values='status_pct')\n",
    "# Fill with 0\n",
    "month_status_pct1=month_status_pct1.fillna(0).reset_index()\n",
    "month_status_pct1.head()"
   ]
  },
  {
   "cell_type": "code",
   "execution_count": 23,
   "metadata": {
    "execution": {
     "iopub.execute_input": "2023-04-11T19:01:40.352540Z",
     "iopub.status.busy": "2023-04-11T19:01:40.350357Z",
     "iopub.status.idle": "2023-04-11T19:01:40.738209Z",
     "shell.execute_reply": "2023-04-11T19:01:40.736941Z",
     "shell.execute_reply.started": "2023-04-11T19:01:40.352505Z"
    }
   },
   "outputs": [
    {
     "data": {
      "text/plain": [
       "Text(0, 0.5, '% Bad Rate')"
      ]
     },
     "execution_count": 23,
     "metadata": {},
     "output_type": "execute_result"
    },
    {
     "data": {
      "image/png": "[encoded data removed]",
      "text/plain": [
       "<Figure size 1200x400 with 1 Axes>"
      ]
     },
     "metadata": {},
     "output_type": "display_data"
    }
   ],
   "source": [
    "import matplotlib.pyplot as pt\n",
    "pt.figure(figsize=(12,4))\n",
    "pt.plot(month_status_pct1.index, month_status_pct1['4']+month_status_pct1['5'],\n",
    "     color='green', \n",
    "     linestyle='solid',\n",
    "     linewidth=2, \n",
    "     markersize=12)\n",
    "pt.xlabel('Months Since Opened')\n",
    "pt.ylabel('% Bad Rate')"
   ]
  },
  {
   "cell_type": "markdown",
   "metadata": {},
   "source": [
    "Bad Rate jump significantly for the accounts which are opened for over 50 months. There are the accounts that were opened for the initial days of the operations. It may not be a bad idea to exclude these accounts"
   ]
  },
  {
   "cell_type": "code",
   "execution_count": 24,
   "metadata": {
    "execution": {
     "iopub.execute_input": "2023-04-11T19:01:40.740740Z",
     "iopub.status.busy": "2023-04-11T19:01:40.739684Z",
     "iopub.status.idle": "2023-04-11T19:01:40.752335Z",
     "shell.execute_reply": "2023-04-11T19:01:40.751242Z",
     "shell.execute_reply.started": "2023-04-11T19:01:40.740698Z"
    }
   },
   "outputs": [],
   "source": [
    "month_status_pct2 = month_status_pct1.loc[month_status_pct1.index<=50]\n",
    "# drop column start_month\n",
    "month_status_pct2=month_status_pct2.drop('start_month', axis=1)"
   ]
  },
  {
   "cell_type": "code",
   "execution_count": 25,
   "metadata": {
    "execution": {
     "iopub.execute_input": "2023-04-11T19:01:40.754228Z",
     "iopub.status.busy": "2023-04-11T19:01:40.753678Z",
     "iopub.status.idle": "2023-04-11T19:01:41.141977Z",
     "shell.execute_reply": "2023-04-11T19:01:41.140852Z",
     "shell.execute_reply.started": "2023-04-11T19:01:40.754192Z"
    }
   },
   "outputs": [
    {
     "data": {
      "image/png": "[encoded data removed]",
      "text/plain": [
       "<Figure size 640x480 with 1 Axes>"
      ]
     },
     "metadata": {},
     "output_type": "display_data"
    }
   ],
   "source": [
    "import matplotlib.pyplot as plot\n",
    "month_status_pct2.plot.area(stacked=True);\n",
    "plot.show(block=True);"
   ]
  },
  {
   "cell_type": "code",
   "execution_count": 26,
   "metadata": {
    "execution": {
     "iopub.execute_input": "2023-04-11T19:01:41.147094Z",
     "iopub.status.busy": "2023-04-11T19:01:41.146215Z",
     "iopub.status.idle": "2023-04-11T19:01:41.402727Z",
     "shell.execute_reply": "2023-04-11T19:01:41.401658Z",
     "shell.execute_reply.started": "2023-04-11T19:01:41.147050Z"
    }
   },
   "outputs": [
    {
     "data": {
      "text/plain": [
       "[<matplotlib.lines.Line2D at 0x15ab1c78050>]"
      ]
     },
     "execution_count": 26,
     "metadata": {},
     "output_type": "execute_result"
    },
    {
     "data": {
      "image/png": "[encoded data removed]",
      "text/plain": [
       "<Figure size 640x480 with 1 Axes>"
      ]
     },
     "metadata": {},
     "output_type": "display_data"
    }
   ],
   "source": [
    "import matplotlib.pyplot as pt\n",
    "pt.plot(month_status_pct2.index, month_status_pct2['4']+month_status_pct2['5'],\n",
    "     color='green', \n",
    "     linestyle='solid',\n",
    "     linewidth=2, \n",
    "     markersize=12)"
   ]
  },
  {
   "cell_type": "markdown",
   "metadata": {},
   "source": [
    "The bad rate is almost settled after 18 months from the start, we may decide to consider it as a performance window. Any of the accounts which become bad in the first 18 months, will be termed as Bad and rest as Good.\n",
    "\n",
    "There may be a difference in performance - Bad rate % by acquisition month. But we are not it exploring that further. Based on status 4 and 5 in the first 18 months, we will term as Bad and otherwise Good.\n",
    "\n",
    "We will select start months less than 18 (so only the first 18 months are considered) and find max status for each of the credit card account. If the status is 4 or 5, we can call Bad otherwise Good."
   ]
  },
  {
   "cell_type": "code",
   "execution_count": 27,
   "metadata": {
    "execution": {
     "iopub.execute_input": "2023-04-11T19:01:41.417275Z",
     "iopub.status.busy": "2023-04-11T19:01:41.414543Z",
     "iopub.status.idle": "2023-04-11T19:01:41.491904Z",
     "shell.execute_reply": "2023-04-11T19:01:41.490849Z",
     "shell.execute_reply.started": "2023-04-11T19:01:41.417234Z"
    }
   },
   "outputs": [
    {
     "data": {
      "text/plain": [
       "C    442031\n",
       "0    383120\n",
       "X    209230\n",
       "1     11090\n",
       "5      1693\n",
       "2       868\n",
       "3       320\n",
       "4       223\n",
       "Name: STATUS, dtype: int64"
      ]
     },
     "execution_count": 27,
     "metadata": {},
     "output_type": "execute_result"
    }
   ],
   "source": [
    "df_credit['STATUS'].value_counts()"
   ]
  },
  {
   "cell_type": "code",
   "execution_count": 28,
   "metadata": {
    "execution": {
     "iopub.execute_input": "2023-04-11T19:01:41.497221Z",
     "iopub.status.busy": "2023-04-11T19:01:41.496690Z",
     "iopub.status.idle": "2023-04-11T19:01:41.634341Z",
     "shell.execute_reply": "2023-04-11T19:01:41.633270Z",
     "shell.execute_reply.started": "2023-04-11T19:01:41.497182Z"
    }
   },
   "outputs": [
    {
     "data": {
      "text/plain": [
       "STATUS\n",
       "0    290654\n",
       "1      8747\n",
       "2       801\n",
       "3       286\n",
       "4       214\n",
       "5      1527\n",
       "C    329536\n",
       "X    145950\n",
       "Name: STATUS, dtype: int64"
      ]
     },
     "execution_count": 28,
     "metadata": {},
     "output_type": "execute_result"
    }
   ],
   "source": [
    "credit_start_status.groupby('STATUS')['STATUS'].count()"
   ]
  },
  {
   "cell_type": "code",
   "execution_count": 29,
   "metadata": {
    "execution": {
     "iopub.execute_input": "2023-04-11T19:01:41.641336Z",
     "iopub.status.busy": "2023-04-11T19:01:41.638877Z",
     "iopub.status.idle": "2023-04-11T19:01:41.917166Z",
     "shell.execute_reply": "2023-04-11T19:01:41.916069Z",
     "shell.execute_reply.started": "2023-04-11T19:01:41.641295Z"
    }
   },
   "outputs": [],
   "source": [
    "credit_start_status1 = credit_start_status.loc[(df_credit['STATUS'] !='X') & (df_credit['STATUS'] !='C') ,:]\n"
   ]
  },
  {
   "cell_type": "code",
   "execution_count": 30,
   "metadata": {
    "execution": {
     "iopub.execute_input": "2023-04-11T19:01:41.924754Z",
     "iopub.status.busy": "2023-04-11T19:01:41.922339Z",
     "iopub.status.idle": "2023-04-11T19:01:41.933090Z",
     "shell.execute_reply": "2023-04-11T19:01:41.932164Z",
     "shell.execute_reply.started": "2023-04-11T19:01:41.924714Z"
    }
   },
   "outputs": [],
   "source": [
    "credit_start_status1['status'] = credit_start_status1['STATUS']\n"
   ]
  },
  {
   "cell_type": "code",
   "execution_count": 31,
   "metadata": {
    "execution": {
     "iopub.execute_input": "2023-04-11T19:01:41.940553Z",
     "iopub.status.busy": "2023-04-11T19:01:41.937774Z",
     "iopub.status.idle": "2023-04-11T19:01:41.988513Z",
     "shell.execute_reply": "2023-04-11T19:01:41.987199Z",
     "shell.execute_reply.started": "2023-04-11T19:01:41.940516Z"
    }
   },
   "outputs": [],
   "source": [
    "credit_start_status1 = credit_start_status1.loc[credit_start_status1['start_month']<=18,['ID','start_month','status']]"
   ]
  },
  {
   "cell_type": "code",
   "execution_count": 32,
   "metadata": {
    "execution": {
     "iopub.execute_input": "2023-04-11T19:01:41.996035Z",
     "iopub.status.busy": "2023-04-11T19:01:41.993648Z",
     "iopub.status.idle": "2023-04-11T19:01:42.027858Z",
     "shell.execute_reply": "2023-04-11T19:01:42.026656Z",
     "shell.execute_reply.started": "2023-04-11T19:01:41.995992Z"
    }
   },
   "outputs": [],
   "source": [
    "credit_start_status1 = credit_start_status1[(credit_start_status1['status']!='C')]"
   ]
  },
  {
   "cell_type": "code",
   "execution_count": 33,
   "metadata": {
    "execution": {
     "iopub.execute_input": "2023-04-11T19:01:42.035208Z",
     "iopub.status.busy": "2023-04-11T19:01:42.032765Z",
     "iopub.status.idle": "2023-04-11T19:01:42.061054Z",
     "shell.execute_reply": "2023-04-11T19:01:42.059656Z",
     "shell.execute_reply.started": "2023-04-11T19:01:42.035165Z"
    }
   },
   "outputs": [],
   "source": [
    "credit_start_status1 = credit_start_status1[(credit_start_status1['status']!='X')]"
   ]
  },
  {
   "cell_type": "code",
   "execution_count": 34,
   "metadata": {
    "execution": {
     "iopub.execute_input": "2023-04-11T19:01:42.069049Z",
     "iopub.status.busy": "2023-04-11T19:01:42.066264Z",
     "iopub.status.idle": "2023-04-11T19:01:42.090296Z",
     "shell.execute_reply": "2023-04-11T19:01:42.088923Z",
     "shell.execute_reply.started": "2023-04-11T19:01:42.069005Z"
    }
   },
   "outputs": [
    {
     "data": {
      "text/html": [
       "<div>\n",
       "<style scoped>\n",
       "    .dataframe tbody tr th:only-of-type {\n",
       "        vertical-align: middle;\n",
       "    }\n",
       "\n",
       "    .dataframe tbody tr th {\n",
       "        vertical-align: top;\n",
       "    }\n",
       "\n",
       "    .dataframe thead th {\n",
       "        text-align: right;\n",
       "    }\n",
       "</style>\n",
       "<table border=\"1\" class=\"dataframe\">\n",
       "  <thead>\n",
       "    <tr style=\"text-align: right;\">\n",
       "      <th></th>\n",
       "      <th>ID</th>\n",
       "      <th>start_month</th>\n",
       "      <th>status</th>\n",
       "    </tr>\n",
       "  </thead>\n",
       "  <tbody>\n",
       "    <tr>\n",
       "      <th>13</th>\n",
       "      <td>5008804</td>\n",
       "      <td>2</td>\n",
       "      <td>1</td>\n",
       "    </tr>\n",
       "    <tr>\n",
       "      <th>14</th>\n",
       "      <td>5008804</td>\n",
       "      <td>1</td>\n",
       "      <td>0</td>\n",
       "    </tr>\n",
       "    <tr>\n",
       "      <th>126</th>\n",
       "      <td>5008811</td>\n",
       "      <td>10</td>\n",
       "      <td>0</td>\n",
       "    </tr>\n",
       "    <tr>\n",
       "      <th>128</th>\n",
       "      <td>5008811</td>\n",
       "      <td>8</td>\n",
       "      <td>0</td>\n",
       "    </tr>\n",
       "    <tr>\n",
       "      <th>130</th>\n",
       "      <td>5008811</td>\n",
       "      <td>6</td>\n",
       "      <td>0</td>\n",
       "    </tr>\n",
       "    <tr>\n",
       "      <th>...</th>\n",
       "      <td>...</td>\n",
       "      <td>...</td>\n",
       "      <td>...</td>\n",
       "    </tr>\n",
       "    <tr>\n",
       "      <th>777674</th>\n",
       "      <td>5150484</td>\n",
       "      <td>8</td>\n",
       "      <td>0</td>\n",
       "    </tr>\n",
       "    <tr>\n",
       "      <th>777675</th>\n",
       "      <td>5150484</td>\n",
       "      <td>7</td>\n",
       "      <td>0</td>\n",
       "    </tr>\n",
       "    <tr>\n",
       "      <th>777676</th>\n",
       "      <td>5150484</td>\n",
       "      <td>6</td>\n",
       "      <td>0</td>\n",
       "    </tr>\n",
       "    <tr>\n",
       "      <th>777677</th>\n",
       "      <td>5150484</td>\n",
       "      <td>5</td>\n",
       "      <td>0</td>\n",
       "    </tr>\n",
       "    <tr>\n",
       "      <th>777678</th>\n",
       "      <td>5150484</td>\n",
       "      <td>4</td>\n",
       "      <td>0</td>\n",
       "    </tr>\n",
       "  </tbody>\n",
       "</table>\n",
       "<p>99475 rows × 3 columns</p>\n",
       "</div>"
      ],
      "text/plain": [
       "             ID  start_month status\n",
       "13      5008804            2      1\n",
       "14      5008804            1      0\n",
       "126     5008811           10      0\n",
       "128     5008811            8      0\n",
       "130     5008811            6      0\n",
       "...         ...          ...    ...\n",
       "777674  5150484            8      0\n",
       "777675  5150484            7      0\n",
       "777676  5150484            6      0\n",
       "777677  5150484            5      0\n",
       "777678  5150484            4      0\n",
       "\n",
       "[99475 rows x 3 columns]"
      ]
     },
     "execution_count": 34,
     "metadata": {},
     "output_type": "execute_result"
    }
   ],
   "source": [
    "credit_start_status1"
   ]
  },
  {
   "cell_type": "code",
   "execution_count": 35,
   "metadata": {
    "execution": {
     "iopub.execute_input": "2023-04-11T19:01:42.092404Z",
     "iopub.status.busy": "2023-04-11T19:01:42.091810Z",
     "iopub.status.idle": "2023-04-11T19:01:44.416203Z",
     "shell.execute_reply": "2023-04-11T19:01:44.414826Z",
     "shell.execute_reply.started": "2023-04-11T19:01:42.092366Z"
    }
   },
   "outputs": [
    {
     "data": {
      "text/plain": [
       "max_status\n",
       "0    16259\n",
       "1     1548\n",
       "2      121\n",
       "3       40\n",
       "4       16\n",
       "5       70\n",
       "Name: max_status, dtype: int64"
      ]
     },
     "execution_count": 35,
     "metadata": {},
     "output_type": "execute_result"
    }
   ],
   "source": [
    "# Find Max Status Values\n",
    "status = credit_start_status1.groupby(['ID']).agg(\n",
    "    # Max Status\n",
    "    max_status=('status','max')\n",
    "\n",
    "    ).reset_index()\n",
    "# Validate\n",
    "status.groupby('max_status')['max_status'].count()"
   ]
  },
  {
   "cell_type": "code",
   "execution_count": 36,
   "metadata": {
    "execution": {
     "iopub.execute_input": "2023-04-11T19:01:44.418196Z",
     "iopub.status.busy": "2023-04-11T19:01:44.417614Z",
     "iopub.status.idle": "2023-04-11T19:01:44.456991Z",
     "shell.execute_reply": "2023-04-11T19:01:44.455790Z",
     "shell.execute_reply.started": "2023-04-11T19:01:44.418156Z"
    }
   },
   "outputs": [
    {
     "data": {
      "text/plain": [
       "label\n",
       "0    17968\n",
       "1       86\n",
       "Name: label, dtype: int64"
      ]
     },
     "execution_count": 36,
     "metadata": {},
     "output_type": "execute_result"
    }
   ],
   "source": [
    "import numpy as np\n",
    "# Define \n",
    "status['label']=np.where(status['max_status'].astype(int)>=int(4), 1,0)\n",
    "# Validate\n",
    "status.groupby('label')['label'].count()"
   ]
  },
  {
   "cell_type": "markdown",
   "metadata": {},
   "source": [
    "The data is highly unbalanced - with a bad rate of 0.47%. We can create a biased sample. Taking all observations of Label 1 but small % of observations from label 0. We may want to improve the bad rate to say 10%. So, in the final sample, we will 86 for label 1 and 17968 for label 0.\n",
    "\n"
   ]
  },
  {
   "cell_type": "code",
   "execution_count": 37,
   "metadata": {
    "execution": {
     "iopub.execute_input": "2023-04-11T19:01:44.458898Z",
     "iopub.status.busy": "2023-04-11T19:01:44.458312Z",
     "iopub.status.idle": "2023-04-11T19:01:44.481166Z",
     "shell.execute_reply": "2023-04-11T19:01:44.479682Z",
     "shell.execute_reply.started": "2023-04-11T19:01:44.458861Z"
    }
   },
   "outputs": [
    {
     "data": {
      "text/plain": [
       "label\n",
       "0    99.523651\n",
       "1     0.476349\n",
       "Name: label, dtype: float64"
      ]
     },
     "execution_count": 37,
     "metadata": {},
     "output_type": "execute_result"
    }
   ],
   "source": [
    "status.groupby('label')['label'].count()*100/len(status['label'])"
   ]
  },
  {
   "cell_type": "markdown",
   "metadata": {},
   "source": [
    "The data is highly unbalanced - with a bad rate of 0.47%. We can create a biased sample. Taking all observations of Label 1 but small % of observations from label 0. We may want to improve the bad rate to say 10%. So, in the final sample, we will 189 for label 1 and 1701 for label 0.\n",
    "\n",
    "Now we want to select randomly 1701 observations from 39562."
   ]
  },
  {
   "cell_type": "code",
   "execution_count": 38,
   "metadata": {
    "execution": {
     "iopub.execute_input": "2023-04-11T19:01:44.483167Z",
     "iopub.status.busy": "2023-04-11T19:01:44.482565Z",
     "iopub.status.idle": "2023-04-11T19:01:44.512095Z",
     "shell.execute_reply": "2023-04-11T19:01:44.510680Z",
     "shell.execute_reply.started": "2023-04-11T19:01:44.483129Z"
    }
   },
   "outputs": [],
   "source": [
    "# All with label 1\n",
    "label_1 = status.loc[status['label']==1,:]\n",
    "# All with label 0\n",
    "label_0 = status.loc[status['label']==0,:]\n",
    "# Select randomly few rows\n",
    "label_0_biased=label_0.sample(n = 1701) \n",
    "# Combined Sample IDs with Biased Sampling\n",
    "\n",
    "frames = [label_1,label_0_biased]\n",
    "import pandas as pd\n",
    "labels_biased = pd.concat(frames)\n",
    "\n",
    "# Keep only ID and Label Columns\n",
    "\n",
    "labels_biased=labels_biased.loc[:,['ID','label']]"
   ]
  },
  {
   "cell_type": "code",
   "execution_count": 39,
   "metadata": {
    "execution": {
     "iopub.execute_input": "2023-04-11T19:01:44.514141Z",
     "iopub.status.busy": "2023-04-11T19:01:44.513511Z",
     "iopub.status.idle": "2023-04-11T19:01:44.531359Z",
     "shell.execute_reply": "2023-04-11T19:01:44.530349Z",
     "shell.execute_reply.started": "2023-04-11T19:01:44.514101Z"
    }
   },
   "outputs": [
    {
     "data": {
      "text/html": [
       "<div>\n",
       "<style scoped>\n",
       "    .dataframe tbody tr th:only-of-type {\n",
       "        vertical-align: middle;\n",
       "    }\n",
       "\n",
       "    .dataframe tbody tr th {\n",
       "        vertical-align: top;\n",
       "    }\n",
       "\n",
       "    .dataframe thead th {\n",
       "        text-align: right;\n",
       "    }\n",
       "</style>\n",
       "<table border=\"1\" class=\"dataframe\">\n",
       "  <thead>\n",
       "    <tr style=\"text-align: right;\">\n",
       "      <th></th>\n",
       "      <th>ID</th>\n",
       "      <th>label</th>\n",
       "    </tr>\n",
       "  </thead>\n",
       "  <tbody>\n",
       "    <tr>\n",
       "      <th>343</th>\n",
       "      <td>5009744</td>\n",
       "      <td>1</td>\n",
       "    </tr>\n",
       "    <tr>\n",
       "      <th>345</th>\n",
       "      <td>5009746</td>\n",
       "      <td>1</td>\n",
       "    </tr>\n",
       "    <tr>\n",
       "      <th>346</th>\n",
       "      <td>5009749</td>\n",
       "      <td>1</td>\n",
       "    </tr>\n",
       "    <tr>\n",
       "      <th>347</th>\n",
       "      <td>5009752</td>\n",
       "      <td>1</td>\n",
       "    </tr>\n",
       "    <tr>\n",
       "      <th>348</th>\n",
       "      <td>5009753</td>\n",
       "      <td>1</td>\n",
       "    </tr>\n",
       "    <tr>\n",
       "      <th>...</th>\n",
       "      <td>...</td>\n",
       "      <td>...</td>\n",
       "    </tr>\n",
       "    <tr>\n",
       "      <th>4958</th>\n",
       "      <td>5046393</td>\n",
       "      <td>0</td>\n",
       "    </tr>\n",
       "    <tr>\n",
       "      <th>17640</th>\n",
       "      <td>5149241</td>\n",
       "      <td>0</td>\n",
       "    </tr>\n",
       "    <tr>\n",
       "      <th>15253</th>\n",
       "      <td>5125956</td>\n",
       "      <td>0</td>\n",
       "    </tr>\n",
       "    <tr>\n",
       "      <th>4724</th>\n",
       "      <td>5045761</td>\n",
       "      <td>0</td>\n",
       "    </tr>\n",
       "    <tr>\n",
       "      <th>10339</th>\n",
       "      <td>5090441</td>\n",
       "      <td>0</td>\n",
       "    </tr>\n",
       "  </tbody>\n",
       "</table>\n",
       "<p>1787 rows × 2 columns</p>\n",
       "</div>"
      ],
      "text/plain": [
       "            ID  label\n",
       "343    5009744      1\n",
       "345    5009746      1\n",
       "346    5009749      1\n",
       "347    5009752      1\n",
       "348    5009753      1\n",
       "...        ...    ...\n",
       "4958   5046393      0\n",
       "17640  5149241      0\n",
       "15253  5125956      0\n",
       "4724   5045761      0\n",
       "10339  5090441      0\n",
       "\n",
       "[1787 rows x 2 columns]"
      ]
     },
     "execution_count": 39,
     "metadata": {},
     "output_type": "execute_result"
    }
   ],
   "source": [
    "labels_biased\n"
   ]
  },
  {
   "cell_type": "code",
   "execution_count": 40,
   "metadata": {
    "execution": {
     "iopub.execute_input": "2023-04-11T19:01:44.538487Z",
     "iopub.status.busy": "2023-04-11T19:01:44.535572Z",
     "iopub.status.idle": "2023-04-11T19:01:44.800950Z",
     "shell.execute_reply": "2023-04-11T19:01:44.799930Z",
     "shell.execute_reply.started": "2023-04-11T19:01:44.538449Z"
    }
   },
   "outputs": [
    {
     "data": {
      "text/plain": [
       "1787"
      ]
     },
     "execution_count": 40,
     "metadata": {},
     "output_type": "execute_result"
    }
   ],
   "source": [
    "# Combine Labels and Application Data\n",
    "model_df = pd.merge (labels_biased, df_application,how='inner',on=['ID'] )\n",
    "len(model_df)"
   ]
  },
  {
   "cell_type": "code",
   "execution_count": 41,
   "metadata": {
    "execution": {
     "iopub.execute_input": "2023-04-11T19:01:44.807659Z",
     "iopub.status.busy": "2023-04-11T19:01:44.804977Z",
     "iopub.status.idle": "2023-04-11T19:01:44.835449Z",
     "shell.execute_reply": "2023-04-11T19:01:44.834454Z",
     "shell.execute_reply.started": "2023-04-11T19:01:44.807619Z"
    }
   },
   "outputs": [
    {
     "data": {
      "text/html": [
       "<div>\n",
       "<style scoped>\n",
       "    .dataframe tbody tr th:only-of-type {\n",
       "        vertical-align: middle;\n",
       "    }\n",
       "\n",
       "    .dataframe tbody tr th {\n",
       "        vertical-align: top;\n",
       "    }\n",
       "\n",
       "    .dataframe thead th {\n",
       "        text-align: right;\n",
       "    }\n",
       "</style>\n",
       "<table border=\"1\" class=\"dataframe\">\n",
       "  <thead>\n",
       "    <tr style=\"text-align: right;\">\n",
       "      <th></th>\n",
       "      <th>ID</th>\n",
       "      <th>label</th>\n",
       "      <th>CODE_GENDER</th>\n",
       "      <th>FLAG_OWN_CAR</th>\n",
       "      <th>FLAG_OWN_REALTY</th>\n",
       "      <th>CNT_CHILDREN</th>\n",
       "      <th>AMT_INCOME_TOTAL</th>\n",
       "      <th>NAME_INCOME_TYPE</th>\n",
       "      <th>NAME_EDUCATION_TYPE</th>\n",
       "      <th>NAME_FAMILY_STATUS</th>\n",
       "      <th>NAME_HOUSING_TYPE</th>\n",
       "      <th>DAYS_BIRTH</th>\n",
       "      <th>DAYS_EMPLOYED</th>\n",
       "      <th>FLAG_MOBIL</th>\n",
       "      <th>FLAG_WORK_PHONE</th>\n",
       "      <th>FLAG_PHONE</th>\n",
       "      <th>FLAG_EMAIL</th>\n",
       "      <th>OCCUPATION_TYPE</th>\n",
       "      <th>CNT_FAM_MEMBERS</th>\n",
       "    </tr>\n",
       "  </thead>\n",
       "  <tbody>\n",
       "    <tr>\n",
       "      <th>1782</th>\n",
       "      <td>5046393</td>\n",
       "      <td>0</td>\n",
       "      <td>F</td>\n",
       "      <td>N</td>\n",
       "      <td>Y</td>\n",
       "      <td>0</td>\n",
       "      <td>117000.0</td>\n",
       "      <td>Pensioner</td>\n",
       "      <td>Higher education</td>\n",
       "      <td>Married</td>\n",
       "      <td>House / apartment</td>\n",
       "      <td>-21428</td>\n",
       "      <td>365243</td>\n",
       "      <td>1</td>\n",
       "      <td>0</td>\n",
       "      <td>1</td>\n",
       "      <td>0</td>\n",
       "      <td>NaN</td>\n",
       "      <td>2.0</td>\n",
       "    </tr>\n",
       "    <tr>\n",
       "      <th>1783</th>\n",
       "      <td>5149241</td>\n",
       "      <td>0</td>\n",
       "      <td>M</td>\n",
       "      <td>N</td>\n",
       "      <td>N</td>\n",
       "      <td>0</td>\n",
       "      <td>225000.0</td>\n",
       "      <td>Commercial associate</td>\n",
       "      <td>Higher education</td>\n",
       "      <td>Married</td>\n",
       "      <td>With parents</td>\n",
       "      <td>-9412</td>\n",
       "      <td>-959</td>\n",
       "      <td>1</td>\n",
       "      <td>0</td>\n",
       "      <td>1</td>\n",
       "      <td>0</td>\n",
       "      <td>IT staff</td>\n",
       "      <td>2.0</td>\n",
       "    </tr>\n",
       "    <tr>\n",
       "      <th>1784</th>\n",
       "      <td>5125956</td>\n",
       "      <td>0</td>\n",
       "      <td>F</td>\n",
       "      <td>N</td>\n",
       "      <td>Y</td>\n",
       "      <td>0</td>\n",
       "      <td>166500.0</td>\n",
       "      <td>Commercial associate</td>\n",
       "      <td>Secondary / secondary special</td>\n",
       "      <td>Single / not married</td>\n",
       "      <td>House / apartment</td>\n",
       "      <td>-16068</td>\n",
       "      <td>-2722</td>\n",
       "      <td>1</td>\n",
       "      <td>0</td>\n",
       "      <td>1</td>\n",
       "      <td>0</td>\n",
       "      <td>Laborers</td>\n",
       "      <td>1.0</td>\n",
       "    </tr>\n",
       "    <tr>\n",
       "      <th>1785</th>\n",
       "      <td>5045761</td>\n",
       "      <td>0</td>\n",
       "      <td>F</td>\n",
       "      <td>Y</td>\n",
       "      <td>N</td>\n",
       "      <td>0</td>\n",
       "      <td>270000.0</td>\n",
       "      <td>Working</td>\n",
       "      <td>Higher education</td>\n",
       "      <td>Married</td>\n",
       "      <td>House / apartment</td>\n",
       "      <td>-19963</td>\n",
       "      <td>-1235</td>\n",
       "      <td>1</td>\n",
       "      <td>0</td>\n",
       "      <td>1</td>\n",
       "      <td>0</td>\n",
       "      <td>Medicine staff</td>\n",
       "      <td>2.0</td>\n",
       "    </tr>\n",
       "    <tr>\n",
       "      <th>1786</th>\n",
       "      <td>5090441</td>\n",
       "      <td>0</td>\n",
       "      <td>F</td>\n",
       "      <td>N</td>\n",
       "      <td>Y</td>\n",
       "      <td>0</td>\n",
       "      <td>112500.0</td>\n",
       "      <td>Pensioner</td>\n",
       "      <td>Secondary / secondary special</td>\n",
       "      <td>Civil marriage</td>\n",
       "      <td>House / apartment</td>\n",
       "      <td>-20005</td>\n",
       "      <td>365243</td>\n",
       "      <td>1</td>\n",
       "      <td>0</td>\n",
       "      <td>1</td>\n",
       "      <td>0</td>\n",
       "      <td>NaN</td>\n",
       "      <td>2.0</td>\n",
       "    </tr>\n",
       "  </tbody>\n",
       "</table>\n",
       "</div>"
      ],
      "text/plain": [
       "           ID  label CODE_GENDER FLAG_OWN_CAR FLAG_OWN_REALTY  CNT_CHILDREN  \\\n",
       "1782  5046393      0           F            N               Y             0   \n",
       "1783  5149241      0           M            N               N             0   \n",
       "1784  5125956      0           F            N               Y             0   \n",
       "1785  5045761      0           F            Y               N             0   \n",
       "1786  5090441      0           F            N               Y             0   \n",
       "\n",
       "      AMT_INCOME_TOTAL      NAME_INCOME_TYPE            NAME_EDUCATION_TYPE  \\\n",
       "1782          117000.0             Pensioner               Higher education   \n",
       "1783          225000.0  Commercial associate               Higher education   \n",
       "1784          166500.0  Commercial associate  Secondary / secondary special   \n",
       "1785          270000.0               Working               Higher education   \n",
       "1786          112500.0             Pensioner  Secondary / secondary special   \n",
       "\n",
       "        NAME_FAMILY_STATUS  NAME_HOUSING_TYPE  DAYS_BIRTH  DAYS_EMPLOYED  \\\n",
       "1782               Married  House / apartment      -21428         365243   \n",
       "1783               Married       With parents       -9412           -959   \n",
       "1784  Single / not married  House / apartment      -16068          -2722   \n",
       "1785               Married  House / apartment      -19963          -1235   \n",
       "1786        Civil marriage  House / apartment      -20005         365243   \n",
       "\n",
       "      FLAG_MOBIL  FLAG_WORK_PHONE  FLAG_PHONE  FLAG_EMAIL OCCUPATION_TYPE  \\\n",
       "1782           1                0           1           0             NaN   \n",
       "1783           1                0           1           0        IT staff   \n",
       "1784           1                0           1           0        Laborers   \n",
       "1785           1                0           1           0  Medicine staff   \n",
       "1786           1                0           1           0             NaN   \n",
       "\n",
       "      CNT_FAM_MEMBERS  \n",
       "1782              2.0  \n",
       "1783              2.0  \n",
       "1784              1.0  \n",
       "1785              2.0  \n",
       "1786              2.0  "
      ]
     },
     "execution_count": 41,
     "metadata": {},
     "output_type": "execute_result"
    }
   ],
   "source": [
    "model_df.tail()"
   ]
  },
  {
   "cell_type": "code",
   "execution_count": 42,
   "metadata": {
    "execution": {
     "iopub.execute_input": "2023-04-11T19:01:44.840548Z",
     "iopub.status.busy": "2023-04-11T19:01:44.839778Z",
     "iopub.status.idle": "2023-04-11T19:01:44.855769Z",
     "shell.execute_reply": "2023-04-11T19:01:44.854657Z",
     "shell.execute_reply.started": "2023-04-11T19:01:44.840508Z"
    }
   },
   "outputs": [
    {
     "data": {
      "text/plain": [
       "label\n",
       "0    95.187465\n",
       "1     4.812535\n",
       "Name: label, dtype: float64"
      ]
     },
     "execution_count": 42,
     "metadata": {},
     "output_type": "execute_result"
    }
   ],
   "source": [
    "model_df.groupby('label')['label'].count()*100/len(model_df['label'])"
   ]
  },
  {
   "cell_type": "code",
   "execution_count": 43,
   "metadata": {
    "execution": {
     "iopub.execute_input": "2023-04-11T19:01:44.862559Z",
     "iopub.status.busy": "2023-04-11T19:01:44.859888Z",
     "iopub.status.idle": "2023-04-11T19:01:44.894636Z",
     "shell.execute_reply": "2023-04-11T19:01:44.893541Z",
     "shell.execute_reply.started": "2023-04-11T19:01:44.862523Z"
    }
   },
   "outputs": [
    {
     "name": "stdout",
     "output_type": "stream",
     "text": [
      "Your selected dataframe has 19 columns.\n",
      "There are 1 columns that have missing values.\n"
     ]
    },
    {
     "data": {
      "text/html": [
       "<div>\n",
       "<style scoped>\n",
       "    .dataframe tbody tr th:only-of-type {\n",
       "        vertical-align: middle;\n",
       "    }\n",
       "\n",
       "    .dataframe tbody tr th {\n",
       "        vertical-align: top;\n",
       "    }\n",
       "\n",
       "    .dataframe thead th {\n",
       "        text-align: right;\n",
       "    }\n",
       "</style>\n",
       "<table border=\"1\" class=\"dataframe\">\n",
       "  <thead>\n",
       "    <tr style=\"text-align: right;\">\n",
       "      <th></th>\n",
       "      <th>Missing Values</th>\n",
       "      <th>% of Total Values</th>\n",
       "    </tr>\n",
       "  </thead>\n",
       "  <tbody>\n",
       "    <tr>\n",
       "      <th>OCCUPATION_TYPE</th>\n",
       "      <td>571</td>\n",
       "      <td>32.0</td>\n",
       "    </tr>\n",
       "  </tbody>\n",
       "</table>\n",
       "</div>"
      ],
      "text/plain": [
       "                 Missing Values  % of Total Values\n",
       "OCCUPATION_TYPE             571               32.0"
      ]
     },
     "execution_count": 43,
     "metadata": {},
     "output_type": "execute_result"
    }
   ],
   "source": [
    "# Check if missing values\n",
    "def missing_values_table(df):\n",
    "        mis_val = df.isnull().sum()\n",
    "        mis_val_percent = 100 * df.isnull().sum() / len(df)\n",
    "        mis_val_table = pd.concat([mis_val, mis_val_percent], axis=1)\n",
    "        mis_val_table_ren_columns = mis_val_table.rename(\n",
    "        columns = {0 : 'Missing Values', 1 : '% of Total Values'})\n",
    "        mis_val_table_ren_columns = mis_val_table_ren_columns[\n",
    "            mis_val_table_ren_columns.iloc[:,1] != 0].sort_values(\n",
    "        '% of Total Values', ascending=False).round(1)\n",
    "        print (\"Your selected dataframe has \" + str(df.shape[1]) + \" columns.\\n\"      \n",
    "            \"There are \" + str(mis_val_table_ren_columns.shape[0]) +\n",
    "              \" columns that have missing values.\")\n",
    "        return mis_val_table_ren_columns\n",
    "# source: https://stackoverflow.com/questions/26266362/how-to-count-the-nan-values-in-a-column-in-pandas-dataframe\n",
    "\n",
    "missing_values_table(model_df)"
   ]
  },
  {
   "cell_type": "code",
   "execution_count": 44,
   "metadata": {
    "execution": {
     "iopub.execute_input": "2023-04-11T19:01:44.901453Z",
     "iopub.status.busy": "2023-04-11T19:01:44.898919Z",
     "iopub.status.idle": "2023-04-11T19:01:44.941753Z",
     "shell.execute_reply": "2023-04-11T19:01:44.940662Z",
     "shell.execute_reply.started": "2023-04-11T19:01:44.901413Z"
    }
   },
   "outputs": [
    {
     "data": {
      "text/html": [
       "<div>\n",
       "<style scoped>\n",
       "    .dataframe tbody tr th:only-of-type {\n",
       "        vertical-align: middle;\n",
       "    }\n",
       "\n",
       "    .dataframe tbody tr th {\n",
       "        vertical-align: top;\n",
       "    }\n",
       "\n",
       "    .dataframe thead th {\n",
       "        text-align: right;\n",
       "    }\n",
       "</style>\n",
       "<table border=\"1\" class=\"dataframe\">\n",
       "  <thead>\n",
       "    <tr style=\"text-align: right;\">\n",
       "      <th></th>\n",
       "      <th>Feature</th>\n",
       "      <th>BaseFeatureType</th>\n",
       "      <th>AnalysisFeatureType</th>\n",
       "    </tr>\n",
       "  </thead>\n",
       "  <tbody>\n",
       "    <tr>\n",
       "      <th>0</th>\n",
       "      <td>ID</td>\n",
       "      <td>Ordinal</td>\n",
       "      <td>Continuous-Ordinal</td>\n",
       "    </tr>\n",
       "    <tr>\n",
       "      <th>1</th>\n",
       "      <td>label</td>\n",
       "      <td>Binary</td>\n",
       "      <td>Binary</td>\n",
       "    </tr>\n",
       "    <tr>\n",
       "      <th>2</th>\n",
       "      <td>CODE_GENDER</td>\n",
       "      <td>Category-Binary</td>\n",
       "      <td>Binary</td>\n",
       "    </tr>\n",
       "    <tr>\n",
       "      <th>3</th>\n",
       "      <td>FLAG_OWN_CAR</td>\n",
       "      <td>Category-Binary</td>\n",
       "      <td>Binary</td>\n",
       "    </tr>\n",
       "    <tr>\n",
       "      <th>4</th>\n",
       "      <td>FLAG_OWN_REALTY</td>\n",
       "      <td>Category-Binary</td>\n",
       "      <td>Binary</td>\n",
       "    </tr>\n",
       "    <tr>\n",
       "      <th>5</th>\n",
       "      <td>CNT_CHILDREN</td>\n",
       "      <td>Continuous</td>\n",
       "      <td>Continuous</td>\n",
       "    </tr>\n",
       "    <tr>\n",
       "      <th>6</th>\n",
       "      <td>AMT_INCOME_TOTAL</td>\n",
       "      <td>Continuous</td>\n",
       "      <td>Continuous</td>\n",
       "    </tr>\n",
       "    <tr>\n",
       "      <th>7</th>\n",
       "      <td>NAME_INCOME_TYPE</td>\n",
       "      <td>Nominal</td>\n",
       "      <td>Categorical-Nominal</td>\n",
       "    </tr>\n",
       "    <tr>\n",
       "      <th>8</th>\n",
       "      <td>NAME_EDUCATION_TYPE</td>\n",
       "      <td>Nominal</td>\n",
       "      <td>Categorical-Nominal</td>\n",
       "    </tr>\n",
       "    <tr>\n",
       "      <th>9</th>\n",
       "      <td>NAME_FAMILY_STATUS</td>\n",
       "      <td>Nominal</td>\n",
       "      <td>Categorical-Nominal</td>\n",
       "    </tr>\n",
       "    <tr>\n",
       "      <th>10</th>\n",
       "      <td>NAME_HOUSING_TYPE</td>\n",
       "      <td>Nominal</td>\n",
       "      <td>Categorical-Nominal</td>\n",
       "    </tr>\n",
       "    <tr>\n",
       "      <th>11</th>\n",
       "      <td>DAYS_BIRTH</td>\n",
       "      <td>Ordinal</td>\n",
       "      <td>Continuous-Ordinal</td>\n",
       "    </tr>\n",
       "    <tr>\n",
       "      <th>12</th>\n",
       "      <td>DAYS_EMPLOYED</td>\n",
       "      <td>Ordinal</td>\n",
       "      <td>Continuous-Ordinal</td>\n",
       "    </tr>\n",
       "    <tr>\n",
       "      <th>13</th>\n",
       "      <td>FLAG_MOBIL</td>\n",
       "      <td>Unary</td>\n",
       "      <td>Unary</td>\n",
       "    </tr>\n",
       "    <tr>\n",
       "      <th>14</th>\n",
       "      <td>FLAG_WORK_PHONE</td>\n",
       "      <td>Binary</td>\n",
       "      <td>Binary</td>\n",
       "    </tr>\n",
       "    <tr>\n",
       "      <th>15</th>\n",
       "      <td>FLAG_PHONE</td>\n",
       "      <td>Binary</td>\n",
       "      <td>Binary</td>\n",
       "    </tr>\n",
       "    <tr>\n",
       "      <th>16</th>\n",
       "      <td>FLAG_EMAIL</td>\n",
       "      <td>Binary</td>\n",
       "      <td>Binary</td>\n",
       "    </tr>\n",
       "    <tr>\n",
       "      <th>17</th>\n",
       "      <td>OCCUPATION_TYPE</td>\n",
       "      <td>Nominal</td>\n",
       "      <td>Categorical-Nominal</td>\n",
       "    </tr>\n",
       "    <tr>\n",
       "      <th>18</th>\n",
       "      <td>CNT_FAM_MEMBERS</td>\n",
       "      <td>Continuous</td>\n",
       "      <td>Continuous</td>\n",
       "    </tr>\n",
       "  </tbody>\n",
       "</table>\n",
       "</div>"
      ],
      "text/plain": [
       "                Feature  BaseFeatureType  AnalysisFeatureType\n",
       "0                    ID          Ordinal   Continuous-Ordinal\n",
       "1                 label           Binary               Binary\n",
       "2           CODE_GENDER  Category-Binary               Binary\n",
       "3          FLAG_OWN_CAR  Category-Binary               Binary\n",
       "4       FLAG_OWN_REALTY  Category-Binary               Binary\n",
       "5          CNT_CHILDREN       Continuous           Continuous\n",
       "6      AMT_INCOME_TOTAL       Continuous           Continuous\n",
       "7      NAME_INCOME_TYPE          Nominal  Categorical-Nominal\n",
       "8   NAME_EDUCATION_TYPE          Nominal  Categorical-Nominal\n",
       "9    NAME_FAMILY_STATUS          Nominal  Categorical-Nominal\n",
       "10    NAME_HOUSING_TYPE          Nominal  Categorical-Nominal\n",
       "11           DAYS_BIRTH          Ordinal   Continuous-Ordinal\n",
       "12        DAYS_EMPLOYED          Ordinal   Continuous-Ordinal\n",
       "13           FLAG_MOBIL            Unary                Unary\n",
       "14      FLAG_WORK_PHONE           Binary               Binary\n",
       "15           FLAG_PHONE           Binary               Binary\n",
       "16           FLAG_EMAIL           Binary               Binary\n",
       "17      OCCUPATION_TYPE          Nominal  Categorical-Nominal\n",
       "18      CNT_FAM_MEMBERS       Continuous           Continuous"
      ]
     },
     "execution_count": 44,
     "metadata": {},
     "output_type": "execute_result"
    }
   ],
   "source": [
    "# Find Continuous and Categorical Features\n",
    "def featureType(df):\n",
    "    import numpy as np \n",
    "    from pandas.api.types import is_numeric_dtype\n",
    "\n",
    "    columns = df.columns\n",
    "    rows= len(df)\n",
    "    colTypeBase=[]\n",
    "    colType=[]\n",
    "    for col in columns:\n",
    "        try:\n",
    "            try:\n",
    "                uniq=len(np.unique(df[col]))\n",
    "            except:\n",
    "                 uniq=len(df.groupby(col)[col].count())\n",
    "            if rows>10:\n",
    "                if is_numeric_dtype(df[col]):\n",
    "                    \n",
    "                    if uniq==1:\n",
    "                        colType.append('Unary')\n",
    "                        colTypeBase.append('Unary')\n",
    "                    elif uniq==2:\n",
    "                        colType.append('Binary')\n",
    "                        colTypeBase.append('Binary')\n",
    "                    elif rows/uniq>3 and uniq>5:\n",
    "                        colType.append('Continuous')\n",
    "                        colTypeBase.append('Continuous')\n",
    "                    else:\n",
    "                        colType.append('Continuous-Ordinal')\n",
    "                        colTypeBase.append('Ordinal')\n",
    "                else:\n",
    "                    if uniq==1:\n",
    "                        colType.append('Unary')\n",
    "                        colTypeBase.append('Category-Unary')\n",
    "                    elif uniq==2:\n",
    "                        colType.append('Binary')\n",
    "                        colTypeBase.append('Category-Binary')\n",
    "                    else:\n",
    "                        colType.append('Categorical-Nominal')\n",
    "                        colTypeBase.append('Nominal')\n",
    "            else:\n",
    "                if is_numeric_dtype(df[col]):\n",
    "                    colType.append('Numeric')\n",
    "                    colTypeBase.append('Numeric')\n",
    "                else:\n",
    "                    colType.append('Non-numeric')\n",
    "                    colTypeBase.append('Non-numeric')\n",
    "        except:\n",
    "            colType.append('Issue')\n",
    "                \n",
    "    # Create dataframe    \n",
    "    df_out =pd.DataFrame({'Feature':columns,\n",
    "                          'BaseFeatureType':colTypeBase,\n",
    "                        'AnalysisFeatureType':colType})\n",
    "    return df_out\n",
    "\n",
    "featureType(model_df)  "
   ]
  },
  {
   "cell_type": "code",
   "execution_count": 45,
   "metadata": {
    "execution": {
     "iopub.execute_input": "2023-04-11T19:01:44.948554Z",
     "iopub.status.busy": "2023-04-11T19:01:44.946213Z",
     "iopub.status.idle": "2023-04-11T19:01:44.966944Z",
     "shell.execute_reply": "2023-04-11T19:01:44.966027Z",
     "shell.execute_reply.started": "2023-04-11T19:01:44.948515Z"
    }
   },
   "outputs": [],
   "source": [
    "from datetime import timedelta\n",
    "\n",
    "model_df['BIRTH_DATE'] = datetime.datetime.strptime(\"2020-01-01\", \"%Y-%m-%d\") + model_df['DAYS_BIRTH'].apply(pd.offsets.Day)"
   ]
  },
  {
   "cell_type": "code",
   "execution_count": 46,
   "metadata": {
    "execution": {
     "iopub.execute_input": "2023-04-11T19:01:44.973674Z",
     "iopub.status.busy": "2023-04-11T19:01:44.971246Z",
     "iopub.status.idle": "2023-04-11T19:01:44.993471Z",
     "shell.execute_reply": "2023-04-11T19:01:44.992541Z",
     "shell.execute_reply.started": "2023-04-11T19:01:44.973632Z"
    }
   },
   "outputs": [],
   "source": [
    "# DAYS_EMPLOYED: Count backwards from current day(0). If positive, it means the person currently unemployed.\n",
    "# Update DAYS_EMPLOYED greater than 0 to 31\n",
    "model_df.loc[model_df.DAYS_EMPLOYED >0, \"DAYS_EMPLOYED\"] = 31\n",
    "model_df['EMPLOYMENT_START_DATE'] = datetime.datetime.strptime(\"2020-01-01\", \"%Y-%m-%d\") + model_df['DAYS_EMPLOYED'].apply(pd.offsets.Day)"
   ]
  },
  {
   "cell_type": "code",
   "execution_count": 47,
   "metadata": {
    "execution": {
     "iopub.execute_input": "2023-04-11T19:01:45.000452Z",
     "iopub.status.busy": "2023-04-11T19:01:44.997831Z",
     "iopub.status.idle": "2023-04-11T19:01:45.034960Z",
     "shell.execute_reply": "2023-04-11T19:01:45.033918Z",
     "shell.execute_reply.started": "2023-04-11T19:01:45.000409Z"
    }
   },
   "outputs": [
    {
     "data": {
      "text/html": [
       "<div>\n",
       "<style scoped>\n",
       "    .dataframe tbody tr th:only-of-type {\n",
       "        vertical-align: middle;\n",
       "    }\n",
       "\n",
       "    .dataframe tbody tr th {\n",
       "        vertical-align: top;\n",
       "    }\n",
       "\n",
       "    .dataframe thead th {\n",
       "        text-align: right;\n",
       "    }\n",
       "</style>\n",
       "<table border=\"1\" class=\"dataframe\">\n",
       "  <thead>\n",
       "    <tr style=\"text-align: right;\">\n",
       "      <th></th>\n",
       "      <th>ID</th>\n",
       "      <th>label</th>\n",
       "      <th>CODE_GENDER</th>\n",
       "      <th>FLAG_OWN_CAR</th>\n",
       "      <th>FLAG_OWN_REALTY</th>\n",
       "      <th>CNT_CHILDREN</th>\n",
       "      <th>AMT_INCOME_TOTAL</th>\n",
       "      <th>NAME_INCOME_TYPE</th>\n",
       "      <th>NAME_EDUCATION_TYPE</th>\n",
       "      <th>NAME_FAMILY_STATUS</th>\n",
       "      <th>...</th>\n",
       "      <th>DAYS_BIRTH</th>\n",
       "      <th>DAYS_EMPLOYED</th>\n",
       "      <th>FLAG_MOBIL</th>\n",
       "      <th>FLAG_WORK_PHONE</th>\n",
       "      <th>FLAG_PHONE</th>\n",
       "      <th>FLAG_EMAIL</th>\n",
       "      <th>OCCUPATION_TYPE</th>\n",
       "      <th>CNT_FAM_MEMBERS</th>\n",
       "      <th>BIRTH_DATE</th>\n",
       "      <th>EMPLOYMENT_START_DATE</th>\n",
       "    </tr>\n",
       "  </thead>\n",
       "  <tbody>\n",
       "    <tr>\n",
       "      <th>0</th>\n",
       "      <td>5009744</td>\n",
       "      <td>1</td>\n",
       "      <td>F</td>\n",
       "      <td>Y</td>\n",
       "      <td>N</td>\n",
       "      <td>0</td>\n",
       "      <td>315000.0</td>\n",
       "      <td>Commercial associate</td>\n",
       "      <td>Higher education</td>\n",
       "      <td>Married</td>\n",
       "      <td>...</td>\n",
       "      <td>-13557</td>\n",
       "      <td>-586</td>\n",
       "      <td>1</td>\n",
       "      <td>1</td>\n",
       "      <td>1</td>\n",
       "      <td>0</td>\n",
       "      <td>NaN</td>\n",
       "      <td>2.0</td>\n",
       "      <td>1982-11-19</td>\n",
       "      <td>2018-05-25</td>\n",
       "    </tr>\n",
       "    <tr>\n",
       "      <th>1</th>\n",
       "      <td>5009746</td>\n",
       "      <td>1</td>\n",
       "      <td>F</td>\n",
       "      <td>Y</td>\n",
       "      <td>N</td>\n",
       "      <td>0</td>\n",
       "      <td>315000.0</td>\n",
       "      <td>Commercial associate</td>\n",
       "      <td>Higher education</td>\n",
       "      <td>Married</td>\n",
       "      <td>...</td>\n",
       "      <td>-13557</td>\n",
       "      <td>-586</td>\n",
       "      <td>1</td>\n",
       "      <td>1</td>\n",
       "      <td>1</td>\n",
       "      <td>0</td>\n",
       "      <td>NaN</td>\n",
       "      <td>2.0</td>\n",
       "      <td>1982-11-19</td>\n",
       "      <td>2018-05-25</td>\n",
       "    </tr>\n",
       "    <tr>\n",
       "      <th>2</th>\n",
       "      <td>5009749</td>\n",
       "      <td>1</td>\n",
       "      <td>F</td>\n",
       "      <td>Y</td>\n",
       "      <td>N</td>\n",
       "      <td>0</td>\n",
       "      <td>315000.0</td>\n",
       "      <td>Commercial associate</td>\n",
       "      <td>Higher education</td>\n",
       "      <td>Married</td>\n",
       "      <td>...</td>\n",
       "      <td>-13557</td>\n",
       "      <td>-586</td>\n",
       "      <td>1</td>\n",
       "      <td>1</td>\n",
       "      <td>1</td>\n",
       "      <td>0</td>\n",
       "      <td>NaN</td>\n",
       "      <td>2.0</td>\n",
       "      <td>1982-11-19</td>\n",
       "      <td>2018-05-25</td>\n",
       "    </tr>\n",
       "    <tr>\n",
       "      <th>3</th>\n",
       "      <td>5009752</td>\n",
       "      <td>1</td>\n",
       "      <td>F</td>\n",
       "      <td>Y</td>\n",
       "      <td>N</td>\n",
       "      <td>0</td>\n",
       "      <td>315000.0</td>\n",
       "      <td>Commercial associate</td>\n",
       "      <td>Higher education</td>\n",
       "      <td>Married</td>\n",
       "      <td>...</td>\n",
       "      <td>-13557</td>\n",
       "      <td>-586</td>\n",
       "      <td>1</td>\n",
       "      <td>1</td>\n",
       "      <td>1</td>\n",
       "      <td>0</td>\n",
       "      <td>NaN</td>\n",
       "      <td>2.0</td>\n",
       "      <td>1982-11-19</td>\n",
       "      <td>2018-05-25</td>\n",
       "    </tr>\n",
       "    <tr>\n",
       "      <th>4</th>\n",
       "      <td>5009753</td>\n",
       "      <td>1</td>\n",
       "      <td>F</td>\n",
       "      <td>Y</td>\n",
       "      <td>N</td>\n",
       "      <td>0</td>\n",
       "      <td>315000.0</td>\n",
       "      <td>Pensioner</td>\n",
       "      <td>Higher education</td>\n",
       "      <td>Married</td>\n",
       "      <td>...</td>\n",
       "      <td>-13557</td>\n",
       "      <td>-586</td>\n",
       "      <td>1</td>\n",
       "      <td>1</td>\n",
       "      <td>1</td>\n",
       "      <td>0</td>\n",
       "      <td>NaN</td>\n",
       "      <td>2.0</td>\n",
       "      <td>1982-11-19</td>\n",
       "      <td>2018-05-25</td>\n",
       "    </tr>\n",
       "  </tbody>\n",
       "</table>\n",
       "<p>5 rows × 21 columns</p>\n",
       "</div>"
      ],
      "text/plain": [
       "        ID  label CODE_GENDER FLAG_OWN_CAR FLAG_OWN_REALTY  CNT_CHILDREN  \\\n",
       "0  5009744      1           F            Y               N             0   \n",
       "1  5009746      1           F            Y               N             0   \n",
       "2  5009749      1           F            Y               N             0   \n",
       "3  5009752      1           F            Y               N             0   \n",
       "4  5009753      1           F            Y               N             0   \n",
       "\n",
       "   AMT_INCOME_TOTAL      NAME_INCOME_TYPE NAME_EDUCATION_TYPE  \\\n",
       "0          315000.0  Commercial associate    Higher education   \n",
       "1          315000.0  Commercial associate    Higher education   \n",
       "2          315000.0  Commercial associate    Higher education   \n",
       "3          315000.0  Commercial associate    Higher education   \n",
       "4          315000.0             Pensioner    Higher education   \n",
       "\n",
       "  NAME_FAMILY_STATUS  ... DAYS_BIRTH  DAYS_EMPLOYED  FLAG_MOBIL  \\\n",
       "0            Married  ...     -13557           -586           1   \n",
       "1            Married  ...     -13557           -586           1   \n",
       "2            Married  ...     -13557           -586           1   \n",
       "3            Married  ...     -13557           -586           1   \n",
       "4            Married  ...     -13557           -586           1   \n",
       "\n",
       "   FLAG_WORK_PHONE  FLAG_PHONE  FLAG_EMAIL  OCCUPATION_TYPE CNT_FAM_MEMBERS  \\\n",
       "0                1           1           0              NaN             2.0   \n",
       "1                1           1           0              NaN             2.0   \n",
       "2                1           1           0              NaN             2.0   \n",
       "3                1           1           0              NaN             2.0   \n",
       "4                1           1           0              NaN             2.0   \n",
       "\n",
       "   BIRTH_DATE EMPLOYMENT_START_DATE  \n",
       "0  1982-11-19            2018-05-25  \n",
       "1  1982-11-19            2018-05-25  \n",
       "2  1982-11-19            2018-05-25  \n",
       "3  1982-11-19            2018-05-25  \n",
       "4  1982-11-19            2018-05-25  \n",
       "\n",
       "[5 rows x 21 columns]"
      ]
     },
     "execution_count": 47,
     "metadata": {},
     "output_type": "execute_result"
    }
   ],
   "source": [
    "model_df.head()"
   ]
  },
  {
   "cell_type": "code",
   "execution_count": 48,
   "metadata": {
    "execution": {
     "iopub.execute_input": "2023-04-11T19:01:45.042218Z",
     "iopub.status.busy": "2023-04-11T19:01:45.039358Z",
     "iopub.status.idle": "2023-04-11T19:01:45.070507Z",
     "shell.execute_reply": "2023-04-11T19:01:45.069268Z",
     "shell.execute_reply.started": "2023-04-11T19:01:45.042169Z"
    }
   },
   "outputs": [
    {
     "data": {
      "text/plain": [
       "1787"
      ]
     },
     "execution_count": 48,
     "metadata": {},
     "output_type": "execute_result"
    }
   ],
   "source": [
    "model_df = pd.merge (model_df, credit_card_first_month.loc[:,['ID','account_open_month']],how='inner',on=['ID'] )\n",
    "len(model_df)"
   ]
  },
  {
   "cell_type": "code",
   "execution_count": 49,
   "metadata": {
    "execution": {
     "iopub.execute_input": "2023-04-11T19:01:45.077822Z",
     "iopub.status.busy": "2023-04-11T19:01:45.075192Z",
     "iopub.status.idle": "2023-04-11T19:01:45.097779Z",
     "shell.execute_reply": "2023-04-11T19:01:45.096751Z",
     "shell.execute_reply.started": "2023-04-11T19:01:45.077779Z"
    }
   },
   "outputs": [],
   "source": [
    "# Age in months\n",
    "\n",
    "model_df['age_months'] = ((pd.to_datetime(model_df['account_open_month'],format='%b-%Y')  - model_df.BIRTH_DATE)/np.timedelta64(1, 'M'))\n",
    "model_df['age_months'] = model_df['age_months'].astype(int)\n",
    "# Experience/Employment in Months\n",
    "model_df['employment_months'] = ((pd.to_datetime(model_df['account_open_month'],format='%b-%Y')  - model_df.EMPLOYMENT_START_DATE)/np.timedelta64(1, 'M'))\n",
    "model_df['employment_months'] = model_df['employment_months'].astype(int)"
   ]
  },
  {
   "cell_type": "code",
   "execution_count": 50,
   "metadata": {
    "execution": {
     "iopub.execute_input": "2023-04-11T19:01:45.104966Z",
     "iopub.status.busy": "2023-04-11T19:01:45.102492Z",
     "iopub.status.idle": "2023-04-11T19:01:45.113178Z",
     "shell.execute_reply": "2023-04-11T19:01:45.112053Z",
     "shell.execute_reply.started": "2023-04-11T19:01:45.104922Z"
    }
   },
   "outputs": [],
   "source": [
    "model_df.loc[model_df.employment_months <0, \"employment_months\"] = -1"
   ]
  },
  {
   "cell_type": "code",
   "execution_count": 51,
   "metadata": {
    "execution": {
     "iopub.execute_input": "2023-04-11T19:01:45.118614Z",
     "iopub.status.busy": "2023-04-11T19:01:45.117222Z",
     "iopub.status.idle": "2023-04-11T19:01:45.132534Z",
     "shell.execute_reply": "2023-04-11T19:01:45.130670Z",
     "shell.execute_reply.started": "2023-04-11T19:01:45.118566Z"
    }
   },
   "outputs": [],
   "source": [
    "model_df=model_df.drop(['BIRTH_DATE','EMPLOYMENT_START_DATE','account_open_month','DAYS_BIRTH','DAYS_EMPLOYED','FLAG_MOBIL'], axis=1)\n"
   ]
  },
  {
   "cell_type": "code",
   "execution_count": 52,
   "metadata": {
    "execution": {
     "iopub.execute_input": "2023-04-11T19:01:45.136813Z",
     "iopub.status.busy": "2023-04-11T19:01:45.135166Z",
     "iopub.status.idle": "2023-04-11T19:01:45.171507Z",
     "shell.execute_reply": "2023-04-11T19:01:45.170381Z",
     "shell.execute_reply.started": "2023-04-11T19:01:45.136775Z"
    }
   },
   "outputs": [
    {
     "data": {
      "text/html": [
       "<div>\n",
       "<style scoped>\n",
       "    .dataframe tbody tr th:only-of-type {\n",
       "        vertical-align: middle;\n",
       "    }\n",
       "\n",
       "    .dataframe tbody tr th {\n",
       "        vertical-align: top;\n",
       "    }\n",
       "\n",
       "    .dataframe thead th {\n",
       "        text-align: right;\n",
       "    }\n",
       "</style>\n",
       "<table border=\"1\" class=\"dataframe\">\n",
       "  <thead>\n",
       "    <tr style=\"text-align: right;\">\n",
       "      <th></th>\n",
       "      <th>Feature</th>\n",
       "      <th>BaseFeatureType</th>\n",
       "      <th>AnalysisFeatureType</th>\n",
       "    </tr>\n",
       "  </thead>\n",
       "  <tbody>\n",
       "    <tr>\n",
       "      <th>0</th>\n",
       "      <td>ID</td>\n",
       "      <td>Ordinal</td>\n",
       "      <td>Continuous-Ordinal</td>\n",
       "    </tr>\n",
       "    <tr>\n",
       "      <th>1</th>\n",
       "      <td>label</td>\n",
       "      <td>Binary</td>\n",
       "      <td>Binary</td>\n",
       "    </tr>\n",
       "    <tr>\n",
       "      <th>2</th>\n",
       "      <td>CODE_GENDER</td>\n",
       "      <td>Category-Binary</td>\n",
       "      <td>Binary</td>\n",
       "    </tr>\n",
       "    <tr>\n",
       "      <th>3</th>\n",
       "      <td>FLAG_OWN_CAR</td>\n",
       "      <td>Category-Binary</td>\n",
       "      <td>Binary</td>\n",
       "    </tr>\n",
       "    <tr>\n",
       "      <th>4</th>\n",
       "      <td>FLAG_OWN_REALTY</td>\n",
       "      <td>Category-Binary</td>\n",
       "      <td>Binary</td>\n",
       "    </tr>\n",
       "    <tr>\n",
       "      <th>5</th>\n",
       "      <td>CNT_CHILDREN</td>\n",
       "      <td>Continuous</td>\n",
       "      <td>Continuous</td>\n",
       "    </tr>\n",
       "    <tr>\n",
       "      <th>6</th>\n",
       "      <td>AMT_INCOME_TOTAL</td>\n",
       "      <td>Continuous</td>\n",
       "      <td>Continuous</td>\n",
       "    </tr>\n",
       "    <tr>\n",
       "      <th>7</th>\n",
       "      <td>NAME_INCOME_TYPE</td>\n",
       "      <td>Nominal</td>\n",
       "      <td>Categorical-Nominal</td>\n",
       "    </tr>\n",
       "    <tr>\n",
       "      <th>8</th>\n",
       "      <td>NAME_EDUCATION_TYPE</td>\n",
       "      <td>Nominal</td>\n",
       "      <td>Categorical-Nominal</td>\n",
       "    </tr>\n",
       "    <tr>\n",
       "      <th>9</th>\n",
       "      <td>NAME_FAMILY_STATUS</td>\n",
       "      <td>Nominal</td>\n",
       "      <td>Categorical-Nominal</td>\n",
       "    </tr>\n",
       "    <tr>\n",
       "      <th>10</th>\n",
       "      <td>NAME_HOUSING_TYPE</td>\n",
       "      <td>Nominal</td>\n",
       "      <td>Categorical-Nominal</td>\n",
       "    </tr>\n",
       "    <tr>\n",
       "      <th>11</th>\n",
       "      <td>FLAG_WORK_PHONE</td>\n",
       "      <td>Binary</td>\n",
       "      <td>Binary</td>\n",
       "    </tr>\n",
       "    <tr>\n",
       "      <th>12</th>\n",
       "      <td>FLAG_PHONE</td>\n",
       "      <td>Binary</td>\n",
       "      <td>Binary</td>\n",
       "    </tr>\n",
       "    <tr>\n",
       "      <th>13</th>\n",
       "      <td>FLAG_EMAIL</td>\n",
       "      <td>Binary</td>\n",
       "      <td>Binary</td>\n",
       "    </tr>\n",
       "    <tr>\n",
       "      <th>14</th>\n",
       "      <td>OCCUPATION_TYPE</td>\n",
       "      <td>Nominal</td>\n",
       "      <td>Categorical-Nominal</td>\n",
       "    </tr>\n",
       "    <tr>\n",
       "      <th>15</th>\n",
       "      <td>CNT_FAM_MEMBERS</td>\n",
       "      <td>Continuous</td>\n",
       "      <td>Continuous</td>\n",
       "    </tr>\n",
       "    <tr>\n",
       "      <th>16</th>\n",
       "      <td>age_months</td>\n",
       "      <td>Continuous</td>\n",
       "      <td>Continuous</td>\n",
       "    </tr>\n",
       "    <tr>\n",
       "      <th>17</th>\n",
       "      <td>employment_months</td>\n",
       "      <td>Continuous</td>\n",
       "      <td>Continuous</td>\n",
       "    </tr>\n",
       "  </tbody>\n",
       "</table>\n",
       "</div>"
      ],
      "text/plain": [
       "                Feature  BaseFeatureType  AnalysisFeatureType\n",
       "0                    ID          Ordinal   Continuous-Ordinal\n",
       "1                 label           Binary               Binary\n",
       "2           CODE_GENDER  Category-Binary               Binary\n",
       "3          FLAG_OWN_CAR  Category-Binary               Binary\n",
       "4       FLAG_OWN_REALTY  Category-Binary               Binary\n",
       "5          CNT_CHILDREN       Continuous           Continuous\n",
       "6      AMT_INCOME_TOTAL       Continuous           Continuous\n",
       "7      NAME_INCOME_TYPE          Nominal  Categorical-Nominal\n",
       "8   NAME_EDUCATION_TYPE          Nominal  Categorical-Nominal\n",
       "9    NAME_FAMILY_STATUS          Nominal  Categorical-Nominal\n",
       "10    NAME_HOUSING_TYPE          Nominal  Categorical-Nominal\n",
       "11      FLAG_WORK_PHONE           Binary               Binary\n",
       "12           FLAG_PHONE           Binary               Binary\n",
       "13           FLAG_EMAIL           Binary               Binary\n",
       "14      OCCUPATION_TYPE          Nominal  Categorical-Nominal\n",
       "15      CNT_FAM_MEMBERS       Continuous           Continuous\n",
       "16           age_months       Continuous           Continuous\n",
       "17    employment_months       Continuous           Continuous"
      ]
     },
     "execution_count": 52,
     "metadata": {},
     "output_type": "execute_result"
    }
   ],
   "source": [
    "featureType(model_df)"
   ]
  },
  {
   "cell_type": "code",
   "execution_count": 53,
   "metadata": {
    "execution": {
     "iopub.execute_input": "2023-04-11T19:01:45.178359Z",
     "iopub.status.busy": "2023-04-11T19:01:45.176070Z",
     "iopub.status.idle": "2023-04-11T19:01:45.208619Z",
     "shell.execute_reply": "2023-04-11T19:01:45.207604Z",
     "shell.execute_reply.started": "2023-04-11T19:01:45.178305Z"
    }
   },
   "outputs": [
    {
     "name": "stdout",
     "output_type": "stream",
     "text": [
      "            Income_Type  Label_0  Label_1   pct_obs  pct_label_0  pct_label_1\n",
      "0  Commercial associate    397.0     24.0  0.235590     0.942993     0.057007\n",
      "1             Pensioner    284.0     18.0  0.168998     0.940397     0.059603\n",
      "2         State servant    156.0      4.0  0.089536     0.975000     0.025000\n",
      "3               Student      1.0      0.0  0.000560     1.000000     0.000000\n",
      "4               Working    863.0     40.0  0.505316     0.955703     0.044297\n"
     ]
    }
   ],
   "source": [
    "import warnings\n",
    "warnings.filterwarnings(\"ignore\")\n",
    "\n",
    "income_type = model_df.groupby(['NAME_INCOME_TYPE','label'])['NAME_INCOME_TYPE','label'].size().reset_index(name='counts')\n",
    "\n",
    "# Restucture\n",
    "income_type = income_type.pivot(index='NAME_INCOME_TYPE', columns='label', values='counts')\n",
    "# Fill with 0\n",
    "income_type=income_type.fillna(0).reset_index()\n",
    "# Rename the columns\n",
    "income_type.columns=['Income_Type','Label_0','Label_1']\n",
    "\n",
    "# Calculate Bad Rate for each of the income type\n",
    "income_type['pct_obs'] = (income_type['Label_0']+income_type['Label_1'])/(sum(income_type['Label_0'])+sum(income_type['Label_1']))\n",
    "income_type['pct_label_0']= income_type['Label_0']/(income_type['Label_0']+income_type['Label_1'])\n",
    "income_type['pct_label_1']= income_type['Label_1']/(income_type['Label_0']+income_type['Label_1'])\n",
    "print(income_type)"
   ]
  },
  {
   "cell_type": "code",
   "execution_count": 54,
   "metadata": {
    "execution": {
     "iopub.execute_input": "2023-04-11T19:06:19.138408Z",
     "iopub.status.busy": "2023-04-11T19:06:19.137506Z",
     "iopub.status.idle": "2023-04-11T19:06:19.157513Z",
     "shell.execute_reply": "2023-04-11T19:06:19.156135Z",
     "shell.execute_reply.started": "2023-04-11T19:06:19.138367Z"
    }
   },
   "outputs": [],
   "source": [
    "# change missing value for OCCUPATION_TYPE\n",
    "model_df.loc[model_df.OCCUPATION_TYPE=='', \"OCCUPATION_TYPE\"] = \"NA\"\n",
    "# One hot Encoding using get_dummies function\n",
    "model_df2=pd.get_dummies(model_df, columns=['CODE_GENDER','FLAG_OWN_CAR','FLAG_OWN_REALTY',\"NAME_INCOME_TYPE\",'NAME_EDUCATION_TYPE','NAME_FAMILY_STATUS','NAME_HOUSING_TYPE','OCCUPATION_TYPE'])"
   ]
  },
  {
   "cell_type": "code",
   "execution_count": 55,
   "metadata": {
    "execution": {
     "iopub.execute_input": "2023-04-11T19:06:32.831454Z",
     "iopub.status.busy": "2023-04-11T19:06:32.831063Z",
     "iopub.status.idle": "2023-04-11T19:06:32.839749Z",
     "shell.execute_reply": "2023-04-11T19:06:32.838660Z",
     "shell.execute_reply.started": "2023-04-11T19:06:32.831419Z"
    }
   },
   "outputs": [
    {
     "data": {
      "text/plain": [
       "1787"
      ]
     },
     "execution_count": 55,
     "metadata": {},
     "output_type": "execute_result"
    }
   ],
   "source": [
    "len(model_df2)"
   ]
  },
  {
   "cell_type": "code",
   "execution_count": 56,
   "metadata": {
    "execution": {
     "iopub.execute_input": "2023-04-11T19:07:15.233333Z",
     "iopub.status.busy": "2023-04-11T19:07:15.232836Z",
     "iopub.status.idle": "2023-04-11T19:07:15.465956Z",
     "shell.execute_reply": "2023-04-11T19:07:15.464818Z",
     "shell.execute_reply.started": "2023-04-11T19:07:15.233289Z"
    }
   },
   "outputs": [],
   "source": [
    "import xgboost as xgb\n",
    "from sklearn.metrics import accuracy_score\n",
    "import pandas as pd\n",
    "import numpy as np"
   ]
  },
  {
   "cell_type": "code",
   "execution_count": 57,
   "metadata": {
    "execution": {
     "iopub.execute_input": "2023-04-11T19:07:24.371170Z",
     "iopub.status.busy": "2023-04-11T19:07:24.370604Z",
     "iopub.status.idle": "2023-04-11T19:07:24.379453Z",
     "shell.execute_reply": "2023-04-11T19:07:24.378354Z",
     "shell.execute_reply.started": "2023-04-11T19:07:24.371125Z"
    }
   },
   "outputs": [
    {
     "data": {
      "text/plain": [
       "Index(['ID', 'label', 'CNT_CHILDREN', 'AMT_INCOME_TOTAL', 'FLAG_WORK_PHONE',\n",
       "       'FLAG_PHONE', 'FLAG_EMAIL', 'CNT_FAM_MEMBERS', 'age_months',\n",
       "       'employment_months', 'CODE_GENDER_F', 'CODE_GENDER_M', 'FLAG_OWN_CAR_N',\n",
       "       'FLAG_OWN_CAR_Y', 'FLAG_OWN_REALTY_N', 'FLAG_OWN_REALTY_Y',\n",
       "       'NAME_INCOME_TYPE_Commercial associate', 'NAME_INCOME_TYPE_Pensioner',\n",
       "       'NAME_INCOME_TYPE_State servant', 'NAME_INCOME_TYPE_Student',\n",
       "       'NAME_INCOME_TYPE_Working', 'NAME_EDUCATION_TYPE_Academic degree',\n",
       "       'NAME_EDUCATION_TYPE_Higher education',\n",
       "       'NAME_EDUCATION_TYPE_Incomplete higher',\n",
       "       'NAME_EDUCATION_TYPE_Lower secondary',\n",
       "       'NAME_EDUCATION_TYPE_Secondary / secondary special',\n",
       "       'NAME_FAMILY_STATUS_Civil marriage', 'NAME_FAMILY_STATUS_Married',\n",
       "       'NAME_FAMILY_STATUS_Separated',\n",
       "       'NAME_FAMILY_STATUS_Single / not married', 'NAME_FAMILY_STATUS_Widow',\n",
       "       'NAME_HOUSING_TYPE_Co-op apartment',\n",
       "       'NAME_HOUSING_TYPE_House / apartment',\n",
       "       'NAME_HOUSING_TYPE_Municipal apartment',\n",
       "       'NAME_HOUSING_TYPE_Office apartment',\n",
       "       'NAME_HOUSING_TYPE_Rented apartment', 'NAME_HOUSING_TYPE_With parents',\n",
       "       'OCCUPATION_TYPE_Accountants', 'OCCUPATION_TYPE_Cleaning staff',\n",
       "       'OCCUPATION_TYPE_Cooking staff', 'OCCUPATION_TYPE_Core staff',\n",
       "       'OCCUPATION_TYPE_Drivers', 'OCCUPATION_TYPE_HR staff',\n",
       "       'OCCUPATION_TYPE_High skill tech staff', 'OCCUPATION_TYPE_IT staff',\n",
       "       'OCCUPATION_TYPE_Laborers', 'OCCUPATION_TYPE_Low-skill Laborers',\n",
       "       'OCCUPATION_TYPE_Managers', 'OCCUPATION_TYPE_Medicine staff',\n",
       "       'OCCUPATION_TYPE_Private service staff',\n",
       "       'OCCUPATION_TYPE_Realty agents', 'OCCUPATION_TYPE_Sales staff',\n",
       "       'OCCUPATION_TYPE_Secretaries', 'OCCUPATION_TYPE_Security staff',\n",
       "       'OCCUPATION_TYPE_Waiters/barmen staff'],\n",
       "      dtype='object')"
      ]
     },
     "execution_count": 57,
     "metadata": {},
     "output_type": "execute_result"
    }
   ],
   "source": [
    "model_df2.columns"
   ]
  },
  {
   "cell_type": "code",
   "execution_count": 58,
   "metadata": {},
   "outputs": [
    {
     "data": {
      "text/plain": [
       "0    1701\n",
       "1      86\n",
       "Name: label, dtype: int64"
      ]
     },
     "execution_count": 58,
     "metadata": {},
     "output_type": "execute_result"
    }
   ],
   "source": [
    "model_df2['label'].value_counts()"
   ]
  },
  {
   "cell_type": "code",
   "execution_count": 59,
   "metadata": {
    "execution": {
     "iopub.execute_input": "2023-04-11T19:07:41.940458Z",
     "iopub.status.busy": "2023-04-11T19:07:41.940009Z",
     "iopub.status.idle": "2023-04-11T19:07:41.949740Z",
     "shell.execute_reply": "2023-04-11T19:07:41.948311Z",
     "shell.execute_reply.started": "2023-04-11T19:07:41.940415Z"
    }
   },
   "outputs": [],
   "source": [
    "# Features - exclude ID and Label columns\n",
    "features = model_df2.iloc[:,2:]\n",
    "# Label - select only label column\n",
    "label = model_df2.iloc[:,1]"
   ]
  },
  {
   "cell_type": "code",
   "execution_count": 60,
   "metadata": {
    "execution": {
     "iopub.execute_input": "2023-04-11T19:12:23.909930Z",
     "iopub.status.busy": "2023-04-11T19:12:23.909178Z",
     "iopub.status.idle": "2023-04-11T19:12:23.925779Z",
     "shell.execute_reply": "2023-04-11T19:12:23.923489Z",
     "shell.execute_reply.started": "2023-04-11T19:12:23.909878Z"
    }
   },
   "outputs": [
    {
     "data": {
      "text/plain": [
       "0       1\n",
       "1       1\n",
       "2       1\n",
       "3       1\n",
       "4       1\n",
       "       ..\n",
       "1782    0\n",
       "1783    0\n",
       "1784    0\n",
       "1785    0\n",
       "1786    0\n",
       "Name: label, Length: 1787, dtype: int32"
      ]
     },
     "execution_count": 60,
     "metadata": {},
     "output_type": "execute_result"
    }
   ],
   "source": [
    "label"
   ]
  },
  {
   "cell_type": "code",
   "execution_count": 61,
   "metadata": {
    "execution": {
     "iopub.execute_input": "2023-04-11T19:07:55.447499Z",
     "iopub.status.busy": "2023-04-11T19:07:55.446436Z",
     "iopub.status.idle": "2023-04-11T19:07:55.472711Z",
     "shell.execute_reply": "2023-04-11T19:07:55.471661Z",
     "shell.execute_reply.started": "2023-04-11T19:07:55.447454Z"
    }
   },
   "outputs": [
    {
     "data": {
      "text/html": [
       "<div>\n",
       "<style scoped>\n",
       "    .dataframe tbody tr th:only-of-type {\n",
       "        vertical-align: middle;\n",
       "    }\n",
       "\n",
       "    .dataframe tbody tr th {\n",
       "        vertical-align: top;\n",
       "    }\n",
       "\n",
       "    .dataframe thead th {\n",
       "        text-align: right;\n",
       "    }\n",
       "</style>\n",
       "<table border=\"1\" class=\"dataframe\">\n",
       "  <thead>\n",
       "    <tr style=\"text-align: right;\">\n",
       "      <th></th>\n",
       "      <th>ID</th>\n",
       "      <th>label</th>\n",
       "      <th>CNT_CHILDREN</th>\n",
       "      <th>AMT_INCOME_TOTAL</th>\n",
       "      <th>FLAG_WORK_PHONE</th>\n",
       "      <th>FLAG_PHONE</th>\n",
       "      <th>FLAG_EMAIL</th>\n",
       "      <th>CNT_FAM_MEMBERS</th>\n",
       "      <th>age_months</th>\n",
       "      <th>employment_months</th>\n",
       "      <th>...</th>\n",
       "      <th>OCCUPATION_TYPE_Laborers</th>\n",
       "      <th>OCCUPATION_TYPE_Low-skill Laborers</th>\n",
       "      <th>OCCUPATION_TYPE_Managers</th>\n",
       "      <th>OCCUPATION_TYPE_Medicine staff</th>\n",
       "      <th>OCCUPATION_TYPE_Private service staff</th>\n",
       "      <th>OCCUPATION_TYPE_Realty agents</th>\n",
       "      <th>OCCUPATION_TYPE_Sales staff</th>\n",
       "      <th>OCCUPATION_TYPE_Secretaries</th>\n",
       "      <th>OCCUPATION_TYPE_Security staff</th>\n",
       "      <th>OCCUPATION_TYPE_Waiters/barmen staff</th>\n",
       "    </tr>\n",
       "  </thead>\n",
       "  <tbody>\n",
       "    <tr>\n",
       "      <th>718</th>\n",
       "      <td>5051121</td>\n",
       "      <td>0</td>\n",
       "      <td>0</td>\n",
       "      <td>202500.0</td>\n",
       "      <td>0</td>\n",
       "      <td>0</td>\n",
       "      <td>0</td>\n",
       "      <td>2.0</td>\n",
       "      <td>439</td>\n",
       "      <td>185</td>\n",
       "      <td>...</td>\n",
       "      <td>0</td>\n",
       "      <td>0</td>\n",
       "      <td>0</td>\n",
       "      <td>0</td>\n",
       "      <td>0</td>\n",
       "      <td>0</td>\n",
       "      <td>0</td>\n",
       "      <td>0</td>\n",
       "      <td>0</td>\n",
       "      <td>0</td>\n",
       "    </tr>\n",
       "    <tr>\n",
       "      <th>1134</th>\n",
       "      <td>5115655</td>\n",
       "      <td>0</td>\n",
       "      <td>0</td>\n",
       "      <td>270000.0</td>\n",
       "      <td>0</td>\n",
       "      <td>0</td>\n",
       "      <td>0</td>\n",
       "      <td>2.0</td>\n",
       "      <td>489</td>\n",
       "      <td>20</td>\n",
       "      <td>...</td>\n",
       "      <td>0</td>\n",
       "      <td>0</td>\n",
       "      <td>1</td>\n",
       "      <td>0</td>\n",
       "      <td>0</td>\n",
       "      <td>0</td>\n",
       "      <td>0</td>\n",
       "      <td>0</td>\n",
       "      <td>0</td>\n",
       "      <td>0</td>\n",
       "    </tr>\n",
       "    <tr>\n",
       "      <th>1636</th>\n",
       "      <td>5050856</td>\n",
       "      <td>0</td>\n",
       "      <td>0</td>\n",
       "      <td>180000.0</td>\n",
       "      <td>0</td>\n",
       "      <td>0</td>\n",
       "      <td>0</td>\n",
       "      <td>1.0</td>\n",
       "      <td>308</td>\n",
       "      <td>46</td>\n",
       "      <td>...</td>\n",
       "      <td>0</td>\n",
       "      <td>0</td>\n",
       "      <td>0</td>\n",
       "      <td>0</td>\n",
       "      <td>0</td>\n",
       "      <td>0</td>\n",
       "      <td>0</td>\n",
       "      <td>0</td>\n",
       "      <td>0</td>\n",
       "      <td>0</td>\n",
       "    </tr>\n",
       "    <tr>\n",
       "      <th>1495</th>\n",
       "      <td>5033411</td>\n",
       "      <td>0</td>\n",
       "      <td>2</td>\n",
       "      <td>157500.0</td>\n",
       "      <td>0</td>\n",
       "      <td>0</td>\n",
       "      <td>0</td>\n",
       "      <td>4.0</td>\n",
       "      <td>444</td>\n",
       "      <td>45</td>\n",
       "      <td>...</td>\n",
       "      <td>0</td>\n",
       "      <td>0</td>\n",
       "      <td>0</td>\n",
       "      <td>0</td>\n",
       "      <td>0</td>\n",
       "      <td>0</td>\n",
       "      <td>0</td>\n",
       "      <td>0</td>\n",
       "      <td>0</td>\n",
       "      <td>0</td>\n",
       "    </tr>\n",
       "    <tr>\n",
       "      <th>185</th>\n",
       "      <td>5096104</td>\n",
       "      <td>0</td>\n",
       "      <td>2</td>\n",
       "      <td>112500.0</td>\n",
       "      <td>1</td>\n",
       "      <td>1</td>\n",
       "      <td>0</td>\n",
       "      <td>4.0</td>\n",
       "      <td>367</td>\n",
       "      <td>30</td>\n",
       "      <td>...</td>\n",
       "      <td>0</td>\n",
       "      <td>0</td>\n",
       "      <td>0</td>\n",
       "      <td>0</td>\n",
       "      <td>0</td>\n",
       "      <td>0</td>\n",
       "      <td>1</td>\n",
       "      <td>0</td>\n",
       "      <td>0</td>\n",
       "      <td>0</td>\n",
       "    </tr>\n",
       "  </tbody>\n",
       "</table>\n",
       "<p>5 rows × 55 columns</p>\n",
       "</div>"
      ],
      "text/plain": [
       "           ID  label  CNT_CHILDREN  AMT_INCOME_TOTAL  FLAG_WORK_PHONE  \\\n",
       "718   5051121      0             0          202500.0                0   \n",
       "1134  5115655      0             0          270000.0                0   \n",
       "1636  5050856      0             0          180000.0                0   \n",
       "1495  5033411      0             2          157500.0                0   \n",
       "185   5096104      0             2          112500.0                1   \n",
       "\n",
       "      FLAG_PHONE  FLAG_EMAIL  CNT_FAM_MEMBERS  age_months  employment_months  \\\n",
       "718            0           0              2.0         439                185   \n",
       "1134           0           0              2.0         489                 20   \n",
       "1636           0           0              1.0         308                 46   \n",
       "1495           0           0              4.0         444                 45   \n",
       "185            1           0              4.0         367                 30   \n",
       "\n",
       "      ...  OCCUPATION_TYPE_Laborers  OCCUPATION_TYPE_Low-skill Laborers  \\\n",
       "718   ...                         0                                   0   \n",
       "1134  ...                         0                                   0   \n",
       "1636  ...                         0                                   0   \n",
       "1495  ...                         0                                   0   \n",
       "185   ...                         0                                   0   \n",
       "\n",
       "      OCCUPATION_TYPE_Managers  OCCUPATION_TYPE_Medicine staff  \\\n",
       "718                          0                               0   \n",
       "1134                         1                               0   \n",
       "1636                         0                               0   \n",
       "1495                         0                               0   \n",
       "185                          0                               0   \n",
       "\n",
       "      OCCUPATION_TYPE_Private service staff  OCCUPATION_TYPE_Realty agents  \\\n",
       "718                                       0                              0   \n",
       "1134                                      0                              0   \n",
       "1636                                      0                              0   \n",
       "1495                                      0                              0   \n",
       "185                                       0                              0   \n",
       "\n",
       "      OCCUPATION_TYPE_Sales staff  OCCUPATION_TYPE_Secretaries  \\\n",
       "718                             0                            0   \n",
       "1134                            0                            0   \n",
       "1636                            0                            0   \n",
       "1495                            0                            0   \n",
       "185                             1                            0   \n",
       "\n",
       "      OCCUPATION_TYPE_Security staff  OCCUPATION_TYPE_Waiters/barmen staff  \n",
       "718                                0                                     0  \n",
       "1134                               0                                     0  \n",
       "1636                               0                                     0  \n",
       "1495                               0                                     0  \n",
       "185                                0                                     0  \n",
       "\n",
       "[5 rows x 55 columns]"
      ]
     },
     "execution_count": 61,
     "metadata": {},
     "output_type": "execute_result"
    }
   ],
   "source": [
    "model_df2.sample(5)"
   ]
  },
  {
   "cell_type": "code",
   "execution_count": 62,
   "metadata": {
    "execution": {
     "iopub.execute_input": "2023-04-11T19:08:34.583567Z",
     "iopub.status.busy": "2023-04-11T19:08:34.583193Z",
     "iopub.status.idle": "2023-04-11T19:08:34.593939Z",
     "shell.execute_reply": "2023-04-11T19:08:34.592646Z",
     "shell.execute_reply.started": "2023-04-11T19:08:34.583533Z"
    }
   },
   "outputs": [
    {
     "data": {
      "text/plain": [
       "ID                                                     int64\n",
       "label                                                  int32\n",
       "CNT_CHILDREN                                           int64\n",
       "AMT_INCOME_TOTAL                                     float64\n",
       "FLAG_WORK_PHONE                                        int64\n",
       "FLAG_PHONE                                             int64\n",
       "FLAG_EMAIL                                             int64\n",
       "CNT_FAM_MEMBERS                                      float64\n",
       "age_months                                             int32\n",
       "employment_months                                      int32\n",
       "CODE_GENDER_F                                          uint8\n",
       "CODE_GENDER_M                                          uint8\n",
       "FLAG_OWN_CAR_N                                         uint8\n",
       "FLAG_OWN_CAR_Y                                         uint8\n",
       "FLAG_OWN_REALTY_N                                      uint8\n",
       "FLAG_OWN_REALTY_Y                                      uint8\n",
       "NAME_INCOME_TYPE_Commercial associate                  uint8\n",
       "NAME_INCOME_TYPE_Pensioner                             uint8\n",
       "NAME_INCOME_TYPE_State servant                         uint8\n",
       "NAME_INCOME_TYPE_Student                               uint8\n",
       "NAME_INCOME_TYPE_Working                               uint8\n",
       "NAME_EDUCATION_TYPE_Academic degree                    uint8\n",
       "NAME_EDUCATION_TYPE_Higher education                   uint8\n",
       "NAME_EDUCATION_TYPE_Incomplete higher                  uint8\n",
       "NAME_EDUCATION_TYPE_Lower secondary                    uint8\n",
       "NAME_EDUCATION_TYPE_Secondary / secondary special      uint8\n",
       "NAME_FAMILY_STATUS_Civil marriage                      uint8\n",
       "NAME_FAMILY_STATUS_Married                             uint8\n",
       "NAME_FAMILY_STATUS_Separated                           uint8\n",
       "NAME_FAMILY_STATUS_Single / not married                uint8\n",
       "NAME_FAMILY_STATUS_Widow                               uint8\n",
       "NAME_HOUSING_TYPE_Co-op apartment                      uint8\n",
       "NAME_HOUSING_TYPE_House / apartment                    uint8\n",
       "NAME_HOUSING_TYPE_Municipal apartment                  uint8\n",
       "NAME_HOUSING_TYPE_Office apartment                     uint8\n",
       "NAME_HOUSING_TYPE_Rented apartment                     uint8\n",
       "NAME_HOUSING_TYPE_With parents                         uint8\n",
       "OCCUPATION_TYPE_Accountants                            uint8\n",
       "OCCUPATION_TYPE_Cleaning staff                         uint8\n",
       "OCCUPATION_TYPE_Cooking staff                          uint8\n",
       "OCCUPATION_TYPE_Core staff                             uint8\n",
       "OCCUPATION_TYPE_Drivers                                uint8\n",
       "OCCUPATION_TYPE_HR staff                               uint8\n",
       "OCCUPATION_TYPE_High skill tech staff                  uint8\n",
       "OCCUPATION_TYPE_IT staff                               uint8\n",
       "OCCUPATION_TYPE_Laborers                               uint8\n",
       "OCCUPATION_TYPE_Low-skill Laborers                     uint8\n",
       "OCCUPATION_TYPE_Managers                               uint8\n",
       "OCCUPATION_TYPE_Medicine staff                         uint8\n",
       "OCCUPATION_TYPE_Private service staff                  uint8\n",
       "OCCUPATION_TYPE_Realty agents                          uint8\n",
       "OCCUPATION_TYPE_Sales staff                            uint8\n",
       "OCCUPATION_TYPE_Secretaries                            uint8\n",
       "OCCUPATION_TYPE_Security staff                         uint8\n",
       "OCCUPATION_TYPE_Waiters/barmen staff                   uint8\n",
       "dtype: object"
      ]
     },
     "execution_count": 62,
     "metadata": {},
     "output_type": "execute_result"
    }
   ],
   "source": [
    "model_df2.dtypes"
   ]
  },
  {
   "cell_type": "code",
   "execution_count": 63,
   "metadata": {
    "execution": {
     "iopub.execute_input": "2023-04-11T19:08:06.625823Z",
     "iopub.status.busy": "2023-04-11T19:08:06.625194Z",
     "iopub.status.idle": "2023-04-11T19:08:06.634998Z",
     "shell.execute_reply": "2023-04-11T19:08:06.633822Z",
     "shell.execute_reply.started": "2023-04-11T19:08:06.625781Z"
    }
   },
   "outputs": [],
   "source": [
    "from sklearn.model_selection import train_test_split\n",
    "features_train, features_test, label_train, label_test = train_test_split(features, label, test_size=0.2, random_state=557)"
   ]
  },
  {
   "cell_type": "code",
   "execution_count": 64,
   "metadata": {
    "execution": {
     "iopub.execute_input": "2023-04-11T19:11:35.185669Z",
     "iopub.status.busy": "2023-04-11T19:11:35.185263Z",
     "iopub.status.idle": "2023-04-11T19:11:44.603633Z",
     "shell.execute_reply": "2023-04-11T19:11:44.602459Z",
     "shell.execute_reply.started": "2023-04-11T19:11:35.185627Z"
    }
   },
   "outputs": [],
   "source": [
    "from pycaret.regression import *\n",
    "from pycaret.classification import *"
   ]
  },
  {
   "cell_type": "code",
   "execution_count": 65,
   "metadata": {
    "execution": {
     "iopub.execute_input": "2023-04-11T19:14:19.709547Z",
     "iopub.status.busy": "2023-04-11T19:14:19.708500Z",
     "iopub.status.idle": "2023-04-11T19:14:21.609106Z",
     "shell.execute_reply": "2023-04-11T19:14:21.607958Z",
     "shell.execute_reply.started": "2023-04-11T19:14:19.709505Z"
    }
   },
   "outputs": [
    {
     "data": {
      "text/html": [
       "<style type=\"text/css\">\n",
       "#T_1b693_row8_col1, #T_1b693_row12_col1, #T_1b693_row14_col1, #T_1b693_row16_col1 {\n",
       "  background-color: lightgreen;\n",
       "}\n",
       "</style>\n",
       "<table id=\"T_1b693\">\n",
       "  <thead>\n",
       "    <tr>\n",
       "      <th class=\"blank level0\" >&nbsp;</th>\n",
       "      <th id=\"T_1b693_level0_col0\" class=\"col_heading level0 col0\" >Description</th>\n",
       "      <th id=\"T_1b693_level0_col1\" class=\"col_heading level0 col1\" >Value</th>\n",
       "    </tr>\n",
       "  </thead>\n",
       "  <tbody>\n",
       "    <tr>\n",
       "      <th id=\"T_1b693_level0_row0\" class=\"row_heading level0 row0\" >0</th>\n",
       "      <td id=\"T_1b693_row0_col0\" class=\"data row0 col0\" >Session id</td>\n",
       "      <td id=\"T_1b693_row0_col1\" class=\"data row0 col1\" >42</td>\n",
       "    </tr>\n",
       "    <tr>\n",
       "      <th id=\"T_1b693_level0_row1\" class=\"row_heading level0 row1\" >1</th>\n",
       "      <td id=\"T_1b693_row1_col0\" class=\"data row1 col0\" >Target</td>\n",
       "      <td id=\"T_1b693_row1_col1\" class=\"data row1 col1\" >label</td>\n",
       "    </tr>\n",
       "    <tr>\n",
       "      <th id=\"T_1b693_level0_row2\" class=\"row_heading level0 row2\" >2</th>\n",
       "      <td id=\"T_1b693_row2_col0\" class=\"data row2 col0\" >Target type</td>\n",
       "      <td id=\"T_1b693_row2_col1\" class=\"data row2 col1\" >Binary</td>\n",
       "    </tr>\n",
       "    <tr>\n",
       "      <th id=\"T_1b693_level0_row3\" class=\"row_heading level0 row3\" >3</th>\n",
       "      <td id=\"T_1b693_row3_col0\" class=\"data row3 col0\" >Original data shape</td>\n",
       "      <td id=\"T_1b693_row3_col1\" class=\"data row3 col1\" >(1787, 55)</td>\n",
       "    </tr>\n",
       "    <tr>\n",
       "      <th id=\"T_1b693_level0_row4\" class=\"row_heading level0 row4\" >4</th>\n",
       "      <td id=\"T_1b693_row4_col0\" class=\"data row4 col0\" >Transformed data shape</td>\n",
       "      <td id=\"T_1b693_row4_col1\" class=\"data row4 col1\" >(1787, 53)</td>\n",
       "    </tr>\n",
       "    <tr>\n",
       "      <th id=\"T_1b693_level0_row5\" class=\"row_heading level0 row5\" >5</th>\n",
       "      <td id=\"T_1b693_row5_col0\" class=\"data row5 col0\" >Transformed train set shape</td>\n",
       "      <td id=\"T_1b693_row5_col1\" class=\"data row5 col1\" >(1250, 53)</td>\n",
       "    </tr>\n",
       "    <tr>\n",
       "      <th id=\"T_1b693_level0_row6\" class=\"row_heading level0 row6\" >6</th>\n",
       "      <td id=\"T_1b693_row6_col0\" class=\"data row6 col0\" >Transformed test set shape</td>\n",
       "      <td id=\"T_1b693_row6_col1\" class=\"data row6 col1\" >(537, 53)</td>\n",
       "    </tr>\n",
       "    <tr>\n",
       "      <th id=\"T_1b693_level0_row7\" class=\"row_heading level0 row7\" >7</th>\n",
       "      <td id=\"T_1b693_row7_col0\" class=\"data row7 col0\" >Numeric features</td>\n",
       "      <td id=\"T_1b693_row7_col1\" class=\"data row7 col1\" >54</td>\n",
       "    </tr>\n",
       "    <tr>\n",
       "      <th id=\"T_1b693_level0_row8\" class=\"row_heading level0 row8\" >8</th>\n",
       "      <td id=\"T_1b693_row8_col0\" class=\"data row8 col0\" >Preprocess</td>\n",
       "      <td id=\"T_1b693_row8_col1\" class=\"data row8 col1\" >True</td>\n",
       "    </tr>\n",
       "    <tr>\n",
       "      <th id=\"T_1b693_level0_row9\" class=\"row_heading level0 row9\" >9</th>\n",
       "      <td id=\"T_1b693_row9_col0\" class=\"data row9 col0\" >Imputation type</td>\n",
       "      <td id=\"T_1b693_row9_col1\" class=\"data row9 col1\" >simple</td>\n",
       "    </tr>\n",
       "    <tr>\n",
       "      <th id=\"T_1b693_level0_row10\" class=\"row_heading level0 row10\" >10</th>\n",
       "      <td id=\"T_1b693_row10_col0\" class=\"data row10 col0\" >Numeric imputation</td>\n",
       "      <td id=\"T_1b693_row10_col1\" class=\"data row10 col1\" >mean</td>\n",
       "    </tr>\n",
       "    <tr>\n",
       "      <th id=\"T_1b693_level0_row11\" class=\"row_heading level0 row11\" >11</th>\n",
       "      <td id=\"T_1b693_row11_col0\" class=\"data row11 col0\" >Categorical imputation</td>\n",
       "      <td id=\"T_1b693_row11_col1\" class=\"data row11 col1\" >mode</td>\n",
       "    </tr>\n",
       "    <tr>\n",
       "      <th id=\"T_1b693_level0_row12\" class=\"row_heading level0 row12\" >12</th>\n",
       "      <td id=\"T_1b693_row12_col0\" class=\"data row12 col0\" >Remove multicollinearity</td>\n",
       "      <td id=\"T_1b693_row12_col1\" class=\"data row12 col1\" >True</td>\n",
       "    </tr>\n",
       "    <tr>\n",
       "      <th id=\"T_1b693_level0_row13\" class=\"row_heading level0 row13\" >13</th>\n",
       "      <td id=\"T_1b693_row13_col0\" class=\"data row13 col0\" >Multicollinearity threshold</td>\n",
       "      <td id=\"T_1b693_row13_col1\" class=\"data row13 col1\" >0.500000</td>\n",
       "    </tr>\n",
       "    <tr>\n",
       "      <th id=\"T_1b693_level0_row14\" class=\"row_heading level0 row14\" >14</th>\n",
       "      <td id=\"T_1b693_row14_col0\" class=\"data row14 col0\" >Transformation</td>\n",
       "      <td id=\"T_1b693_row14_col1\" class=\"data row14 col1\" >True</td>\n",
       "    </tr>\n",
       "    <tr>\n",
       "      <th id=\"T_1b693_level0_row15\" class=\"row_heading level0 row15\" >15</th>\n",
       "      <td id=\"T_1b693_row15_col0\" class=\"data row15 col0\" >Transformation method</td>\n",
       "      <td id=\"T_1b693_row15_col1\" class=\"data row15 col1\" >yeo-johnson</td>\n",
       "    </tr>\n",
       "    <tr>\n",
       "      <th id=\"T_1b693_level0_row16\" class=\"row_heading level0 row16\" >16</th>\n",
       "      <td id=\"T_1b693_row16_col0\" class=\"data row16 col0\" >Normalize</td>\n",
       "      <td id=\"T_1b693_row16_col1\" class=\"data row16 col1\" >True</td>\n",
       "    </tr>\n",
       "    <tr>\n",
       "      <th id=\"T_1b693_level0_row17\" class=\"row_heading level0 row17\" >17</th>\n",
       "      <td id=\"T_1b693_row17_col0\" class=\"data row17 col0\" >Normalize method</td>\n",
       "      <td id=\"T_1b693_row17_col1\" class=\"data row17 col1\" >zscore</td>\n",
       "    </tr>\n",
       "    <tr>\n",
       "      <th id=\"T_1b693_level0_row18\" class=\"row_heading level0 row18\" >18</th>\n",
       "      <td id=\"T_1b693_row18_col0\" class=\"data row18 col0\" >Fold Generator</td>\n",
       "      <td id=\"T_1b693_row18_col1\" class=\"data row18 col1\" >StratifiedKFold</td>\n",
       "    </tr>\n",
       "    <tr>\n",
       "      <th id=\"T_1b693_level0_row19\" class=\"row_heading level0 row19\" >19</th>\n",
       "      <td id=\"T_1b693_row19_col0\" class=\"data row19 col0\" >Fold Number</td>\n",
       "      <td id=\"T_1b693_row19_col1\" class=\"data row19 col1\" >10</td>\n",
       "    </tr>\n",
       "    <tr>\n",
       "      <th id=\"T_1b693_level0_row20\" class=\"row_heading level0 row20\" >20</th>\n",
       "      <td id=\"T_1b693_row20_col0\" class=\"data row20 col0\" >CPU Jobs</td>\n",
       "      <td id=\"T_1b693_row20_col1\" class=\"data row20 col1\" >-1</td>\n",
       "    </tr>\n",
       "    <tr>\n",
       "      <th id=\"T_1b693_level0_row21\" class=\"row_heading level0 row21\" >21</th>\n",
       "      <td id=\"T_1b693_row21_col0\" class=\"data row21 col0\" >Use GPU</td>\n",
       "      <td id=\"T_1b693_row21_col1\" class=\"data row21 col1\" >False</td>\n",
       "    </tr>\n",
       "    <tr>\n",
       "      <th id=\"T_1b693_level0_row22\" class=\"row_heading level0 row22\" >22</th>\n",
       "      <td id=\"T_1b693_row22_col0\" class=\"data row22 col0\" >Log Experiment</td>\n",
       "      <td id=\"T_1b693_row22_col1\" class=\"data row22 col1\" >False</td>\n",
       "    </tr>\n",
       "    <tr>\n",
       "      <th id=\"T_1b693_level0_row23\" class=\"row_heading level0 row23\" >23</th>\n",
       "      <td id=\"T_1b693_row23_col0\" class=\"data row23 col0\" >Experiment Name</td>\n",
       "      <td id=\"T_1b693_row23_col1\" class=\"data row23 col1\" >credit_card_approval</td>\n",
       "    </tr>\n",
       "    <tr>\n",
       "      <th id=\"T_1b693_level0_row24\" class=\"row_heading level0 row24\" >24</th>\n",
       "      <td id=\"T_1b693_row24_col0\" class=\"data row24 col0\" >USI</td>\n",
       "      <td id=\"T_1b693_row24_col1\" class=\"data row24 col1\" >3c8e</td>\n",
       "    </tr>\n",
       "  </tbody>\n",
       "</table>\n"
      ],
      "text/plain": [
       "<pandas.io.formats.style.Styler at 0x15ada32b210>"
      ]
     },
     "metadata": {},
     "output_type": "display_data"
    }
   ],
   "source": [
    "reg_experiment = setup(model_df2, \n",
    "                       target = 'label', \n",
    "                       session_id=42, \n",
    "                       experiment_name='credit_card_approval',\n",
    "                       normalize = True, \n",
    "                       transformation = True, \n",
    "                       remove_multicollinearity = True, #drop one of the two features that are highly correlated with each other\n",
    "                       multicollinearity_threshold = 0.5\n",
    "                           )"
   ]
  },
  {
   "cell_type": "code",
   "execution_count": 66,
   "metadata": {
    "execution": {
     "iopub.execute_input": "2023-04-11T19:15:42.941327Z",
     "iopub.status.busy": "2023-04-11T19:15:42.940066Z",
     "iopub.status.idle": "2023-04-11T19:17:23.635647Z",
     "shell.execute_reply": "2023-04-11T19:17:23.634241Z",
     "shell.execute_reply.started": "2023-04-11T19:15:42.941277Z"
    }
   },
   "outputs": [
    {
     "data": {
      "text/html": [],
      "text/plain": [
       "<IPython.core.display.HTML object>"
      ]
     },
     "metadata": {},
     "output_type": "display_data"
    },
    {
     "data": {
      "text/html": [
       "<style type=\"text/css\">\n",
       "#T_723a3 th {\n",
       "  text-align: left;\n",
       "}\n",
       "#T_723a3_row0_col0, #T_723a3_row0_col2, #T_723a3_row0_col3, #T_723a3_row0_col4, #T_723a3_row0_col5, #T_723a3_row0_col6, #T_723a3_row0_col7, #T_723a3_row1_col0, #T_723a3_row1_col1, #T_723a3_row1_col3, #T_723a3_row2_col0, #T_723a3_row2_col1, #T_723a3_row2_col2, #T_723a3_row2_col3, #T_723a3_row2_col4, #T_723a3_row2_col5, #T_723a3_row2_col6, #T_723a3_row2_col7, #T_723a3_row3_col0, #T_723a3_row3_col1, #T_723a3_row3_col2, #T_723a3_row3_col3, #T_723a3_row3_col4, #T_723a3_row3_col5, #T_723a3_row3_col6, #T_723a3_row3_col7, #T_723a3_row4_col0, #T_723a3_row4_col1, #T_723a3_row4_col2, #T_723a3_row4_col3, #T_723a3_row4_col4, #T_723a3_row4_col5, #T_723a3_row4_col6, #T_723a3_row4_col7, #T_723a3_row5_col0, #T_723a3_row5_col1, #T_723a3_row5_col2, #T_723a3_row5_col3, #T_723a3_row5_col4, #T_723a3_row5_col5, #T_723a3_row5_col6, #T_723a3_row5_col7, #T_723a3_row6_col0, #T_723a3_row6_col1, #T_723a3_row6_col2, #T_723a3_row6_col3, #T_723a3_row6_col4, #T_723a3_row6_col5, #T_723a3_row6_col6, #T_723a3_row6_col7, #T_723a3_row7_col0, #T_723a3_row7_col1, #T_723a3_row7_col2, #T_723a3_row7_col3, #T_723a3_row7_col4, #T_723a3_row7_col5, #T_723a3_row7_col6, #T_723a3_row7_col7, #T_723a3_row8_col0, #T_723a3_row8_col1, #T_723a3_row8_col2, #T_723a3_row8_col3, #T_723a3_row8_col4, #T_723a3_row8_col5, #T_723a3_row8_col6, #T_723a3_row8_col7, #T_723a3_row9_col0, #T_723a3_row9_col1, #T_723a3_row9_col2, #T_723a3_row9_col3, #T_723a3_row9_col4, #T_723a3_row9_col5, #T_723a3_row9_col6, #T_723a3_row9_col7, #T_723a3_row10_col0, #T_723a3_row10_col1, #T_723a3_row10_col2, #T_723a3_row10_col3, #T_723a3_row10_col4, #T_723a3_row10_col5, #T_723a3_row10_col6, #T_723a3_row10_col7, #T_723a3_row11_col0, #T_723a3_row11_col1, #T_723a3_row11_col2, #T_723a3_row11_col3, #T_723a3_row11_col4, #T_723a3_row11_col5, #T_723a3_row11_col6, #T_723a3_row11_col7, #T_723a3_row12_col0, #T_723a3_row12_col1, #T_723a3_row12_col2, #T_723a3_row12_col3, #T_723a3_row12_col4, #T_723a3_row12_col5, #T_723a3_row12_col6, #T_723a3_row12_col7, #T_723a3_row13_col0, #T_723a3_row13_col1, #T_723a3_row13_col2, #T_723a3_row13_col3, #T_723a3_row13_col4, #T_723a3_row13_col5, #T_723a3_row13_col6, #T_723a3_row13_col7, #T_723a3_row14_col0, #T_723a3_row14_col1, #T_723a3_row14_col2, #T_723a3_row14_col3, #T_723a3_row14_col4, #T_723a3_row14_col5, #T_723a3_row14_col6, #T_723a3_row14_col7, #T_723a3_row15_col0, #T_723a3_row15_col1, #T_723a3_row15_col2, #T_723a3_row15_col4, #T_723a3_row15_col5, #T_723a3_row15_col6, #T_723a3_row15_col7 {\n",
       "  text-align: left;\n",
       "}\n",
       "#T_723a3_row0_col1, #T_723a3_row1_col2, #T_723a3_row1_col4, #T_723a3_row1_col5, #T_723a3_row1_col6, #T_723a3_row1_col7, #T_723a3_row15_col3 {\n",
       "  text-align: left;\n",
       "  background-color: yellow;\n",
       "}\n",
       "#T_723a3_row0_col8, #T_723a3_row1_col8, #T_723a3_row2_col8, #T_723a3_row3_col8, #T_723a3_row4_col8, #T_723a3_row6_col8, #T_723a3_row7_col8, #T_723a3_row8_col8, #T_723a3_row9_col8, #T_723a3_row10_col8, #T_723a3_row11_col8, #T_723a3_row12_col8, #T_723a3_row14_col8, #T_723a3_row15_col8 {\n",
       "  text-align: left;\n",
       "  background-color: lightgrey;\n",
       "}\n",
       "#T_723a3_row5_col8, #T_723a3_row13_col8 {\n",
       "  text-align: left;\n",
       "  background-color: yellow;\n",
       "  background-color: lightgrey;\n",
       "}\n",
       "</style>\n",
       "<table id=\"T_723a3\">\n",
       "  <thead>\n",
       "    <tr>\n",
       "      <th class=\"blank level0\" >&nbsp;</th>\n",
       "      <th id=\"T_723a3_level0_col0\" class=\"col_heading level0 col0\" >Model</th>\n",
       "      <th id=\"T_723a3_level0_col1\" class=\"col_heading level0 col1\" >Accuracy</th>\n",
       "      <th id=\"T_723a3_level0_col2\" class=\"col_heading level0 col2\" >AUC</th>\n",
       "      <th id=\"T_723a3_level0_col3\" class=\"col_heading level0 col3\" >Recall</th>\n",
       "      <th id=\"T_723a3_level0_col4\" class=\"col_heading level0 col4\" >Prec.</th>\n",
       "      <th id=\"T_723a3_level0_col5\" class=\"col_heading level0 col5\" >F1</th>\n",
       "      <th id=\"T_723a3_level0_col6\" class=\"col_heading level0 col6\" >Kappa</th>\n",
       "      <th id=\"T_723a3_level0_col7\" class=\"col_heading level0 col7\" >MCC</th>\n",
       "      <th id=\"T_723a3_level0_col8\" class=\"col_heading level0 col8\" >TT (Sec)</th>\n",
       "    </tr>\n",
       "  </thead>\n",
       "  <tbody>\n",
       "    <tr>\n",
       "      <th id=\"T_723a3_level0_row0\" class=\"row_heading level0 row0\" >lightgbm</th>\n",
       "      <td id=\"T_723a3_row0_col0\" class=\"data row0 col0\" >Light Gradient Boosting Machine</td>\n",
       "      <td id=\"T_723a3_row0_col1\" class=\"data row0 col1\" >0.9600</td>\n",
       "      <td id=\"T_723a3_row0_col2\" class=\"data row0 col2\" >0.6902</td>\n",
       "      <td id=\"T_723a3_row0_col3\" class=\"data row0 col3\" >0.2500</td>\n",
       "      <td id=\"T_723a3_row0_col4\" class=\"data row0 col4\" >0.6967</td>\n",
       "      <td id=\"T_723a3_row0_col5\" class=\"data row0 col5\" >0.3493</td>\n",
       "      <td id=\"T_723a3_row0_col6\" class=\"data row0 col6\" >0.3363</td>\n",
       "      <td id=\"T_723a3_row0_col7\" class=\"data row0 col7\" >0.3916</td>\n",
       "      <td id=\"T_723a3_row0_col8\" class=\"data row0 col8\" >0.7320</td>\n",
       "    </tr>\n",
       "    <tr>\n",
       "      <th id=\"T_723a3_level0_row1\" class=\"row_heading level0 row1\" >et</th>\n",
       "      <td id=\"T_723a3_row1_col0\" class=\"data row1 col0\" >Extra Trees Classifier</td>\n",
       "      <td id=\"T_723a3_row1_col1\" class=\"data row1 col1\" >0.9584</td>\n",
       "      <td id=\"T_723a3_row1_col2\" class=\"data row1 col2\" >0.7498</td>\n",
       "      <td id=\"T_723a3_row1_col3\" class=\"data row1 col3\" >0.2500</td>\n",
       "      <td id=\"T_723a3_row1_col4\" class=\"data row1 col4\" >0.7167</td>\n",
       "      <td id=\"T_723a3_row1_col5\" class=\"data row1 col5\" >0.3566</td>\n",
       "      <td id=\"T_723a3_row1_col6\" class=\"data row1 col6\" >0.3410</td>\n",
       "      <td id=\"T_723a3_row1_col7\" class=\"data row1 col7\" >0.3976</td>\n",
       "      <td id=\"T_723a3_row1_col8\" class=\"data row1 col8\" >0.3780</td>\n",
       "    </tr>\n",
       "    <tr>\n",
       "      <th id=\"T_723a3_level0_row2\" class=\"row_heading level0 row2\" >rf</th>\n",
       "      <td id=\"T_723a3_row2_col0\" class=\"data row2 col0\" >Random Forest Classifier</td>\n",
       "      <td id=\"T_723a3_row2_col1\" class=\"data row2 col1\" >0.9576</td>\n",
       "      <td id=\"T_723a3_row2_col2\" class=\"data row2 col2\" >0.7193</td>\n",
       "      <td id=\"T_723a3_row2_col3\" class=\"data row2 col3\" >0.1500</td>\n",
       "      <td id=\"T_723a3_row2_col4\" class=\"data row2 col4\" >0.6667</td>\n",
       "      <td id=\"T_723a3_row2_col5\" class=\"data row2 col5\" >0.2373</td>\n",
       "      <td id=\"T_723a3_row2_col6\" class=\"data row2 col6\" >0.2279</td>\n",
       "      <td id=\"T_723a3_row2_col7\" class=\"data row2 col7\" >0.3001</td>\n",
       "      <td id=\"T_723a3_row2_col8\" class=\"data row2 col8\" >0.4070</td>\n",
       "    </tr>\n",
       "    <tr>\n",
       "      <th id=\"T_723a3_level0_row3\" class=\"row_heading level0 row3\" >xgboost</th>\n",
       "      <td id=\"T_723a3_row3_col0\" class=\"data row3 col0\" >Extreme Gradient Boosting</td>\n",
       "      <td id=\"T_723a3_row3_col1\" class=\"data row3 col1\" >0.9576</td>\n",
       "      <td id=\"T_723a3_row3_col2\" class=\"data row3 col2\" >0.6550</td>\n",
       "      <td id=\"T_723a3_row3_col3\" class=\"data row3 col3\" >0.2000</td>\n",
       "      <td id=\"T_723a3_row3_col4\" class=\"data row3 col4\" >0.6667</td>\n",
       "      <td id=\"T_723a3_row3_col5\" class=\"data row3 col5\" >0.2810</td>\n",
       "      <td id=\"T_723a3_row3_col6\" class=\"data row3 col6\" >0.2690</td>\n",
       "      <td id=\"T_723a3_row3_col7\" class=\"data row3 col7\" >0.3337</td>\n",
       "      <td id=\"T_723a3_row3_col8\" class=\"data row3 col8\" >0.2610</td>\n",
       "    </tr>\n",
       "    <tr>\n",
       "      <th id=\"T_723a3_level0_row4\" class=\"row_heading level0 row4\" >catboost</th>\n",
       "      <td id=\"T_723a3_row4_col0\" class=\"data row4 col0\" >CatBoost Classifier</td>\n",
       "      <td id=\"T_723a3_row4_col1\" class=\"data row4 col1\" >0.9520</td>\n",
       "      <td id=\"T_723a3_row4_col2\" class=\"data row4 col2\" >0.7132</td>\n",
       "      <td id=\"T_723a3_row4_col3\" class=\"data row4 col3\" >0.0333</td>\n",
       "      <td id=\"T_723a3_row4_col4\" class=\"data row4 col4\" >0.2000</td>\n",
       "      <td id=\"T_723a3_row4_col5\" class=\"data row4 col5\" >0.0571</td>\n",
       "      <td id=\"T_723a3_row4_col6\" class=\"data row4 col6\" >0.0524</td>\n",
       "      <td id=\"T_723a3_row4_col7\" class=\"data row4 col7\" >0.0760</td>\n",
       "      <td id=\"T_723a3_row4_col8\" class=\"data row4 col8\" >3.3990</td>\n",
       "    </tr>\n",
       "    <tr>\n",
       "      <th id=\"T_723a3_level0_row5\" class=\"row_heading level0 row5\" >dummy</th>\n",
       "      <td id=\"T_723a3_row5_col0\" class=\"data row5 col0\" >Dummy Classifier</td>\n",
       "      <td id=\"T_723a3_row5_col1\" class=\"data row5 col1\" >0.9520</td>\n",
       "      <td id=\"T_723a3_row5_col2\" class=\"data row5 col2\" >0.5000</td>\n",
       "      <td id=\"T_723a3_row5_col3\" class=\"data row5 col3\" >0.0000</td>\n",
       "      <td id=\"T_723a3_row5_col4\" class=\"data row5 col4\" >0.0000</td>\n",
       "      <td id=\"T_723a3_row5_col5\" class=\"data row5 col5\" >0.0000</td>\n",
       "      <td id=\"T_723a3_row5_col6\" class=\"data row5 col6\" >0.0000</td>\n",
       "      <td id=\"T_723a3_row5_col7\" class=\"data row5 col7\" >0.0000</td>\n",
       "      <td id=\"T_723a3_row5_col8\" class=\"data row5 col8\" >0.1710</td>\n",
       "    </tr>\n",
       "    <tr>\n",
       "      <th id=\"T_723a3_level0_row6\" class=\"row_heading level0 row6\" >ridge</th>\n",
       "      <td id=\"T_723a3_row6_col0\" class=\"data row6 col0\" >Ridge Classifier</td>\n",
       "      <td id=\"T_723a3_row6_col1\" class=\"data row6 col1\" >0.9512</td>\n",
       "      <td id=\"T_723a3_row6_col2\" class=\"data row6 col2\" >0.0000</td>\n",
       "      <td id=\"T_723a3_row6_col3\" class=\"data row6 col3\" >0.0000</td>\n",
       "      <td id=\"T_723a3_row6_col4\" class=\"data row6 col4\" >0.0000</td>\n",
       "      <td id=\"T_723a3_row6_col5\" class=\"data row6 col5\" >0.0000</td>\n",
       "      <td id=\"T_723a3_row6_col6\" class=\"data row6 col6\" >-0.0014</td>\n",
       "      <td id=\"T_723a3_row6_col7\" class=\"data row6 col7\" >-0.0020</td>\n",
       "      <td id=\"T_723a3_row6_col8\" class=\"data row6 col8\" >0.1780</td>\n",
       "    </tr>\n",
       "    <tr>\n",
       "      <th id=\"T_723a3_level0_row7\" class=\"row_heading level0 row7\" >knn</th>\n",
       "      <td id=\"T_723a3_row7_col0\" class=\"data row7 col0\" >K Neighbors Classifier</td>\n",
       "      <td id=\"T_723a3_row7_col1\" class=\"data row7 col1\" >0.9504</td>\n",
       "      <td id=\"T_723a3_row7_col2\" class=\"data row7 col2\" >0.6380</td>\n",
       "      <td id=\"T_723a3_row7_col3\" class=\"data row7 col3\" >0.0000</td>\n",
       "      <td id=\"T_723a3_row7_col4\" class=\"data row7 col4\" >0.0000</td>\n",
       "      <td id=\"T_723a3_row7_col5\" class=\"data row7 col5\" >0.0000</td>\n",
       "      <td id=\"T_723a3_row7_col6\" class=\"data row7 col6\" >-0.0028</td>\n",
       "      <td id=\"T_723a3_row7_col7\" class=\"data row7 col7\" >-0.0040</td>\n",
       "      <td id=\"T_723a3_row7_col8\" class=\"data row7 col8\" >0.2530</td>\n",
       "    </tr>\n",
       "    <tr>\n",
       "      <th id=\"T_723a3_level0_row8\" class=\"row_heading level0 row8\" >lr</th>\n",
       "      <td id=\"T_723a3_row8_col0\" class=\"data row8 col0\" >Logistic Regression</td>\n",
       "      <td id=\"T_723a3_row8_col1\" class=\"data row8 col1\" >0.9488</td>\n",
       "      <td id=\"T_723a3_row8_col2\" class=\"data row8 col2\" >0.6060</td>\n",
       "      <td id=\"T_723a3_row8_col3\" class=\"data row8 col3\" >0.0000</td>\n",
       "      <td id=\"T_723a3_row8_col4\" class=\"data row8 col4\" >0.0000</td>\n",
       "      <td id=\"T_723a3_row8_col5\" class=\"data row8 col5\" >0.0000</td>\n",
       "      <td id=\"T_723a3_row8_col6\" class=\"data row8 col6\" >-0.0056</td>\n",
       "      <td id=\"T_723a3_row8_col7\" class=\"data row8 col7\" >-0.0081</td>\n",
       "      <td id=\"T_723a3_row8_col8\" class=\"data row8 col8\" >1.2470</td>\n",
       "    </tr>\n",
       "    <tr>\n",
       "      <th id=\"T_723a3_level0_row9\" class=\"row_heading level0 row9\" >gbc</th>\n",
       "      <td id=\"T_723a3_row9_col0\" class=\"data row9 col0\" >Gradient Boosting Classifier</td>\n",
       "      <td id=\"T_723a3_row9_col1\" class=\"data row9 col1\" >0.9480</td>\n",
       "      <td id=\"T_723a3_row9_col2\" class=\"data row9 col2\" >0.6780</td>\n",
       "      <td id=\"T_723a3_row9_col3\" class=\"data row9 col3\" >0.1167</td>\n",
       "      <td id=\"T_723a3_row9_col4\" class=\"data row9 col4\" >0.2767</td>\n",
       "      <td id=\"T_723a3_row9_col5\" class=\"data row9 col5\" >0.1526</td>\n",
       "      <td id=\"T_723a3_row9_col6\" class=\"data row9 col6\" >0.1362</td>\n",
       "      <td id=\"T_723a3_row9_col7\" class=\"data row9 col7\" >0.1538</td>\n",
       "      <td id=\"T_723a3_row9_col8\" class=\"data row9 col8\" >0.3960</td>\n",
       "    </tr>\n",
       "    <tr>\n",
       "      <th id=\"T_723a3_level0_row10\" class=\"row_heading level0 row10\" >ada</th>\n",
       "      <td id=\"T_723a3_row10_col0\" class=\"data row10 col0\" >Ada Boost Classifier</td>\n",
       "      <td id=\"T_723a3_row10_col1\" class=\"data row10 col1\" >0.9456</td>\n",
       "      <td id=\"T_723a3_row10_col2\" class=\"data row10 col2\" >0.6926</td>\n",
       "      <td id=\"T_723a3_row10_col3\" class=\"data row10 col3\" >0.1000</td>\n",
       "      <td id=\"T_723a3_row10_col4\" class=\"data row10 col4\" >0.3000</td>\n",
       "      <td id=\"T_723a3_row10_col5\" class=\"data row10 col5\" >0.1452</td>\n",
       "      <td id=\"T_723a3_row10_col6\" class=\"data row10 col6\" >0.1251</td>\n",
       "      <td id=\"T_723a3_row10_col7\" class=\"data row10 col7\" >0.1470</td>\n",
       "      <td id=\"T_723a3_row10_col8\" class=\"data row10 col8\" >0.2900</td>\n",
       "    </tr>\n",
       "    <tr>\n",
       "      <th id=\"T_723a3_level0_row11\" class=\"row_heading level0 row11\" >lda</th>\n",
       "      <td id=\"T_723a3_row11_col0\" class=\"data row11 col0\" >Linear Discriminant Analysis</td>\n",
       "      <td id=\"T_723a3_row11_col1\" class=\"data row11 col1\" >0.9328</td>\n",
       "      <td id=\"T_723a3_row11_col2\" class=\"data row11 col2\" >0.6148</td>\n",
       "      <td id=\"T_723a3_row11_col3\" class=\"data row11 col3\" >0.0000</td>\n",
       "      <td id=\"T_723a3_row11_col4\" class=\"data row11 col4\" >0.0000</td>\n",
       "      <td id=\"T_723a3_row11_col5\" class=\"data row11 col5\" >0.0000</td>\n",
       "      <td id=\"T_723a3_row11_col6\" class=\"data row11 col6\" >-0.0270</td>\n",
       "      <td id=\"T_723a3_row11_col7\" class=\"data row11 col7\" >-0.0305</td>\n",
       "      <td id=\"T_723a3_row11_col8\" class=\"data row11 col8\" >0.1780</td>\n",
       "    </tr>\n",
       "    <tr>\n",
       "      <th id=\"T_723a3_level0_row12\" class=\"row_heading level0 row12\" >dt</th>\n",
       "      <td id=\"T_723a3_row12_col0\" class=\"data row12 col0\" >Decision Tree Classifier</td>\n",
       "      <td id=\"T_723a3_row12_col1\" class=\"data row12 col1\" >0.9248</td>\n",
       "      <td id=\"T_723a3_row12_col2\" class=\"data row12 col2\" >0.6519</td>\n",
       "      <td id=\"T_723a3_row12_col3\" class=\"data row12 col3\" >0.3500</td>\n",
       "      <td id=\"T_723a3_row12_col4\" class=\"data row12 col4\" >0.2825</td>\n",
       "      <td id=\"T_723a3_row12_col5\" class=\"data row12 col5\" >0.2998</td>\n",
       "      <td id=\"T_723a3_row12_col6\" class=\"data row12 col6\" >0.2624</td>\n",
       "      <td id=\"T_723a3_row12_col7\" class=\"data row12 col7\" >0.2703</td>\n",
       "      <td id=\"T_723a3_row12_col8\" class=\"data row12 col8\" >0.1900</td>\n",
       "    </tr>\n",
       "    <tr>\n",
       "      <th id=\"T_723a3_level0_row13\" class=\"row_heading level0 row13\" >svm</th>\n",
       "      <td id=\"T_723a3_row13_col0\" class=\"data row13 col0\" >SVM - Linear Kernel</td>\n",
       "      <td id=\"T_723a3_row13_col1\" class=\"data row13 col1\" >0.9096</td>\n",
       "      <td id=\"T_723a3_row13_col2\" class=\"data row13 col2\" >0.0000</td>\n",
       "      <td id=\"T_723a3_row13_col3\" class=\"data row13 col3\" >0.1333</td>\n",
       "      <td id=\"T_723a3_row13_col4\" class=\"data row13 col4\" >0.0800</td>\n",
       "      <td id=\"T_723a3_row13_col5\" class=\"data row13 col5\" >0.0931</td>\n",
       "      <td id=\"T_723a3_row13_col6\" class=\"data row13 col6\" >0.0518</td>\n",
       "      <td id=\"T_723a3_row13_col7\" class=\"data row13 col7\" >0.0562</td>\n",
       "      <td id=\"T_723a3_row13_col8\" class=\"data row13 col8\" >0.1710</td>\n",
       "    </tr>\n",
       "    <tr>\n",
       "      <th id=\"T_723a3_level0_row14\" class=\"row_heading level0 row14\" >qda</th>\n",
       "      <td id=\"T_723a3_row14_col0\" class=\"data row14 col0\" >Quadratic Discriminant Analysis</td>\n",
       "      <td id=\"T_723a3_row14_col1\" class=\"data row14 col1\" >0.4584</td>\n",
       "      <td id=\"T_723a3_row14_col2\" class=\"data row14 col2\" >0.5660</td>\n",
       "      <td id=\"T_723a3_row14_col3\" class=\"data row14 col3\" >0.6833</td>\n",
       "      <td id=\"T_723a3_row14_col4\" class=\"data row14 col4\" >0.0612</td>\n",
       "      <td id=\"T_723a3_row14_col5\" class=\"data row14 col5\" >0.1117</td>\n",
       "      <td id=\"T_723a3_row14_col6\" class=\"data row14 col6\" >0.0260</td>\n",
       "      <td id=\"T_723a3_row14_col7\" class=\"data row14 col7\" >0.0575</td>\n",
       "      <td id=\"T_723a3_row14_col8\" class=\"data row14 col8\" >0.1910</td>\n",
       "    </tr>\n",
       "    <tr>\n",
       "      <th id=\"T_723a3_level0_row15\" class=\"row_heading level0 row15\" >nb</th>\n",
       "      <td id=\"T_723a3_row15_col0\" class=\"data row15 col0\" >Naive Bayes</td>\n",
       "      <td id=\"T_723a3_row15_col1\" class=\"data row15 col1\" >0.1000</td>\n",
       "      <td id=\"T_723a3_row15_col2\" class=\"data row15 col2\" >0.5115</td>\n",
       "      <td id=\"T_723a3_row15_col3\" class=\"data row15 col3\" >0.9667</td>\n",
       "      <td id=\"T_723a3_row15_col4\" class=\"data row15 col4\" >0.0491</td>\n",
       "      <td id=\"T_723a3_row15_col5\" class=\"data row15 col5\" >0.0935</td>\n",
       "      <td id=\"T_723a3_row15_col6\" class=\"data row15 col6\" >0.0023</td>\n",
       "      <td id=\"T_723a3_row15_col7\" class=\"data row15 col7\" >0.0214</td>\n",
       "      <td id=\"T_723a3_row15_col8\" class=\"data row15 col8\" >0.1740</td>\n",
       "    </tr>\n",
       "  </tbody>\n",
       "</table>\n"
      ],
      "text/plain": [
       "<pandas.io.formats.style.Styler at 0x15ad9b8a950>"
      ]
     },
     "metadata": {},
     "output_type": "display_data"
    },
    {
     "data": {
      "text/html": [],
      "text/plain": [
       "<IPython.core.display.HTML object>"
      ]
     },
     "metadata": {},
     "output_type": "display_data"
    }
   ],
   "source": [
    "best_model = compare_models()"
   ]
  },
  {
   "cell_type": "code",
   "execution_count": 67,
   "metadata": {
    "execution": {
     "iopub.execute_input": "2023-04-11T19:19:00.229717Z",
     "iopub.status.busy": "2023-04-11T19:19:00.229261Z",
     "iopub.status.idle": "2023-04-11T19:19:04.589924Z",
     "shell.execute_reply": "2023-04-11T19:19:04.588643Z",
     "shell.execute_reply.started": "2023-04-11T19:19:00.229675Z"
    }
   },
   "outputs": [
    {
     "data": {
      "text/html": [],
      "text/plain": [
       "<IPython.core.display.HTML object>"
      ]
     },
     "metadata": {},
     "output_type": "display_data"
    },
    {
     "data": {
      "text/html": [
       "<style type=\"text/css\">\n",
       "#T_6ff1d_row10_col0, #T_6ff1d_row10_col1, #T_6ff1d_row10_col2, #T_6ff1d_row10_col3, #T_6ff1d_row10_col4, #T_6ff1d_row10_col5, #T_6ff1d_row10_col6 {\n",
       "  background: yellow;\n",
       "}\n",
       "</style>\n",
       "<table id=\"T_6ff1d\">\n",
       "  <thead>\n",
       "    <tr>\n",
       "      <th class=\"blank level0\" >&nbsp;</th>\n",
       "      <th id=\"T_6ff1d_level0_col0\" class=\"col_heading level0 col0\" >Accuracy</th>\n",
       "      <th id=\"T_6ff1d_level0_col1\" class=\"col_heading level0 col1\" >AUC</th>\n",
       "      <th id=\"T_6ff1d_level0_col2\" class=\"col_heading level0 col2\" >Recall</th>\n",
       "      <th id=\"T_6ff1d_level0_col3\" class=\"col_heading level0 col3\" >Prec.</th>\n",
       "      <th id=\"T_6ff1d_level0_col4\" class=\"col_heading level0 col4\" >F1</th>\n",
       "      <th id=\"T_6ff1d_level0_col5\" class=\"col_heading level0 col5\" >Kappa</th>\n",
       "      <th id=\"T_6ff1d_level0_col6\" class=\"col_heading level0 col6\" >MCC</th>\n",
       "    </tr>\n",
       "    <tr>\n",
       "      <th class=\"index_name level0\" >Fold</th>\n",
       "      <th class=\"blank col0\" >&nbsp;</th>\n",
       "      <th class=\"blank col1\" >&nbsp;</th>\n",
       "      <th class=\"blank col2\" >&nbsp;</th>\n",
       "      <th class=\"blank col3\" >&nbsp;</th>\n",
       "      <th class=\"blank col4\" >&nbsp;</th>\n",
       "      <th class=\"blank col5\" >&nbsp;</th>\n",
       "      <th class=\"blank col6\" >&nbsp;</th>\n",
       "    </tr>\n",
       "  </thead>\n",
       "  <tbody>\n",
       "    <tr>\n",
       "      <th id=\"T_6ff1d_level0_row0\" class=\"row_heading level0 row0\" >0</th>\n",
       "      <td id=\"T_6ff1d_row0_col0\" class=\"data row0 col0\" >0.9520</td>\n",
       "      <td id=\"T_6ff1d_row0_col1\" class=\"data row0 col1\" >0.6275</td>\n",
       "      <td id=\"T_6ff1d_row0_col2\" class=\"data row0 col2\" >0.0000</td>\n",
       "      <td id=\"T_6ff1d_row0_col3\" class=\"data row0 col3\" >0.0000</td>\n",
       "      <td id=\"T_6ff1d_row0_col4\" class=\"data row0 col4\" >0.0000</td>\n",
       "      <td id=\"T_6ff1d_row0_col5\" class=\"data row0 col5\" >0.0000</td>\n",
       "      <td id=\"T_6ff1d_row0_col6\" class=\"data row0 col6\" >0.0000</td>\n",
       "    </tr>\n",
       "    <tr>\n",
       "      <th id=\"T_6ff1d_level0_row1\" class=\"row_heading level0 row1\" >1</th>\n",
       "      <td id=\"T_6ff1d_row1_col0\" class=\"data row1 col0\" >0.9440</td>\n",
       "      <td id=\"T_6ff1d_row1_col1\" class=\"data row1 col1\" >0.5427</td>\n",
       "      <td id=\"T_6ff1d_row1_col2\" class=\"data row1 col2\" >0.0000</td>\n",
       "      <td id=\"T_6ff1d_row1_col3\" class=\"data row1 col3\" >0.0000</td>\n",
       "      <td id=\"T_6ff1d_row1_col4\" class=\"data row1 col4\" >0.0000</td>\n",
       "      <td id=\"T_6ff1d_row1_col5\" class=\"data row1 col5\" >-0.0139</td>\n",
       "      <td id=\"T_6ff1d_row1_col6\" class=\"data row1 col6\" >-0.0202</td>\n",
       "    </tr>\n",
       "    <tr>\n",
       "      <th id=\"T_6ff1d_level0_row2\" class=\"row_heading level0 row2\" >2</th>\n",
       "      <td id=\"T_6ff1d_row2_col0\" class=\"data row2 col0\" >0.9600</td>\n",
       "      <td id=\"T_6ff1d_row2_col1\" class=\"data row2 col1\" >0.6127</td>\n",
       "      <td id=\"T_6ff1d_row2_col2\" class=\"data row2 col2\" >0.1667</td>\n",
       "      <td id=\"T_6ff1d_row2_col3\" class=\"data row2 col3\" >1.0000</td>\n",
       "      <td id=\"T_6ff1d_row2_col4\" class=\"data row2 col4\" >0.2857</td>\n",
       "      <td id=\"T_6ff1d_row2_col5\" class=\"data row2 col5\" >0.2758</td>\n",
       "      <td id=\"T_6ff1d_row2_col6\" class=\"data row2 col6\" >0.3999</td>\n",
       "    </tr>\n",
       "    <tr>\n",
       "      <th id=\"T_6ff1d_level0_row3\" class=\"row_heading level0 row3\" >3</th>\n",
       "      <td id=\"T_6ff1d_row3_col0\" class=\"data row3 col0\" >0.9600</td>\n",
       "      <td id=\"T_6ff1d_row3_col1\" class=\"data row3 col1\" >0.8796</td>\n",
       "      <td id=\"T_6ff1d_row3_col2\" class=\"data row3 col2\" >0.3333</td>\n",
       "      <td id=\"T_6ff1d_row3_col3\" class=\"data row3 col3\" >0.6667</td>\n",
       "      <td id=\"T_6ff1d_row3_col4\" class=\"data row3 col4\" >0.4444</td>\n",
       "      <td id=\"T_6ff1d_row3_col5\" class=\"data row3 col5\" >0.4261</td>\n",
       "      <td id=\"T_6ff1d_row3_col6\" class=\"data row3 col6\" >0.4538</td>\n",
       "    </tr>\n",
       "    <tr>\n",
       "      <th id=\"T_6ff1d_level0_row4\" class=\"row_heading level0 row4\" >4</th>\n",
       "      <td id=\"T_6ff1d_row4_col0\" class=\"data row4 col0\" >0.9600</td>\n",
       "      <td id=\"T_6ff1d_row4_col1\" class=\"data row4 col1\" >0.7332</td>\n",
       "      <td id=\"T_6ff1d_row4_col2\" class=\"data row4 col2\" >0.1667</td>\n",
       "      <td id=\"T_6ff1d_row4_col3\" class=\"data row4 col3\" >1.0000</td>\n",
       "      <td id=\"T_6ff1d_row4_col4\" class=\"data row4 col4\" >0.2857</td>\n",
       "      <td id=\"T_6ff1d_row4_col5\" class=\"data row4 col5\" >0.2758</td>\n",
       "      <td id=\"T_6ff1d_row4_col6\" class=\"data row4 col6\" >0.3999</td>\n",
       "    </tr>\n",
       "    <tr>\n",
       "      <th id=\"T_6ff1d_level0_row5\" class=\"row_heading level0 row5\" >5</th>\n",
       "      <td id=\"T_6ff1d_row5_col0\" class=\"data row5 col0\" >0.9600</td>\n",
       "      <td id=\"T_6ff1d_row5_col1\" class=\"data row5 col1\" >0.8263</td>\n",
       "      <td id=\"T_6ff1d_row5_col2\" class=\"data row5 col2\" >0.1667</td>\n",
       "      <td id=\"T_6ff1d_row5_col3\" class=\"data row5 col3\" >1.0000</td>\n",
       "      <td id=\"T_6ff1d_row5_col4\" class=\"data row5 col4\" >0.2857</td>\n",
       "      <td id=\"T_6ff1d_row5_col5\" class=\"data row5 col5\" >0.2758</td>\n",
       "      <td id=\"T_6ff1d_row5_col6\" class=\"data row5 col6\" >0.3999</td>\n",
       "    </tr>\n",
       "    <tr>\n",
       "      <th id=\"T_6ff1d_level0_row6\" class=\"row_heading level0 row6\" >6</th>\n",
       "      <td id=\"T_6ff1d_row6_col0\" class=\"data row6 col0\" >0.9520</td>\n",
       "      <td id=\"T_6ff1d_row6_col1\" class=\"data row6 col1\" >0.8053</td>\n",
       "      <td id=\"T_6ff1d_row6_col2\" class=\"data row6 col2\" >0.0000</td>\n",
       "      <td id=\"T_6ff1d_row6_col3\" class=\"data row6 col3\" >0.0000</td>\n",
       "      <td id=\"T_6ff1d_row6_col4\" class=\"data row6 col4\" >0.0000</td>\n",
       "      <td id=\"T_6ff1d_row6_col5\" class=\"data row6 col5\" >0.0000</td>\n",
       "      <td id=\"T_6ff1d_row6_col6\" class=\"data row6 col6\" >0.0000</td>\n",
       "    </tr>\n",
       "    <tr>\n",
       "      <th id=\"T_6ff1d_level0_row7\" class=\"row_heading level0 row7\" >7</th>\n",
       "      <td id=\"T_6ff1d_row7_col0\" class=\"data row7 col0\" >0.9680</td>\n",
       "      <td id=\"T_6ff1d_row7_col1\" class=\"data row7 col1\" >0.4762</td>\n",
       "      <td id=\"T_6ff1d_row7_col2\" class=\"data row7 col2\" >0.3333</td>\n",
       "      <td id=\"T_6ff1d_row7_col3\" class=\"data row7 col3\" >1.0000</td>\n",
       "      <td id=\"T_6ff1d_row7_col4\" class=\"data row7 col4\" >0.5000</td>\n",
       "      <td id=\"T_6ff1d_row7_col5\" class=\"data row7 col5\" >0.4877</td>\n",
       "      <td id=\"T_6ff1d_row7_col6\" class=\"data row7 col6\" >0.5679</td>\n",
       "    </tr>\n",
       "    <tr>\n",
       "      <th id=\"T_6ff1d_level0_row8\" class=\"row_heading level0 row8\" >8</th>\n",
       "      <td id=\"T_6ff1d_row8_col0\" class=\"data row8 col0\" >0.9600</td>\n",
       "      <td id=\"T_6ff1d_row8_col1\" class=\"data row8 col1\" >0.9377</td>\n",
       "      <td id=\"T_6ff1d_row8_col2\" class=\"data row8 col2\" >0.1667</td>\n",
       "      <td id=\"T_6ff1d_row8_col3\" class=\"data row8 col3\" >1.0000</td>\n",
       "      <td id=\"T_6ff1d_row8_col4\" class=\"data row8 col4\" >0.2857</td>\n",
       "      <td id=\"T_6ff1d_row8_col5\" class=\"data row8 col5\" >0.2758</td>\n",
       "      <td id=\"T_6ff1d_row8_col6\" class=\"data row8 col6\" >0.3999</td>\n",
       "    </tr>\n",
       "    <tr>\n",
       "      <th id=\"T_6ff1d_level0_row9\" class=\"row_heading level0 row9\" >9</th>\n",
       "      <td id=\"T_6ff1d_row9_col0\" class=\"data row9 col0\" >0.9600</td>\n",
       "      <td id=\"T_6ff1d_row9_col1\" class=\"data row9 col1\" >0.7521</td>\n",
       "      <td id=\"T_6ff1d_row9_col2\" class=\"data row9 col2\" >0.1667</td>\n",
       "      <td id=\"T_6ff1d_row9_col3\" class=\"data row9 col3\" >1.0000</td>\n",
       "      <td id=\"T_6ff1d_row9_col4\" class=\"data row9 col4\" >0.2857</td>\n",
       "      <td id=\"T_6ff1d_row9_col5\" class=\"data row9 col5\" >0.2758</td>\n",
       "      <td id=\"T_6ff1d_row9_col6\" class=\"data row9 col6\" >0.3999</td>\n",
       "    </tr>\n",
       "    <tr>\n",
       "      <th id=\"T_6ff1d_level0_row10\" class=\"row_heading level0 row10\" >Mean</th>\n",
       "      <td id=\"T_6ff1d_row10_col0\" class=\"data row10 col0\" >0.9576</td>\n",
       "      <td id=\"T_6ff1d_row10_col1\" class=\"data row10 col1\" >0.7193</td>\n",
       "      <td id=\"T_6ff1d_row10_col2\" class=\"data row10 col2\" >0.1500</td>\n",
       "      <td id=\"T_6ff1d_row10_col3\" class=\"data row10 col3\" >0.6667</td>\n",
       "      <td id=\"T_6ff1d_row10_col4\" class=\"data row10 col4\" >0.2373</td>\n",
       "      <td id=\"T_6ff1d_row10_col5\" class=\"data row10 col5\" >0.2279</td>\n",
       "      <td id=\"T_6ff1d_row10_col6\" class=\"data row10 col6\" >0.3001</td>\n",
       "    </tr>\n",
       "    <tr>\n",
       "      <th id=\"T_6ff1d_level0_row11\" class=\"row_heading level0 row11\" >Std</th>\n",
       "      <td id=\"T_6ff1d_row11_col0\" class=\"data row11 col0\" >0.0062</td>\n",
       "      <td id=\"T_6ff1d_row11_col1\" class=\"data row11 col1\" >0.1427</td>\n",
       "      <td id=\"T_6ff1d_row11_col2\" class=\"data row11 col2\" >0.1167</td>\n",
       "      <td id=\"T_6ff1d_row11_col3\" class=\"data row11 col3\" >0.4472</td>\n",
       "      <td id=\"T_6ff1d_row11_col4\" class=\"data row11 col4\" >0.1710</td>\n",
       "      <td id=\"T_6ff1d_row11_col5\" class=\"data row11 col5\" >0.1675</td>\n",
       "      <td id=\"T_6ff1d_row11_col6\" class=\"data row11 col6\" >0.2068</td>\n",
       "    </tr>\n",
       "  </tbody>\n",
       "</table>\n"
      ],
      "text/plain": [
       "<pandas.io.formats.style.Styler at 0x15ad9c36c50>"
      ]
     },
     "metadata": {},
     "output_type": "display_data"
    },
    {
     "data": {
      "text/html": [],
      "text/plain": [
       "<IPython.core.display.HTML object>"
      ]
     },
     "metadata": {},
     "output_type": "display_data"
    }
   ],
   "source": [
    "rf = create_model('rf')"
   ]
  },
  {
   "cell_type": "code",
   "execution_count": 68,
   "metadata": {
    "execution": {
     "iopub.execute_input": "2023-04-11T19:21:17.898090Z",
     "iopub.status.busy": "2023-04-11T19:21:17.897713Z",
     "iopub.status.idle": "2023-04-11T19:22:01.932868Z",
     "shell.execute_reply": "2023-04-11T19:22:01.931878Z",
     "shell.execute_reply.started": "2023-04-11T19:21:17.898056Z"
    }
   },
   "outputs": [
    {
     "data": {
      "text/html": [],
      "text/plain": [
       "<IPython.core.display.HTML object>"
      ]
     },
     "metadata": {},
     "output_type": "display_data"
    },
    {
     "data": {
      "text/html": [
       "<style type=\"text/css\">\n",
       "#T_6e250_row10_col0, #T_6e250_row10_col1, #T_6e250_row10_col2, #T_6e250_row10_col3, #T_6e250_row10_col4, #T_6e250_row10_col5, #T_6e250_row10_col6 {\n",
       "  background: yellow;\n",
       "}\n",
       "</style>\n",
       "<table id=\"T_6e250\">\n",
       "  <thead>\n",
       "    <tr>\n",
       "      <th class=\"blank level0\" >&nbsp;</th>\n",
       "      <th id=\"T_6e250_level0_col0\" class=\"col_heading level0 col0\" >Accuracy</th>\n",
       "      <th id=\"T_6e250_level0_col1\" class=\"col_heading level0 col1\" >AUC</th>\n",
       "      <th id=\"T_6e250_level0_col2\" class=\"col_heading level0 col2\" >Recall</th>\n",
       "      <th id=\"T_6e250_level0_col3\" class=\"col_heading level0 col3\" >Prec.</th>\n",
       "      <th id=\"T_6e250_level0_col4\" class=\"col_heading level0 col4\" >F1</th>\n",
       "      <th id=\"T_6e250_level0_col5\" class=\"col_heading level0 col5\" >Kappa</th>\n",
       "      <th id=\"T_6e250_level0_col6\" class=\"col_heading level0 col6\" >MCC</th>\n",
       "    </tr>\n",
       "    <tr>\n",
       "      <th class=\"index_name level0\" >Fold</th>\n",
       "      <th class=\"blank col0\" >&nbsp;</th>\n",
       "      <th class=\"blank col1\" >&nbsp;</th>\n",
       "      <th class=\"blank col2\" >&nbsp;</th>\n",
       "      <th class=\"blank col3\" >&nbsp;</th>\n",
       "      <th class=\"blank col4\" >&nbsp;</th>\n",
       "      <th class=\"blank col5\" >&nbsp;</th>\n",
       "      <th class=\"blank col6\" >&nbsp;</th>\n",
       "    </tr>\n",
       "  </thead>\n",
       "  <tbody>\n",
       "    <tr>\n",
       "      <th id=\"T_6e250_level0_row0\" class=\"row_heading level0 row0\" >0</th>\n",
       "      <td id=\"T_6e250_row0_col0\" class=\"data row0 col0\" >0.7920</td>\n",
       "      <td id=\"T_6e250_row0_col1\" class=\"data row0 col1\" >0.3782</td>\n",
       "      <td id=\"T_6e250_row0_col2\" class=\"data row0 col2\" >0.1667</td>\n",
       "      <td id=\"T_6e250_row0_col3\" class=\"data row0 col3\" >0.0455</td>\n",
       "      <td id=\"T_6e250_row0_col4\" class=\"data row0 col4\" >0.0714</td>\n",
       "      <td id=\"T_6e250_row0_col5\" class=\"data row0 col5\" >-0.0043</td>\n",
       "      <td id=\"T_6e250_row0_col6\" class=\"data row0 col6\" >-0.0055</td>\n",
       "    </tr>\n",
       "    <tr>\n",
       "      <th id=\"T_6e250_level0_row1\" class=\"row_heading level0 row1\" >1</th>\n",
       "      <td id=\"T_6e250_row1_col0\" class=\"data row1 col0\" >0.8080</td>\n",
       "      <td id=\"T_6e250_row1_col1\" class=\"data row1 col1\" >0.5210</td>\n",
       "      <td id=\"T_6e250_row1_col2\" class=\"data row1 col2\" >0.1667</td>\n",
       "      <td id=\"T_6e250_row1_col3\" class=\"data row1 col3\" >0.0500</td>\n",
       "      <td id=\"T_6e250_row1_col4\" class=\"data row1 col4\" >0.0769</td>\n",
       "      <td id=\"T_6e250_row1_col5\" class=\"data row1 col5\" >0.0033</td>\n",
       "      <td id=\"T_6e250_row1_col6\" class=\"data row1 col6\" >0.0041</td>\n",
       "    </tr>\n",
       "    <tr>\n",
       "      <th id=\"T_6e250_level0_row2\" class=\"row_heading level0 row2\" >2</th>\n",
       "      <td id=\"T_6e250_row2_col0\" class=\"data row2 col0\" >0.7920</td>\n",
       "      <td id=\"T_6e250_row2_col1\" class=\"data row2 col1\" >0.6246</td>\n",
       "      <td id=\"T_6e250_row2_col2\" class=\"data row2 col2\" >0.3333</td>\n",
       "      <td id=\"T_6e250_row2_col3\" class=\"data row2 col3\" >0.0833</td>\n",
       "      <td id=\"T_6e250_row2_col4\" class=\"data row2 col4\" >0.1333</td>\n",
       "      <td id=\"T_6e250_row2_col5\" class=\"data row2 col5\" >0.0612</td>\n",
       "      <td id=\"T_6e250_row2_col6\" class=\"data row2 col6\" >0.0806</td>\n",
       "    </tr>\n",
       "    <tr>\n",
       "      <th id=\"T_6e250_level0_row3\" class=\"row_heading level0 row3\" >3</th>\n",
       "      <td id=\"T_6e250_row3_col0\" class=\"data row3 col0\" >0.8080</td>\n",
       "      <td id=\"T_6e250_row3_col1\" class=\"data row3 col1\" >0.6499</td>\n",
       "      <td id=\"T_6e250_row3_col2\" class=\"data row3 col2\" >0.6667</td>\n",
       "      <td id=\"T_6e250_row3_col3\" class=\"data row3 col3\" >0.1538</td>\n",
       "      <td id=\"T_6e250_row3_col4\" class=\"data row3 col4\" >0.2500</td>\n",
       "      <td id=\"T_6e250_row3_col5\" class=\"data row3 col5\" >0.1866</td>\n",
       "      <td id=\"T_6e250_row3_col6\" class=\"data row3 col6\" >0.2537</td>\n",
       "    </tr>\n",
       "    <tr>\n",
       "      <th id=\"T_6e250_level0_row4\" class=\"row_heading level0 row4\" >4</th>\n",
       "      <td id=\"T_6e250_row4_col0\" class=\"data row4 col0\" >0.8000</td>\n",
       "      <td id=\"T_6e250_row4_col1\" class=\"data row4 col1\" >0.5518</td>\n",
       "      <td id=\"T_6e250_row4_col2\" class=\"data row4 col2\" >0.1667</td>\n",
       "      <td id=\"T_6e250_row4_col3\" class=\"data row4 col3\" >0.0476</td>\n",
       "      <td id=\"T_6e250_row4_col4\" class=\"data row4 col4\" >0.0741</td>\n",
       "      <td id=\"T_6e250_row4_col5\" class=\"data row4 col5\" >-0.0006</td>\n",
       "      <td id=\"T_6e250_row4_col6\" class=\"data row4 col6\" >-0.0008</td>\n",
       "    </tr>\n",
       "    <tr>\n",
       "      <th id=\"T_6e250_level0_row5\" class=\"row_heading level0 row5\" >5</th>\n",
       "      <td id=\"T_6e250_row5_col0\" class=\"data row5 col0\" >0.7760</td>\n",
       "      <td id=\"T_6e250_row5_col1\" class=\"data row5 col1\" >0.7283</td>\n",
       "      <td id=\"T_6e250_row5_col2\" class=\"data row5 col2\" >0.5000</td>\n",
       "      <td id=\"T_6e250_row5_col3\" class=\"data row5 col3\" >0.1071</td>\n",
       "      <td id=\"T_6e250_row5_col4\" class=\"data row5 col4\" >0.1765</td>\n",
       "      <td id=\"T_6e250_row5_col5\" class=\"data row5 col5\" >0.1058</td>\n",
       "      <td id=\"T_6e250_row5_col6\" class=\"data row5 col6\" >0.1486</td>\n",
       "    </tr>\n",
       "    <tr>\n",
       "      <th id=\"T_6e250_level0_row6\" class=\"row_heading level0 row6\" >6</th>\n",
       "      <td id=\"T_6e250_row6_col0\" class=\"data row6 col0\" >0.8560</td>\n",
       "      <td id=\"T_6e250_row6_col1\" class=\"data row6 col1\" >0.8459</td>\n",
       "      <td id=\"T_6e250_row6_col2\" class=\"data row6 col2\" >0.1667</td>\n",
       "      <td id=\"T_6e250_row6_col3\" class=\"data row6 col3\" >0.0714</td>\n",
       "      <td id=\"T_6e250_row6_col4\" class=\"data row6 col4\" >0.1000</td>\n",
       "      <td id=\"T_6e250_row6_col5\" class=\"data row6 col5\" >0.0352</td>\n",
       "      <td id=\"T_6e250_row6_col6\" class=\"data row6 col6\" >0.0389</td>\n",
       "    </tr>\n",
       "    <tr>\n",
       "      <th id=\"T_6e250_level0_row7\" class=\"row_heading level0 row7\" >7</th>\n",
       "      <td id=\"T_6e250_row7_col0\" class=\"data row7 col0\" >0.8560</td>\n",
       "      <td id=\"T_6e250_row7_col1\" class=\"data row7 col1\" >0.6527</td>\n",
       "      <td id=\"T_6e250_row7_col2\" class=\"data row7 col2\" >0.5000</td>\n",
       "      <td id=\"T_6e250_row7_col3\" class=\"data row7 col3\" >0.1667</td>\n",
       "      <td id=\"T_6e250_row7_col4\" class=\"data row7 col4\" >0.2500</td>\n",
       "      <td id=\"T_6e250_row7_col5\" class=\"data row7 col5\" >0.1918</td>\n",
       "      <td id=\"T_6e250_row7_col6\" class=\"data row7 col6\" >0.2277</td>\n",
       "    </tr>\n",
       "    <tr>\n",
       "      <th id=\"T_6e250_level0_row8\" class=\"row_heading level0 row8\" >8</th>\n",
       "      <td id=\"T_6e250_row8_col0\" class=\"data row8 col0\" >0.9200</td>\n",
       "      <td id=\"T_6e250_row8_col1\" class=\"data row8 col1\" >0.6807</td>\n",
       "      <td id=\"T_6e250_row8_col2\" class=\"data row8 col2\" >0.3333</td>\n",
       "      <td id=\"T_6e250_row8_col3\" class=\"data row8 col3\" >0.2500</td>\n",
       "      <td id=\"T_6e250_row8_col4\" class=\"data row8 col4\" >0.2857</td>\n",
       "      <td id=\"T_6e250_row8_col5\" class=\"data row8 col5\" >0.2443</td>\n",
       "      <td id=\"T_6e250_row8_col6\" class=\"data row8 col6\" >0.2471</td>\n",
       "    </tr>\n",
       "    <tr>\n",
       "      <th id=\"T_6e250_level0_row9\" class=\"row_heading level0 row9\" >9</th>\n",
       "      <td id=\"T_6e250_row9_col0\" class=\"data row9 col0\" >0.8640</td>\n",
       "      <td id=\"T_6e250_row9_col1\" class=\"data row9 col1\" >0.7941</td>\n",
       "      <td id=\"T_6e250_row9_col2\" class=\"data row9 col2\" >0.5000</td>\n",
       "      <td id=\"T_6e250_row9_col3\" class=\"data row9 col3\" >0.1765</td>\n",
       "      <td id=\"T_6e250_row9_col4\" class=\"data row9 col4\" >0.2609</td>\n",
       "      <td id=\"T_6e250_row9_col5\" class=\"data row9 col5\" >0.2044</td>\n",
       "      <td id=\"T_6e250_row9_col6\" class=\"data row9 col6\" >0.2384</td>\n",
       "    </tr>\n",
       "    <tr>\n",
       "      <th id=\"T_6e250_level0_row10\" class=\"row_heading level0 row10\" >Mean</th>\n",
       "      <td id=\"T_6e250_row10_col0\" class=\"data row10 col0\" >0.8272</td>\n",
       "      <td id=\"T_6e250_row10_col1\" class=\"data row10 col1\" >0.6427</td>\n",
       "      <td id=\"T_6e250_row10_col2\" class=\"data row10 col2\" >0.3500</td>\n",
       "      <td id=\"T_6e250_row10_col3\" class=\"data row10 col3\" >0.1152</td>\n",
       "      <td id=\"T_6e250_row10_col4\" class=\"data row10 col4\" >0.1679</td>\n",
       "      <td id=\"T_6e250_row10_col5\" class=\"data row10 col5\" >0.1028</td>\n",
       "      <td id=\"T_6e250_row10_col6\" class=\"data row10 col6\" >0.1233</td>\n",
       "    </tr>\n",
       "    <tr>\n",
       "      <th id=\"T_6e250_level0_row11\" class=\"row_heading level0 row11\" >Std</th>\n",
       "      <td id=\"T_6e250_row11_col0\" class=\"data row11 col0\" >0.0427</td>\n",
       "      <td id=\"T_6e250_row11_col1\" class=\"data row11 col1\" >0.1290</td>\n",
       "      <td id=\"T_6e250_row11_col2\" class=\"data row11 col2\" >0.1740</td>\n",
       "      <td id=\"T_6e250_row11_col3\" class=\"data row11 col3\" >0.0654</td>\n",
       "      <td id=\"T_6e250_row11_col4\" class=\"data row11 col4\" >0.0826</td>\n",
       "      <td id=\"T_6e250_row11_col5\" class=\"data row11 col5\" >0.0915</td>\n",
       "      <td id=\"T_6e250_row11_col6\" class=\"data row11 col6\" >0.1060</td>\n",
       "    </tr>\n",
       "  </tbody>\n",
       "</table>\n"
      ],
      "text/plain": [
       "<pandas.io.formats.style.Styler at 0x15ad9639b50>"
      ]
     },
     "metadata": {},
     "output_type": "display_data"
    },
    {
     "data": {
      "text/html": [],
      "text/plain": [
       "<IPython.core.display.HTML object>"
      ]
     },
     "metadata": {},
     "output_type": "display_data"
    },
    {
     "name": "stdout",
     "output_type": "stream",
     "text": [
      "Fitting 10 folds for each of 10 candidates, totalling 100 fits\n",
      "Original model was better than the tuned model, hence it will be returned. NOTE: The display metrics are for the tuned model (not the original one).\n"
     ]
    }
   ],
   "source": [
    "rf = tune_model(rf, optimize = 'F1')"
   ]
  },
  {
   "cell_type": "code",
   "execution_count": 69,
   "metadata": {
    "execution": {
     "iopub.execute_input": "2023-04-11T19:22:01.935377Z",
     "iopub.status.busy": "2023-04-11T19:22:01.934987Z",
     "iopub.status.idle": "2023-04-11T19:22:03.079720Z",
     "shell.execute_reply": "2023-04-11T19:22:03.078640Z",
     "shell.execute_reply.started": "2023-04-11T19:22:01.935336Z"
    }
   },
   "outputs": [
    {
     "data": {
      "text/html": [],
      "text/plain": [
       "<IPython.core.display.HTML object>"
      ]
     },
     "metadata": {},
     "output_type": "display_data"
    },
    {
     "data": {
      "image/png": "[encoded data removed]",
      "text/plain": [
       "<Figure size 800x550 with 1 Axes>"
      ]
     },
     "metadata": {},
     "output_type": "display_data"
    }
   ],
   "source": [
    "plot_model(rf)"
   ]
  },
  {
   "cell_type": "code",
   "execution_count": 70,
   "metadata": {
    "execution": {
     "iopub.execute_input": "2023-04-11T19:22:03.081861Z",
     "iopub.status.busy": "2023-04-11T19:22:03.081372Z",
     "iopub.status.idle": "2023-04-11T19:22:03.892197Z",
     "shell.execute_reply": "2023-04-11T19:22:03.891156Z",
     "shell.execute_reply.started": "2023-04-11T19:22:03.081817Z"
    }
   },
   "outputs": [
    {
     "data": {
      "text/html": [],
      "text/plain": [
       "<IPython.core.display.HTML object>"
      ]
     },
     "metadata": {},
     "output_type": "display_data"
    },
    {
     "data": {
      "image/png": "[encoded data removed]",
      "text/plain": [
       "<Figure size 800x500 with 1 Axes>"
      ]
     },
     "metadata": {},
     "output_type": "display_data"
    }
   ],
   "source": [
    "plot_model(rf, plot = 'feature')"
   ]
  },
  {
   "cell_type": "code",
   "execution_count": 71,
   "metadata": {
    "execution": {
     "iopub.execute_input": "2023-04-11T19:22:03.895142Z",
     "iopub.status.busy": "2023-04-11T19:22:03.894703Z",
     "iopub.status.idle": "2023-04-11T19:22:04.592170Z",
     "shell.execute_reply": "2023-04-11T19:22:04.591119Z",
     "shell.execute_reply.started": "2023-04-11T19:22:03.895100Z"
    }
   },
   "outputs": [
    {
     "data": {
      "application/vnd.jupyter.widget-view+json": {
       "model_id": "e23cec3b61874fbfbe444b54007ff47c",
       "version_major": 2,
       "version_minor": 0
      },
      "text/plain": [
       "interactive(children=(ToggleButtons(description='Plot Type:', icons=('',), options=(('Pipeline Plot', 'pipelin…"
      ]
     },
     "metadata": {},
     "output_type": "display_data"
    },
    {
     "name": "stdout",
     "output_type": "stream",
     "text": [
      "None\n"
     ]
    }
   ],
   "source": [
    "print(evaluate_model(rf))"
   ]
  },
  {
   "cell_type": "code",
   "execution_count": 72,
   "metadata": {
    "execution": {
     "iopub.execute_input": "2023-04-11T19:22:12.401880Z",
     "iopub.status.busy": "2023-04-11T19:22:12.401209Z",
     "iopub.status.idle": "2023-04-11T19:22:20.239617Z",
     "shell.execute_reply": "2023-04-11T19:22:20.238532Z",
     "shell.execute_reply.started": "2023-04-11T19:22:12.401841Z"
    }
   },
   "outputs": [
    {
     "data": {
      "image/png": "[encoded data removed]",
      "text/plain": [
       "<Figure size 800x950 with 2 Axes>"
      ]
     },
     "metadata": {},
     "output_type": "display_data"
    }
   ],
   "source": [
    "interpret_model(rf)"
   ]
  },
  {
   "cell_type": "code",
   "execution_count": 73,
   "metadata": {
    "execution": {
     "iopub.execute_input": "2023-04-11T19:22:29.903921Z",
     "iopub.status.busy": "2023-04-11T19:22:29.902403Z",
     "iopub.status.idle": "2023-04-11T19:22:30.564236Z",
     "shell.execute_reply": "2023-04-11T19:22:30.563179Z",
     "shell.execute_reply.started": "2023-04-11T19:22:29.903867Z"
    }
   },
   "outputs": [
    {
     "data": {
      "text/html": [
       "<style type=\"text/css\">\n",
       "</style>\n",
       "<table id=\"T_389b2\">\n",
       "  <thead>\n",
       "    <tr>\n",
       "      <th class=\"blank level0\" >&nbsp;</th>\n",
       "      <th id=\"T_389b2_level0_col0\" class=\"col_heading level0 col0\" >Model</th>\n",
       "      <th id=\"T_389b2_level0_col1\" class=\"col_heading level0 col1\" >Accuracy</th>\n",
       "      <th id=\"T_389b2_level0_col2\" class=\"col_heading level0 col2\" >AUC</th>\n",
       "      <th id=\"T_389b2_level0_col3\" class=\"col_heading level0 col3\" >Recall</th>\n",
       "      <th id=\"T_389b2_level0_col4\" class=\"col_heading level0 col4\" >Prec.</th>\n",
       "      <th id=\"T_389b2_level0_col5\" class=\"col_heading level0 col5\" >F1</th>\n",
       "      <th id=\"T_389b2_level0_col6\" class=\"col_heading level0 col6\" >Kappa</th>\n",
       "      <th id=\"T_389b2_level0_col7\" class=\"col_heading level0 col7\" >MCC</th>\n",
       "    </tr>\n",
       "  </thead>\n",
       "  <tbody>\n",
       "    <tr>\n",
       "      <th id=\"T_389b2_level0_row0\" class=\"row_heading level0 row0\" >0</th>\n",
       "      <td id=\"T_389b2_row0_col0\" class=\"data row0 col0\" >Random Forest Classifier</td>\n",
       "      <td id=\"T_389b2_row0_col1\" class=\"data row0 col1\" >0.9479</td>\n",
       "      <td id=\"T_389b2_row0_col2\" class=\"data row0 col2\" >0.6036</td>\n",
       "      <td id=\"T_389b2_row0_col3\" class=\"data row0 col3\" >0.0769</td>\n",
       "      <td id=\"T_389b2_row0_col4\" class=\"data row0 col4\" >0.3333</td>\n",
       "      <td id=\"T_389b2_row0_col5\" class=\"data row0 col5\" >0.1250</td>\n",
       "      <td id=\"T_389b2_row0_col6\" class=\"data row0 col6\" >0.1088</td>\n",
       "      <td id=\"T_389b2_row0_col7\" class=\"data row0 col7\" >0.1411</td>\n",
       "    </tr>\n",
       "  </tbody>\n",
       "</table>\n"
      ],
      "text/plain": [
       "<pandas.io.formats.style.Styler at 0x15adbac0150>"
      ]
     },
     "metadata": {},
     "output_type": "display_data"
    },
    {
     "data": {
      "text/html": [
       "<div>\n",
       "<style scoped>\n",
       "    .dataframe tbody tr th:only-of-type {\n",
       "        vertical-align: middle;\n",
       "    }\n",
       "\n",
       "    .dataframe tbody tr th {\n",
       "        vertical-align: top;\n",
       "    }\n",
       "\n",
       "    .dataframe thead th {\n",
       "        text-align: right;\n",
       "    }\n",
       "</style>\n",
       "<table border=\"1\" class=\"dataframe\">\n",
       "  <thead>\n",
       "    <tr style=\"text-align: right;\">\n",
       "      <th></th>\n",
       "      <th>ID</th>\n",
       "      <th>CNT_CHILDREN</th>\n",
       "      <th>AMT_INCOME_TOTAL</th>\n",
       "      <th>FLAG_WORK_PHONE</th>\n",
       "      <th>FLAG_PHONE</th>\n",
       "      <th>FLAG_EMAIL</th>\n",
       "      <th>CNT_FAM_MEMBERS</th>\n",
       "      <th>age_months</th>\n",
       "      <th>employment_months</th>\n",
       "      <th>CODE_GENDER_F</th>\n",
       "      <th>...</th>\n",
       "      <th>OCCUPATION_TYPE_Medicine staff</th>\n",
       "      <th>OCCUPATION_TYPE_Private service staff</th>\n",
       "      <th>OCCUPATION_TYPE_Realty agents</th>\n",
       "      <th>OCCUPATION_TYPE_Sales staff</th>\n",
       "      <th>OCCUPATION_TYPE_Secretaries</th>\n",
       "      <th>OCCUPATION_TYPE_Security staff</th>\n",
       "      <th>OCCUPATION_TYPE_Waiters/barmen staff</th>\n",
       "      <th>label</th>\n",
       "      <th>prediction_label</th>\n",
       "      <th>prediction_score</th>\n",
       "    </tr>\n",
       "  </thead>\n",
       "  <tbody>\n",
       "    <tr>\n",
       "      <th>1377</th>\n",
       "      <td>5067731</td>\n",
       "      <td>1</td>\n",
       "      <td>135000.0</td>\n",
       "      <td>1</td>\n",
       "      <td>1</td>\n",
       "      <td>0</td>\n",
       "      <td>3.0</td>\n",
       "      <td>328</td>\n",
       "      <td>76</td>\n",
       "      <td>1</td>\n",
       "      <td>...</td>\n",
       "      <td>0</td>\n",
       "      <td>0</td>\n",
       "      <td>0</td>\n",
       "      <td>0</td>\n",
       "      <td>0</td>\n",
       "      <td>0</td>\n",
       "      <td>0</td>\n",
       "      <td>0</td>\n",
       "      <td>0</td>\n",
       "      <td>0.99</td>\n",
       "    </tr>\n",
       "    <tr>\n",
       "      <th>1102</th>\n",
       "      <td>5091512</td>\n",
       "      <td>0</td>\n",
       "      <td>148500.0</td>\n",
       "      <td>0</td>\n",
       "      <td>0</td>\n",
       "      <td>0</td>\n",
       "      <td>2.0</td>\n",
       "      <td>466</td>\n",
       "      <td>47</td>\n",
       "      <td>1</td>\n",
       "      <td>...</td>\n",
       "      <td>0</td>\n",
       "      <td>0</td>\n",
       "      <td>0</td>\n",
       "      <td>1</td>\n",
       "      <td>0</td>\n",
       "      <td>0</td>\n",
       "      <td>0</td>\n",
       "      <td>0</td>\n",
       "      <td>0</td>\n",
       "      <td>1.00</td>\n",
       "    </tr>\n",
       "    <tr>\n",
       "      <th>1649</th>\n",
       "      <td>5041994</td>\n",
       "      <td>0</td>\n",
       "      <td>90000.0</td>\n",
       "      <td>0</td>\n",
       "      <td>0</td>\n",
       "      <td>0</td>\n",
       "      <td>2.0</td>\n",
       "      <td>703</td>\n",
       "      <td>0</td>\n",
       "      <td>1</td>\n",
       "      <td>...</td>\n",
       "      <td>0</td>\n",
       "      <td>0</td>\n",
       "      <td>0</td>\n",
       "      <td>0</td>\n",
       "      <td>0</td>\n",
       "      <td>0</td>\n",
       "      <td>0</td>\n",
       "      <td>0</td>\n",
       "      <td>0</td>\n",
       "      <td>0.99</td>\n",
       "    </tr>\n",
       "    <tr>\n",
       "      <th>1383</th>\n",
       "      <td>5149000</td>\n",
       "      <td>1</td>\n",
       "      <td>202500.0</td>\n",
       "      <td>0</td>\n",
       "      <td>0</td>\n",
       "      <td>0</td>\n",
       "      <td>3.0</td>\n",
       "      <td>530</td>\n",
       "      <td>72</td>\n",
       "      <td>1</td>\n",
       "      <td>...</td>\n",
       "      <td>0</td>\n",
       "      <td>0</td>\n",
       "      <td>0</td>\n",
       "      <td>0</td>\n",
       "      <td>0</td>\n",
       "      <td>0</td>\n",
       "      <td>0</td>\n",
       "      <td>0</td>\n",
       "      <td>0</td>\n",
       "      <td>0.97</td>\n",
       "    </tr>\n",
       "    <tr>\n",
       "      <th>559</th>\n",
       "      <td>5113704</td>\n",
       "      <td>2</td>\n",
       "      <td>135000.0</td>\n",
       "      <td>0</td>\n",
       "      <td>0</td>\n",
       "      <td>0</td>\n",
       "      <td>4.0</td>\n",
       "      <td>487</td>\n",
       "      <td>29</td>\n",
       "      <td>1</td>\n",
       "      <td>...</td>\n",
       "      <td>0</td>\n",
       "      <td>0</td>\n",
       "      <td>0</td>\n",
       "      <td>0</td>\n",
       "      <td>0</td>\n",
       "      <td>0</td>\n",
       "      <td>0</td>\n",
       "      <td>0</td>\n",
       "      <td>0</td>\n",
       "      <td>0.96</td>\n",
       "    </tr>\n",
       "  </tbody>\n",
       "</table>\n",
       "<p>5 rows × 57 columns</p>\n",
       "</div>"
      ],
      "text/plain": [
       "           ID  CNT_CHILDREN  AMT_INCOME_TOTAL  FLAG_WORK_PHONE  FLAG_PHONE  \\\n",
       "1377  5067731             1          135000.0                1           1   \n",
       "1102  5091512             0          148500.0                0           0   \n",
       "1649  5041994             0           90000.0                0           0   \n",
       "1383  5149000             1          202500.0                0           0   \n",
       "559   5113704             2          135000.0                0           0   \n",
       "\n",
       "      FLAG_EMAIL  CNT_FAM_MEMBERS  age_months  employment_months  \\\n",
       "1377           0              3.0         328                 76   \n",
       "1102           0              2.0         466                 47   \n",
       "1649           0              2.0         703                  0   \n",
       "1383           0              3.0         530                 72   \n",
       "559            0              4.0         487                 29   \n",
       "\n",
       "      CODE_GENDER_F  ...  OCCUPATION_TYPE_Medicine staff  \\\n",
       "1377              1  ...                               0   \n",
       "1102              1  ...                               0   \n",
       "1649              1  ...                               0   \n",
       "1383              1  ...                               0   \n",
       "559               1  ...                               0   \n",
       "\n",
       "      OCCUPATION_TYPE_Private service staff  OCCUPATION_TYPE_Realty agents  \\\n",
       "1377                                      0                              0   \n",
       "1102                                      0                              0   \n",
       "1649                                      0                              0   \n",
       "1383                                      0                              0   \n",
       "559                                       0                              0   \n",
       "\n",
       "      OCCUPATION_TYPE_Sales staff  OCCUPATION_TYPE_Secretaries  \\\n",
       "1377                            0                            0   \n",
       "1102                            1                            0   \n",
       "1649                            0                            0   \n",
       "1383                            0                            0   \n",
       "559                             0                            0   \n",
       "\n",
       "      OCCUPATION_TYPE_Security staff  OCCUPATION_TYPE_Waiters/barmen staff  \\\n",
       "1377                               0                                     0   \n",
       "1102                               0                                     0   \n",
       "1649                               0                                     0   \n",
       "1383                               0                                     0   \n",
       "559                                0                                     0   \n",
       "\n",
       "      label  prediction_label  prediction_score  \n",
       "1377      0                 0              0.99  \n",
       "1102      0                 0              1.00  \n",
       "1649      0                 0              0.99  \n",
       "1383      0                 0              0.97  \n",
       "559       0                 0              0.96  \n",
       "\n",
       "[5 rows x 57 columns]"
      ]
     },
     "execution_count": 73,
     "metadata": {},
     "output_type": "execute_result"
    }
   ],
   "source": [
    "pred_holdouts = predict_model(rf)\n",
    "pred_holdouts.head()"
   ]
  },
  {
   "cell_type": "code",
   "execution_count": null,
   "metadata": {
    "execution": {
     "iopub.execute_input": "2023-04-11T19:23:21.702281Z",
     "iopub.status.busy": "2023-04-11T19:23:21.701797Z",
     "iopub.status.idle": "2023-04-11T19:23:22.181629Z",
     "shell.execute_reply": "2023-04-11T19:23:22.180623Z",
     "shell.execute_reply.started": "2023-04-11T19:23:21.702241Z"
    }
   },
   "outputs": [],
   "source": []
  },
  {
   "cell_type": "code",
   "execution_count": null,
   "metadata": {},
   "outputs": [],
   "source": []
  }
 ],
 "metadata": {
  "kernelspec": {
   "display_name": "Python 3 (ipykernel)",
   "language": "python",
   "name": "python3"
  },
  "language_info": {
   "codemirror_mode": {
    "name": "ipython",
    "version": 3
   },
   "file_extension": ".py",
   "mimetype": "text/x-python",
   "name": "python",
   "nbconvert_exporter": "python",
   "pygments_lexer": "ipython3",
   "version": "3.11.5"
  }
 },
 "nbformat": 4,
 "nbformat_minor": 4
}
