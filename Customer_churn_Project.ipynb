{
 "cells": [
  {
   "cell_type": "markdown",
   "id": "a2fa9473",
   "metadata": {},
   "source": [
    "# Customer Churn Prediction"
   ]
  },
  {
   "cell_type": "code",
   "execution_count": null,
   "id": "4d3da530",
   "metadata": {},
   "outputs": [],
   "source": [
    "import numpy as np\n",
    "import pandas as pd\n",
    "import matplotlib.pyplot as plt\n",
    "import seaborn as sns"
   ]
  },
  {
   "cell_type": "code",
   "execution_count": null,
   "id": "85f0fb4c",
   "metadata": {
    "scrolled": true
   },
   "outputs": [],
   "source": [
    "p3=pd.read_excel('P3- Churn-Modelling Data.xlsx')\n",
    "p3.head()"
   ]
  },
  {
   "cell_type": "code",
   "execution_count": null,
   "id": "fa56cd6a",
   "metadata": {},
   "outputs": [],
   "source": [
    "p3.shape"
   ]
  },
  {
   "cell_type": "code",
   "execution_count": null,
   "id": "a56c7a3f",
   "metadata": {},
   "outputs": [],
   "source": [
    "p3.info()"
   ]
  },
  {
   "cell_type": "code",
   "execution_count": null,
   "id": "ceff0529",
   "metadata": {},
   "outputs": [],
   "source": [
    "p3['churned'].value_counts()"
   ]
  },
  {
   "cell_type": "markdown",
   "id": "610267d2",
   "metadata": {},
   "source": [
    "## Customer Demographics:"
   ]
  },
  {
   "cell_type": "code",
   "execution_count": null,
   "id": "8c323bb3",
   "metadata": {},
   "outputs": [],
   "source": [
    "p3['Age'].value_counts()"
   ]
  },
  {
   "cell_type": "code",
   "execution_count": null,
   "id": "50b40f7a",
   "metadata": {},
   "outputs": [],
   "source": [
    "#defining bins and age groups\n",
    "bins=[0,18,30,40,50,60,70,80,90]\n",
    "age_groups=['0-18','19-30','31-40','41-50','51-60','61-70','71-80','81-90']\n",
    "#creating new column 'age group'\n",
    "p3['Age Group']=pd.cut(p3['Age'],labels=age_groups,bins=bins, right=False)\n",
    "p3['num']=1\n",
    "p3.head()"
   ]
  },
  {
   "cell_type": "code",
   "execution_count": null,
   "id": "15f2eb80",
   "metadata": {},
   "outputs": [],
   "source": [
    "age_dist=p3.groupby('Age Group')['num'].sum().reset_index()\n",
    "age_dist"
   ]
  },
  {
   "cell_type": "code",
   "execution_count": null,
   "id": "219bc636",
   "metadata": {},
   "outputs": [],
   "source": [
    "p3['Age Group'].value_counts().sort_index().plot(kind='bar')\n",
    "plt.xlabel('Age Group')\n",
    "plt.ylabel('Count of customer')\n",
    "plt.title('Distribution of customers across different age groups')"
   ]
  },
  {
   "cell_type": "code",
   "execution_count": null,
   "id": "4079450d",
   "metadata": {},
   "outputs": [],
   "source": [
    "p3['Gender'].value_counts().reset_index()\n",
    "p3['Gender'].value_counts().plot(kind='pie')"
   ]
  },
  {
   "cell_type": "markdown",
   "id": "0dd4fe6d",
   "metadata": {},
   "source": [
    "## Churn Analysis:"
   ]
  },
  {
   "cell_type": "code",
   "execution_count": null,
   "id": "d3df3f58",
   "metadata": {},
   "outputs": [],
   "source": [
    "percent_cust_churned=(((p3['churned'].sum())/(len(p3['churned'])))*100).round(2)\n",
    "print(f'Percentage of customer churned is {percent_cust_churned}%')"
   ]
  },
  {
   "cell_type": "code",
   "execution_count": null,
   "id": "862143c0",
   "metadata": {},
   "outputs": [],
   "source": [
    "for num in [1,2,3,4]:\n",
    "    print(f\"percentage of customer churned having number of product = {num} is {((p3[p3['NumOfProducts']==num]['churned'].sum()/p3['churned'].sum())*100).round(2)}\")"
   ]
  },
  {
   "cell_type": "code",
   "execution_count": null,
   "id": "4cf9ff73",
   "metadata": {},
   "outputs": [],
   "source": [
    "#number of customer churned who is not active member\n",
    "print(f\"percentage of customer churned who is not an active member is {((p3[p3['IsActiveMember']==0]['churned'].sum()/p3['churned'].sum())*100).round(2)}\")"
   ]
  },
  {
   "cell_type": "code",
   "execution_count": null,
   "id": "c91afc9c",
   "metadata": {},
   "outputs": [],
   "source": [
    "#age wise distribution of customer who are churned\n",
    "churn_agewise=[]\n",
    "for i in p3['Age Group'].unique():\n",
    "    churn_agewise.append(p3[p3['Age Group']==i]['churned'].sum())\n",
    "print(churn_agewise)"
   ]
  },
  {
   "cell_type": "code",
   "execution_count": null,
   "id": "0b6b11d8",
   "metadata": {},
   "outputs": [],
   "source": [
    "agewise_churn_df=pd.DataFrame({'Age Group':p3['Age Group'].unique(),'Churn':churn_agewise})"
   ]
  },
  {
   "cell_type": "code",
   "execution_count": null,
   "id": "273d12a7",
   "metadata": {},
   "outputs": [],
   "source": [
    "agewise_churn_df.sort_values(by='Age Group')"
   ]
  },
  {
   "cell_type": "code",
   "execution_count": null,
   "id": "6133ab31",
   "metadata": {},
   "outputs": [],
   "source": [
    "sns.barplot(data=agewise_churn_df,x='Age Group',y='Churn')"
   ]
  },
  {
   "cell_type": "code",
   "execution_count": null,
   "id": "9d3cd1ff",
   "metadata": {},
   "outputs": [],
   "source": [
    "p3['churned'].value_counts().plot(kind='pie')"
   ]
  },
  {
   "cell_type": "code",
   "execution_count": null,
   "id": "2669a4d0",
   "metadata": {},
   "outputs": [],
   "source": [
    "print(p3['CreditScore'].max(), p3['CreditScore'].min())\n",
    "p3[p3['CreditScore']>600]['churned'].sum()"
   ]
  },
  {
   "cell_type": "code",
   "execution_count": null,
   "id": "7fdd7ee6",
   "metadata": {},
   "outputs": [],
   "source": [
    "regionwise_churned=[]\n",
    "for i in p3['Geography'].unique():\n",
    "    regionwise_churned.append(p3[p3['Geography']==i]['churned'].sum())\n",
    "print(regionwise_churned)"
   ]
  },
  {
   "cell_type": "code",
   "execution_count": null,
   "id": "7fddae40",
   "metadata": {},
   "outputs": [],
   "source": [
    "plt.bar(p3['Geography'].unique().tolist(),regionwise_churned)"
   ]
  },
  {
   "cell_type": "code",
   "execution_count": null,
   "id": "3616d859",
   "metadata": {},
   "outputs": [],
   "source": [
    "p3[['CreditScore','Geography','Age','Tenure','Balance','NumOfProducts','HasCrCard','IsActiveMember','churned']].corr()"
   ]
  },
  {
   "cell_type": "markdown",
   "id": "ed839c99",
   "metadata": {},
   "source": [
    "## Product Usage:"
   ]
  },
  {
   "cell_type": "code",
   "execution_count": null,
   "id": "bf2adf65",
   "metadata": {},
   "outputs": [],
   "source": [
    "prod_usage=p3['NumOfProducts'].value_counts().reset_index()"
   ]
  },
  {
   "cell_type": "code",
   "execution_count": null,
   "id": "6b7958d1",
   "metadata": {},
   "outputs": [],
   "source": [
    "prod_usage.plot(x='index', kind='bar')\n",
    "plt.ylabel('Count')\n",
    "plt.xlabel('Number of Products')\n",
    "plt.title('most commonly used product or services')"
   ]
  },
  {
   "cell_type": "code",
   "execution_count": null,
   "id": "faaad41f",
   "metadata": {},
   "outputs": [],
   "source": [
    "p3"
   ]
  },
  {
   "cell_type": "code",
   "execution_count": null,
   "id": "56773f34",
   "metadata": {},
   "outputs": [],
   "source": [
    "usage1_agewise=p3[p3['NumOfProducts']==1]['Age Group'].value_counts().reset_index().sort_values(by='index')\n",
    "usage1_agewise.rename(columns={'index':'Age Group','Age Group':'count'},inplace=True)\n",
    "usage1_agewise.plot(x='Age Group')\n",
    "plt.ylabel('Frequency')\n",
    "plt.title('Usage pattern of different customer segment according to age group of number of product = 1')\n",
    "plt.grid(True)"
   ]
  },
  {
   "cell_type": "code",
   "execution_count": null,
   "id": "a3ae73a1",
   "metadata": {},
   "outputs": [],
   "source": [
    "usage2_agewise=p3[p3['NumOfProducts']==2]['Age Group'].value_counts().reset_index().sort_values(by='index')\n",
    "usage2_agewise.rename(columns={'index':'Age Group','Age Group':'count'},inplace=True)\n",
    "usage2_agewise.plot(x='Age Group')\n",
    "plt.ylabel('Frequency')\n",
    "plt.title('Usage pattern of different customer segment according to age group of number of product = 2')\n",
    "plt.grid(True)"
   ]
  },
  {
   "cell_type": "code",
   "execution_count": null,
   "id": "d1c47b96",
   "metadata": {},
   "outputs": [],
   "source": [
    "usage3_agewise=p3[p3['NumOfProducts']==3]['Age Group'].value_counts().reset_index().sort_values(by='index')\n",
    "usage3_agewise.rename(columns={'index':'Age Group','Age Group':'count'},inplace=True)\n",
    "usage3_agewise.plot(x='Age Group')\n",
    "plt.ylabel('Frequency')\n",
    "plt.title('Usage pattern of different customer segment according to age group of number of product = 3')\n",
    "plt.grid(True)"
   ]
  },
  {
   "cell_type": "code",
   "execution_count": null,
   "id": "a5a5bb42",
   "metadata": {},
   "outputs": [],
   "source": [
    "usage4_agewise=p3[p3['NumOfProducts']==4]['Age Group'].value_counts().reset_index().sort_values(by='index')\n",
    "usage4_agewise.rename(columns={'index':'Age Group','Age Group':'count'},inplace=True)\n",
    "usage4_agewise.plot(x='Age Group')\n",
    "plt.ylabel('Frequency')\n",
    "plt.title('Usage pattern of different customer segment according to age group of number of product = 4')\n",
    "plt.grid(True)"
   ]
  },
  {
   "cell_type": "code",
   "execution_count": null,
   "id": "c0259250",
   "metadata": {},
   "outputs": [],
   "source": [
    "fig, axes=plt.subplots(figsize=(12,5))\n",
    "axes.plot(usage1_agewise['Age Group'], usage1_agewise['count'], label='NumOfProduct=1')\n",
    "axes.plot(usage2_agewise['Age Group'], usage2_agewise['count'], label='NumOfProduct=2')\n",
    "axes.plot(usage3_agewise['Age Group'], usage3_agewise['count'], label='NumOfProduct=3')\n",
    "axes.plot(usage4_agewise['Age Group'], usage4_agewise['count'], label='NumOfProduct=4')\n",
    "axes.set_xlabel('Age Group')\n",
    "axes.set_ylabel('Frequency')\n",
    "axes.set_title('Usage Pattern of different customer segment according to age group')\n",
    "axes.legend(title='Customer Segment')\n",
    "usage1_agewise"
   ]
  },
  {
   "cell_type": "markdown",
   "id": "d0acd2bb",
   "metadata": {},
   "source": [
    "## Financial Analysis:"
   ]
  },
  {
   "cell_type": "code",
   "execution_count": null,
   "id": "f8f1f264",
   "metadata": {},
   "outputs": [],
   "source": [
    "avg_acc_bal=p3['Balance'].mean().round(2)\n",
    "print(f'Average account Balance of the customers are {avg_acc_bal}')\n",
    "print(f'''\n",
    "Churned Customer:\n",
    "​\n",
    "Number of customer churned is {p3[p3['churned']==1]['churned'].sum()}\n",
    "​\n",
    "Average Credit Score is {p3[p3['churned']==1]['CreditScore'].mean().round()}\n",
    "Median Credit Score is {p3[p3['churned']==1]['CreditScore'].median()}\n",
    "Max and Min Credit Score is {p3[p3['churned']==1]['CreditScore'].max()} and {p3[p3['churned']==1]['CreditScore'].min()}\n",
    "Average Balance is {p3[p3['churned']==1]['Balance'].mean().round()}\n",
    "Average Tenure is {p3[p3['churned']==1]['Tenure'].mean().round()}\n",
    "Average Number of Product used is {p3[p3['churned']==1]['NumOfProducts'].mean().round()}\n",
    "Percentage of customers having credit card is {(p3[p3['churned']==1]['HasCrCard'].sum()/10000)*100}\n",
    "Number of person who is active member is {p3[p3['churned']==1]['IsActiveMember'].sum()}\n",
    "Average estimated Salary is {p3[p3['churned']==1]['EstimatedSalary'].mean().round()}\n",
    "​\n",
    "Non-Churned Customer:\n",
    "​\n",
    "Number of Non-churned customer is {len(p3[p3['churned']==0]['churned'])}\n",
    "​\n",
    "Average Credit Score is {p3[p3['churned']==0]['CreditScore'].mean().round()}\n",
    "Median Credit Score is {p3[p3['churned']==0]['CreditScore'].median()}\n",
    "Max and Min Credit Score is {p3[p3['churned']==0]['CreditScore'].max()} and {p3[p3['churned']==0]['CreditScore'].min()}\n",
    "Average Balance is {p3[p3['churned']==0]['Balance'].mean().round()}\n",
    "Average Tenure is {p3[p3['churned']==0]['Tenure'].mean().round()}\n",
    "Average Number of Product used is {p3[p3['churned']==0]['NumOfProducts'].mean().round()}\n",
    "Percentage of customers having credit card is {(p3[p3['churned']==0]['HasCrCard'].sum()/10000)*100}\n",
    "Number of person who is active member is {p3[p3['churned']==0]['IsActiveMember'].sum()}\n",
    "Average estimated Salary is {p3[p3['churned']==0]['EstimatedSalary'].mean().round()}\n",
    "​\n",
    "''')"
   ]
  },
  {
   "cell_type": "code",
   "execution_count": null,
   "id": "65ac6f1f",
   "metadata": {},
   "outputs": [],
   "source": [
    "p3['CustomerId'].nunique()"
   ]
  },
  {
   "cell_type": "markdown",
   "id": "4f190fb5",
   "metadata": {},
   "source": [
    "## Predictive Modeling:"
   ]
  },
  {
   "cell_type": "code",
   "execution_count": null,
   "id": "c1550959",
   "metadata": {},
   "outputs": [],
   "source": [
    "col=['CreditScore','Balance','EstimatedSalary']"
   ]
  },
  {
   "cell_type": "code",
   "execution_count": null,
   "id": "29916160",
   "metadata": {},
   "outputs": [],
   "source": [
    "fig, axes=plt.subplots(1,3)\n",
    "for i, col in enumerate(col):\n",
    "    axes[i].boxplot(x=col,data=p3)\n",
    "    axes[i].set_title(f'Box Plot of {col}')\n",
    "\n",
    "plt.tight_layout()\n",
    "plt.show()"
   ]
  },
  {
   "cell_type": "code",
   "execution_count": null,
   "id": "fd16d2b4",
   "metadata": {},
   "outputs": [],
   "source": [
    "p3.columns"
   ]
  },
  {
   "cell_type": "code",
   "execution_count": null,
   "id": "e9ccdc3a",
   "metadata": {},
   "outputs": [],
   "source": [
    "p3_new=p3.drop(['Surname','Age Group','RowNumber','CustomerId','num'],axis=1)\n",
    "p3_new.head()"
   ]
  },
  {
   "cell_type": "code",
   "execution_count": null,
   "id": "f0be7230",
   "metadata": {},
   "outputs": [],
   "source": [
    "p3_new.isnull().sum()"
   ]
  },
  {
   "cell_type": "code",
   "execution_count": null,
   "id": "70715e21",
   "metadata": {},
   "outputs": [],
   "source": [
    "cat_feats=['Geography','Gender']\n",
    "final_p3=pd.get_dummies(p3_new,columns=cat_feats,drop_first=True)\n",
    "final_p3.head()"
   ]
  },
  {
   "cell_type": "code",
   "execution_count": null,
   "id": "35aa37d6",
   "metadata": {},
   "outputs": [],
   "source": [
    "from statsmodels.stats.outliers_influence import variance_inflation_factor"
   ]
  },
  {
   "cell_type": "code",
   "execution_count": null,
   "id": "63367e98",
   "metadata": {},
   "outputs": [],
   "source": [
    "#function of VIF\n",
    "def calc_vif(X):\n",
    "\n",
    "    # Calculating VIF\n",
    "    vif = pd.DataFrame()\n",
    "    vif[\"variables\"] = X.columns\n",
    "    vif[\"VIF\"] = [variance_inflation_factor(X.values, i) for i in range(X.shape[1])]\n",
    "\n",
    "    return(vif)"
   ]
  },
  {
   "cell_type": "code",
   "execution_count": null,
   "id": "84b15d3d",
   "metadata": {},
   "outputs": [],
   "source": [
    "final_p3"
   ]
  },
  {
   "cell_type": "code",
   "execution_count": null,
   "id": "65f0b0af",
   "metadata": {},
   "outputs": [],
   "source": [
    "a = final_p3.drop(['churned','CreditScore','Age'], axis=1)\n",
    "a"
   ]
  },
  {
   "cell_type": "code",
   "execution_count": null,
   "id": "2444119c",
   "metadata": {},
   "outputs": [],
   "source": [
    "calc_vif(a)"
   ]
  },
  {
   "cell_type": "code",
   "execution_count": null,
   "id": "e4324e63",
   "metadata": {},
   "outputs": [],
   "source": [
    "final_p3=final_p3.drop(['CreditScore','Age'], axis=1)\n",
    "final_p3"
   ]
  },
  {
   "cell_type": "code",
   "execution_count": null,
   "id": "45ef7654",
   "metadata": {},
   "outputs": [],
   "source": [
    "from imblearn.over_sampling import SMOTE"
   ]
  },
  {
   "cell_type": "code",
   "execution_count": null,
   "id": "8bf93a76",
   "metadata": {},
   "outputs": [],
   "source": [
    "sm=SMOTE(sampling_strategy='minority', random_state=42)"
   ]
  },
  {
   "cell_type": "code",
   "execution_count": null,
   "id": "632469ac",
   "metadata": {},
   "outputs": [],
   "source": [
    "oversampled_X, oversampled_y=sm.fit_resample(final_p3.drop('churned',axis=1), final_p3['churned'])"
   ]
  },
  {
   "cell_type": "code",
   "execution_count": null,
   "id": "896b964d",
   "metadata": {},
   "outputs": [],
   "source": [
    "pd.DataFrame(oversampled_X)"
   ]
  },
  {
   "cell_type": "code",
   "execution_count": null,
   "id": "29d56ed5",
   "metadata": {},
   "outputs": [],
   "source": [
    "pd.DataFrame(oversampled_y)"
   ]
  },
  {
   "cell_type": "code",
   "execution_count": null,
   "id": "b8822eb3",
   "metadata": {},
   "outputs": [],
   "source": [
    "oversampled=pd.concat([pd.DataFrame(oversampled_X), pd.DataFrame(oversampled_y)], axis=1)"
   ]
  },
  {
   "cell_type": "code",
   "execution_count": null,
   "id": "a74558f6",
   "metadata": {},
   "outputs": [],
   "source": [
    "from sklearn.model_selection import train_test_split\n",
    "X=oversampled.drop('churned',axis=1)\n",
    "y=oversampled['churned']\n",
    "X_train, X_test, y_train, y_test=train_test_split(X, y, test_size=0.33, random_state=42)"
   ]
  },
  {
   "cell_type": "code",
   "execution_count": null,
   "id": "8e63878d",
   "metadata": {},
   "outputs": [],
   "source": [
    "from sklearn.linear_model import LogisticRegression\n",
    "logmodel=LogisticRegression()\n",
    "logmodel.fit(X_train,y_train)\n",
    "predictions=logmodel.predict(X_test)"
   ]
  },
  {
   "cell_type": "code",
   "execution_count": null,
   "id": "c1328c86",
   "metadata": {},
   "outputs": [],
   "source": [
    "from sklearn.metrics import classification_report, confusion_matrix\n",
    "print(classification_report(y_test,predictions))\n",
    "print(confusion_matrix(y_test,predictions))"
   ]
  },
  {
   "cell_type": "code",
   "execution_count": null,
   "id": "89c00652",
   "metadata": {},
   "outputs": [],
   "source": [
    "from sklearn.tree import DecisionTreeClassifier\n",
    "dtree=DecisionTreeClassifier()\n",
    "dtree.fit(X_train,y_train)\n",
    "pred=dtree.predict(X_test)"
   ]
  },
  {
   "cell_type": "code",
   "execution_count": null,
   "id": "d0b1778a",
   "metadata": {},
   "outputs": [],
   "source": [
    "print(classification_report(y_test,pred))\n",
    "print(confusion_matrix(y_test,pred))"
   ]
  },
  {
   "cell_type": "code",
   "execution_count": null,
   "id": "180eca73",
   "metadata": {},
   "outputs": [],
   "source": [
    "from sklearn.ensemble import RandomForestClassifier\n",
    "rfc=RandomForestClassifier()\n",
    "rfc.fit(X_train,y_train)\n",
    "pred1=rfc.predict(X_test)"
   ]
  },
  {
   "cell_type": "code",
   "execution_count": null,
   "id": "4cfd38c7",
   "metadata": {},
   "outputs": [],
   "source": [
    "print(classification_report(y_test,pred1))\n",
    "print(confusion_matrix(y_test,pred1))"
   ]
  },
  {
   "cell_type": "code",
   "execution_count": null,
   "id": "9a1e3715",
   "metadata": {},
   "outputs": [],
   "source": [
    "from pycaret.classification import *\n",
    "class_experiment = setup(final_p3, \n",
    "                       target = 'churned', \n",
    "                       session_id=42, \n",
    "                       experiment_name='customer churn model',\n",
    "                       normalize = True, \n",
    "                       transformation = True, \n",
    "                       remove_multicollinearity = True, #drop one of the two features that are highly correlated with each other\n",
    "                       multicollinearity_threshold = 0.5\n",
    "                           )"
   ]
  },
  {
   "cell_type": "code",
   "execution_count": null,
   "id": "225d1a5f",
   "metadata": {},
   "outputs": [],
   "source": [
    "best_model=compare_models()"
   ]
  },
  {
   "cell_type": "code",
   "execution_count": null,
   "id": "4ea9b2bd",
   "metadata": {},
   "outputs": [],
   "source": [
    "#max\n",
    "#Gradient Boosting Classifier(gbc)=acc(0.8616),auc(0.8593),prec(0.7768),f1(0.5685),kappa(0.4934),mcc(0.5202)\n",
    "#dt=recall(0.4887)"
   ]
  },
  {
   "cell_type": "code",
   "execution_count": null,
   "id": "271d6614",
   "metadata": {},
   "outputs": [],
   "source": [
    "rf=create_model('rf')"
   ]
  },
  {
   "cell_type": "code",
   "execution_count": null,
   "id": "d0b5c404",
   "metadata": {},
   "outputs": [],
   "source": [
    "rf=tune_model(rf,optimize='F1')"
   ]
  },
  {
   "cell_type": "code",
   "execution_count": null,
   "id": "c47c1e93",
   "metadata": {},
   "outputs": [],
   "source": [
    "plot_model(rf)"
   ]
  },
  {
   "cell_type": "code",
   "execution_count": null,
   "id": "73ee3159",
   "metadata": {},
   "outputs": [],
   "source": [
    "plot_model(rf,plot='feature')"
   ]
  },
  {
   "cell_type": "code",
   "execution_count": null,
   "id": "14dc532d",
   "metadata": {},
   "outputs": [],
   "source": [
    "print(evaluate_model(rf))"
   ]
  },
  {
   "cell_type": "code",
   "execution_count": null,
   "id": "9df471be",
   "metadata": {},
   "outputs": [],
   "source": [
    "interpret_model(rf)"
   ]
  },
  {
   "cell_type": "code",
   "execution_count": null,
   "id": "8e72b8c3",
   "metadata": {},
   "outputs": [],
   "source": []
  },
  {
   "cell_type": "code",
   "execution_count": null,
   "id": "a223a163",
   "metadata": {},
   "outputs": [],
   "source": []
  },
  {
   "cell_type": "code",
   "execution_count": null,
   "id": "ba087db7",
   "metadata": {},
   "outputs": [],
   "source": []
  },
  {
   "cell_type": "code",
   "execution_count": null,
   "id": "fcd3ef83",
   "metadata": {},
   "outputs": [],
   "source": []
  },
  {
   "cell_type": "code",
   "execution_count": null,
   "id": "4c1d3e05",
   "metadata": {},
   "outputs": [],
   "source": []
  },
  {
   "cell_type": "code",
   "execution_count": null,
   "id": "d31c1df3",
   "metadata": {},
   "outputs": [],
   "source": []
  },
  {
   "cell_type": "code",
   "execution_count": null,
   "id": "c7ddff7d",
   "metadata": {},
   "outputs": [],
   "source": []
  },
  {
   "cell_type": "code",
   "execution_count": null,
   "id": "b643adde",
   "metadata": {},
   "outputs": [],
   "source": []
  },
  {
   "cell_type": "code",
   "execution_count": null,
   "id": "b63e11f1",
   "metadata": {},
   "outputs": [],
   "source": []
  }
 ],
 "metadata": {
  "kernelspec": {
   "display_name": "Python 3 (ipykernel)",
   "language": "python",
   "name": "python3"
  },
  "language_info": {
   "codemirror_mode": {
    "name": "ipython",
    "version": 3
   },
   "file_extension": ".py",
   "mimetype": "text/x-python",
   "name": "python",
   "nbconvert_exporter": "python",
   "pygments_lexer": "ipython3",
   "version": "3.11.5"
  }
 },
 "nbformat": 4,
 "nbformat_minor": 5
}
